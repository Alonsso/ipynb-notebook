{
  "nbformat": 4,
  "nbformat_minor": 0,
  "metadata": {
    "colab": {
      "name": "2_Ejemplo notebook.ipynb",
      "provenance": [],
      "collapsed_sections": [],
      "include_colab_link": true
    },
    "kernelspec": {
      "name": "python3",
      "display_name": "Python 3"
    }
  },
  "cells": [
    {
      "cell_type": "markdown",
      "metadata": {
        "id": "view-in-github",
        "colab_type": "text"
      },
      "source": [
        "<a href=\"https://colab.research.google.com/github/Alonsso/ipynb-notebook/blob/main/2_Ejemplo_notebook.ipynb\" target=\"_parent\"><img src=\"https://colab.research.google.com/assets/colab-badge.svg\" alt=\"Open In Colab\"/></a>"
      ]
    },
    {
      "cell_type": "markdown",
      "metadata": {
        "id": "Zx3nOdDVlAME"
      },
      "source": [
        "# Notebook de ejemplo\n",
        "\n",
        "**Nota:** Este material no constituye un manual de referencia completo de Python o un curso de programación de computadores en general. Si usted no tiene experiencia programando en Python, se recomienda que revise primero otros materiales, por ejemplo: [CodeCademy: Learn Python (10 hours)](https://www.codecademy.com/courses/learn-python/lessons/python-syntax/exercises/welcome?action=lesson_resume).\n",
        "\n",
        "**Este notebook acompaña las explicaciones de la clase, no incluye explicaciones escritas**\n",
        "\n",
        "Se presentarán los siguientes temas básicos de Python:\n",
        "\n",
        "* Comentarios\n",
        "* Tipos de dato\n",
        "    * Números\n",
        "        * Asignación de variables\n",
        "    * Cadenas (Strings)\n",
        "        * Imprimiendo en pantalla\n",
        "        * Índices de cadenas\n",
        "        * Troceado de cadenas (Slicing)\n",
        "    * Listas\n",
        "    * Diccionarios\n",
        "    * Tuplas \n",
        "    * Conjuntos (Sets)\n",
        "    * Booleanos\n",
        "____"
      ]
    },
    {
      "cell_type": "markdown",
      "metadata": {
        "id": "OVlBUHXZlAMH"
      },
      "source": [
        "## Comentarios"
      ]
    },
    {
      "cell_type": "code",
      "metadata": {
        "id": "2bW21gyGlAMK",
        "colab": {
          "base_uri": "https://localhost:8080/"
        },
        "outputId": "71de3405-873d-46c9-9a4e-b1dbb549c941"
      },
      "source": [
        "# Este es un comentario de una sola línea en python\n",
        "print('Este es el') # Esto también es un comentario\n",
        " \n",
        "# Este es otro comentario en python\n",
        "# aunque lo hemos escrito en dos lineas\n",
        " \n",
        "\"\"\" Este es un comentario multilinea. La\n",
        "siguiente parte realiza una serie\n",
        "de cosas muy interesantes \"\"\"\n",
        "\n",
        "print('Curso rápido de')\n",
        "print('Python') \n"
      ],
      "execution_count": null,
      "outputs": [
        {
          "output_type": "stream",
          "text": [
            "Este es el\n",
            "Curso rápido de\n",
            "Python\n"
          ],
          "name": "stdout"
        }
      ]
    },
    {
      "cell_type": "markdown",
      "metadata": {
        "id": "KWbjjUgclAMV"
      },
      "source": [
        "## Tipos de dato\n",
        "\n",
        "### Números"
      ]
    },
    {
      "cell_type": "code",
      "metadata": {
        "id": "92gLZ1lSlAMY",
        "colab": {
          "base_uri": "https://localhost:8080/"
        },
        "outputId": "5308d989-4a92-4947-83b0-62559011b8a5"
      },
      "source": [
        "4 + 20"
      ],
      "execution_count": null,
      "outputs": [
        {
          "output_type": "execute_result",
          "data": {
            "text/plain": [
              "24"
            ]
          },
          "metadata": {
            "tags": []
          },
          "execution_count": 4
        }
      ]
    },
    {
      "cell_type": "code",
      "metadata": {
        "id": "L_JEn6IAlAMd",
        "colab": {
          "base_uri": "https://localhost:8080/"
        },
        "outputId": "61dfaf09-9813-40e7-956c-662037997a25"
      },
      "source": [
        "10 - 88"
      ],
      "execution_count": null,
      "outputs": [
        {
          "output_type": "execute_result",
          "data": {
            "text/plain": [
              "-78"
            ]
          },
          "metadata": {
            "tags": []
          },
          "execution_count": 6
        }
      ]
    },
    {
      "cell_type": "code",
      "metadata": {
        "id": "Suzi6DA2lAMl",
        "colab": {
          "base_uri": "https://localhost:8080/"
        },
        "outputId": "df132d3b-5d31-4fba-b898-517bece532ea"
      },
      "source": [
        "1 * 3"
      ],
      "execution_count": null,
      "outputs": [
        {
          "output_type": "execute_result",
          "data": {
            "text/plain": [
              "3"
            ]
          },
          "metadata": {
            "tags": []
          },
          "execution_count": 7
        }
      ]
    },
    {
      "cell_type": "code",
      "metadata": {
        "id": "QiHKh-9UlAMq",
        "colab": {
          "base_uri": "https://localhost:8080/"
        },
        "outputId": "1d4a1afa-1ad6-4378-b3df-5d0c12d16461"
      },
      "source": [
        "1 / 2"
      ],
      "execution_count": null,
      "outputs": [
        {
          "output_type": "execute_result",
          "data": {
            "text/plain": [
              "0.5"
            ]
          },
          "metadata": {
            "tags": []
          },
          "execution_count": 8
        }
      ]
    },
    {
      "cell_type": "code",
      "metadata": {
        "id": "iQe4Zf_ylAMw",
        "colab": {
          "base_uri": "https://localhost:8080/"
        },
        "outputId": "65b50d11-b634-4ebe-bc25-06bfd353cf08"
      },
      "source": [
        "2 ** 4 #Elevar"
      ],
      "execution_count": null,
      "outputs": [
        {
          "output_type": "execute_result",
          "data": {
            "text/plain": [
              "16"
            ]
          },
          "metadata": {
            "tags": []
          },
          "execution_count": 11
        }
      ]
    },
    {
      "cell_type": "code",
      "metadata": {
        "id": "jaEvdkKhlAM4",
        "colab": {
          "base_uri": "https://localhost:8080/"
        },
        "outputId": "b388e4a5-c191-4688-aece-7c44ae63e9c4"
      },
      "source": [
        "4 % 3 #Operación modulo, residuo, lo que sobra"
      ],
      "execution_count": null,
      "outputs": [
        {
          "output_type": "execute_result",
          "data": {
            "text/plain": [
              "1"
            ]
          },
          "metadata": {
            "tags": []
          },
          "execution_count": 12
        }
      ]
    },
    {
      "cell_type": "code",
      "metadata": {
        "id": "TP1GHHuAlANA",
        "colab": {
          "base_uri": "https://localhost:8080/"
        },
        "outputId": "d867ba0d-8166-4189-bcfa-9839c393f07b"
      },
      "source": [
        "5 % 2"
      ],
      "execution_count": null,
      "outputs": [
        {
          "output_type": "execute_result",
          "data": {
            "text/plain": [
              "1"
            ]
          },
          "metadata": {
            "tags": []
          },
          "execution_count": 13
        }
      ]
    },
    {
      "cell_type": "code",
      "metadata": {
        "id": "kAT7xuVelANF",
        "colab": {
          "base_uri": "https://localhost:8080/"
        },
        "outputId": "d2c3dfbb-6561-4d49-cc2b-1fd006c6a3f8"
      },
      "source": [
        "# Precedencia de operadores\n",
        "2 + 3 * 5 + 5"
      ],
      "execution_count": null,
      "outputs": [
        {
          "output_type": "execute_result",
          "data": {
            "text/plain": [
              "22"
            ]
          },
          "metadata": {
            "tags": []
          },
          "execution_count": 15
        }
      ]
    },
    {
      "cell_type": "code",
      "metadata": {
        "id": "6tI6Wf0YlANK",
        "colab": {
          "base_uri": "https://localhost:8080/"
        },
        "outputId": "9fc70625-276b-4664-d912-844b1985e27d"
      },
      "source": [
        "# Los paréntesis pueden modificar la precedencia\n",
        "(2 + 3) * (5 + 5)"
      ],
      "execution_count": null,
      "outputs": [
        {
          "output_type": "execute_result",
          "data": {
            "text/plain": [
              "50"
            ]
          },
          "metadata": {
            "tags": []
          },
          "execution_count": 16
        }
      ]
    },
    {
      "cell_type": "markdown",
      "metadata": {
        "id": "qwpv1duolAN_"
      },
      "source": [
        "#### Asignación de variables"
      ]
    },
    {
      "cell_type": "code",
      "metadata": {
        "id": "Jm9fDuE1lAN_"
      },
      "source": [
        "# Nombres de variables: no deben empezar con números ni símbolos especiales e.g. $\n",
        "variable = 2\n",
        "mi_var = 6"
      ],
      "execution_count": null,
      "outputs": []
    },
    {
      "cell_type": "code",
      "metadata": {
        "id": "6xbh_vUwlAOC"
      },
      "source": [
        "x = 2\n",
        "y = 3"
      ],
      "execution_count": null,
      "outputs": []
    },
    {
      "cell_type": "code",
      "metadata": {
        "id": "9De4bfZKlAOF"
      },
      "source": [
        "z = x + y"
      ],
      "execution_count": null,
      "outputs": []
    },
    {
      "cell_type": "code",
      "metadata": {
        "id": "fRMgfT8ulAOK",
        "colab": {
          "base_uri": "https://localhost:8080/"
        },
        "outputId": "e9e2bc7b-6e3a-455c-bc84-8a1cd7a9cacf"
      },
      "source": [
        "z"
      ],
      "execution_count": null,
      "outputs": [
        {
          "output_type": "execute_result",
          "data": {
            "text/plain": [
              "5"
            ]
          },
          "metadata": {
            "tags": []
          },
          "execution_count": 24
        }
      ]
    },
    {
      "cell_type": "markdown",
      "metadata": {
        "id": "GKpQP7oJlAON"
      },
      "source": [
        "### Cadenas (Strings)"
      ]
    },
    {
      "cell_type": "code",
      "metadata": {
        "id": "lngs4OzAlAOO",
        "colab": {
          "base_uri": "https://localhost:8080/",
          "height": 35
        },
        "outputId": "83fb3772-b6cf-45d7-94d0-1992eeb8f8dc"
      },
      "source": [
        "'comilla simple'"
      ],
      "execution_count": null,
      "outputs": [
        {
          "output_type": "execute_result",
          "data": {
            "application/vnd.google.colaboratory.intrinsic+json": {
              "type": "string"
            },
            "text/plain": [
              "'comilla simple'"
            ]
          },
          "metadata": {
            "tags": []
          },
          "execution_count": 25
        }
      ]
    },
    {
      "cell_type": "code",
      "metadata": {
        "id": "wN-RKcH2lAOS",
        "colab": {
          "base_uri": "https://localhost:8080/",
          "height": 35
        },
        "outputId": "2954bec6-abf3-49f4-eae4-8b60957a4373"
      },
      "source": [
        "\"comillas dobles\""
      ],
      "execution_count": null,
      "outputs": [
        {
          "output_type": "execute_result",
          "data": {
            "application/vnd.google.colaboratory.intrinsic+json": {
              "type": "string"
            },
            "text/plain": [
              "'comillas dobles'"
            ]
          },
          "metadata": {
            "tags": []
          },
          "execution_count": 26
        }
      ]
    },
    {
      "cell_type": "code",
      "metadata": {
        "id": "RYQrpSvvlAOU",
        "colab": {
          "base_uri": "https://localhost:8080/",
          "height": 35
        },
        "outputId": "c11fe44b-3584-400a-bb02-09827c9d692e"
      },
      "source": [
        "'uso del caracter de escape para escribir el caracter de comilla simple\\' dentro de una cadena con comilla simple'"
      ],
      "execution_count": null,
      "outputs": [
        {
          "output_type": "execute_result",
          "data": {
            "application/vnd.google.colaboratory.intrinsic+json": {
              "type": "string"
            },
            "text/plain": [
              "\"uso del caracter de escape para escribir el caracter de comilla simple' dentro de una cadena con comilla simple\""
            ]
          },
          "metadata": {
            "tags": []
          },
          "execution_count": 28
        }
      ]
    },
    {
      "cell_type": "code",
      "metadata": {
        "id": "H98itH0HlAOW",
        "colab": {
          "base_uri": "https://localhost:8080/",
          "height": 35
        },
        "outputId": "b339351c-0392-4f17-f255-8bceb594de1a"
      },
      "source": [
        "\"usando comillas dobles no es necesario el caracter de escape para escribir el caracter de comilla simple \\\" dentro de una cadena\""
      ],
      "execution_count": null,
      "outputs": [
        {
          "output_type": "execute_result",
          "data": {
            "application/vnd.google.colaboratory.intrinsic+json": {
              "type": "string"
            },
            "text/plain": [
              "'usando comillas dobles no es necesario el caracter de escape para escribir el caracter de comilla simple \" dentro de una cadena'"
            ]
          },
          "metadata": {
            "tags": []
          },
          "execution_count": 30
        }
      ]
    },
    {
      "cell_type": "markdown",
      "metadata": {
        "id": "04DrbuoLlAOZ"
      },
      "source": [
        "#### Imprimiendo en pantalla"
      ]
    },
    {
      "cell_type": "code",
      "metadata": {
        "id": "DnRfOvN4lAOZ"
      },
      "source": [
        "x = 'hello'"
      ],
      "execution_count": null,
      "outputs": []
    },
    {
      "cell_type": "code",
      "metadata": {
        "id": "XiYZ34cclAOb",
        "colab": {
          "base_uri": "https://localhost:8080/",
          "height": 35
        },
        "outputId": "2c9f0c7b-2d9c-4841-c20a-f78c6236b604"
      },
      "source": [
        "x"
      ],
      "execution_count": null,
      "outputs": [
        {
          "output_type": "execute_result",
          "data": {
            "application/vnd.google.colaboratory.intrinsic+json": {
              "type": "string"
            },
            "text/plain": [
              "'hello'"
            ]
          },
          "metadata": {
            "tags": []
          },
          "execution_count": 32
        }
      ]
    },
    {
      "cell_type": "code",
      "metadata": {
        "id": "8FfepsgWlAOc",
        "colab": {
          "base_uri": "https://localhost:8080/"
        },
        "outputId": "8f5e7614-f0b1-42ae-cd56-8b917496482d"
      },
      "source": [
        "print(x)"
      ],
      "execution_count": null,
      "outputs": [
        {
          "output_type": "stream",
          "text": [
            "hello\n"
          ],
          "name": "stdout"
        }
      ]
    },
    {
      "cell_type": "code",
      "metadata": {
        "id": "bq8k1K3WlAOe"
      },
      "source": [
        "num = 12\n",
        "name = 'Felipe'"
      ],
      "execution_count": null,
      "outputs": []
    },
    {
      "cell_type": "code",
      "metadata": {
        "id": "mDeKgWUjlAOg",
        "colab": {
          "base_uri": "https://localhost:8080/"
        },
        "outputId": "9c1ec0d6-c8bf-4be0-fae7-5408878b43a7"
      },
      "source": [
        "print('Mi número es: {} y mi nombre es: {}'.format(num,name))"
      ],
      "execution_count": null,
      "outputs": [
        {
          "output_type": "stream",
          "text": [
            "Mi número es: 12 y mi nombre es: Felipe\n"
          ],
          "name": "stdout"
        }
      ]
    },
    {
      "cell_type": "code",
      "metadata": {
        "id": "7FGNDY6FlAOi",
        "colab": {
          "base_uri": "https://localhost:8080/"
        },
        "outputId": "77fc8ff6-c1eb-48d8-afb9-102e0b115f5d"
      },
      "source": [
        "print('Mi número es: {uno} y mi nombre es: {dos}'.format(uno=num,dos=name))"
      ],
      "execution_count": null,
      "outputs": [
        {
          "output_type": "stream",
          "text": [
            "Mi número es: 12 y mi nombre es: Felipe\n"
          ],
          "name": "stdout"
        }
      ]
    },
    {
      "cell_type": "code",
      "metadata": {
        "id": "cCsqnYJClAOl",
        "colab": {
          "base_uri": "https://localhost:8080/"
        },
        "outputId": "2e1dcdb6-8d82-4ca2-ce70-7274d2523f59"
      },
      "source": [
        "print('Mi número es: {uno} y mi nombre es: {dos}, otra vez el número: {uno}'.format(uno=num, dos=name))"
      ],
      "execution_count": null,
      "outputs": [
        {
          "output_type": "stream",
          "text": [
            "Mi número es: 12 y mi nombre es: Felipe, otra vez el número: 12\n"
          ],
          "name": "stdout"
        }
      ]
    },
    {
      "cell_type": "code",
      "metadata": {
        "id": "bNgzpBMdlAOm",
        "colab": {
          "base_uri": "https://localhost:8080/"
        },
        "outputId": "e8e5a19a-b6da-436a-ea8c-142b60d864c7"
      },
      "source": [
        "print(\"Mi número es: %d y mi nombre es: %s\" % (num,name)) "
      ],
      "execution_count": null,
      "outputs": [
        {
          "output_type": "stream",
          "text": [
            "Mi número es: 12 y mi nombre es: Felipe\n"
          ],
          "name": "stdout"
        }
      ]
    },
    {
      "cell_type": "markdown",
      "metadata": {
        "id": "qOYlS-XalAOo"
      },
      "source": [
        "#### Índices de cadenas"
      ]
    },
    {
      "cell_type": "code",
      "metadata": {
        "id": "WyBz9jZhlAOp"
      },
      "source": [
        "s = \"Introducción al Análisis y Visualización de Datos con Python\""
      ],
      "execution_count": null,
      "outputs": []
    },
    {
      "cell_type": "code",
      "metadata": {
        "id": "WdSQhirRlAOq",
        "colab": {
          "base_uri": "https://localhost:8080/",
          "height": 35
        },
        "outputId": "64135e58-507c-4a14-ec93-29d761a1a898"
      },
      "source": [
        "s[0]"
      ],
      "execution_count": null,
      "outputs": [
        {
          "output_type": "execute_result",
          "data": {
            "application/vnd.google.colaboratory.intrinsic+json": {
              "type": "string"
            },
            "text/plain": [
              "'I'"
            ]
          },
          "metadata": {
            "tags": []
          },
          "execution_count": 41
        }
      ]
    },
    {
      "cell_type": "code",
      "metadata": {
        "id": "vQWGF14elAOs",
        "colab": {
          "base_uri": "https://localhost:8080/",
          "height": 35
        },
        "outputId": "d5bfe416-80b6-41cd-9b66-82e93b37bc87"
      },
      "source": [
        "s[3]"
      ],
      "execution_count": null,
      "outputs": [
        {
          "output_type": "execute_result",
          "data": {
            "application/vnd.google.colaboratory.intrinsic+json": {
              "type": "string"
            },
            "text/plain": [
              "'r'"
            ]
          },
          "metadata": {
            "tags": []
          },
          "execution_count": 42
        }
      ]
    },
    {
      "cell_type": "markdown",
      "metadata": {
        "id": "pEJ05aLxlAOt"
      },
      "source": [
        "#### Troceado de cadenas (Slicing)\n",
        "\n",
        "** cadena[inicio:fin:paso] **\n",
        "* inicio (incluído)\n",
        "* fin (excluído)\n",
        "\n",
        "Valores por defecto: \n",
        "* inicio = 0\n",
        "* fin = longitud cadena\n",
        "* paso = 1 (puede ser negativo para empezar desde el final de la cadena hacia la izquierda)"
      ]
    },
    {
      "cell_type": "code",
      "metadata": {
        "id": "E66sRKNNlAOv",
        "colab": {
          "base_uri": "https://localhost:8080/",
          "height": 35
        },
        "outputId": "b6499079-3dbc-4cc1-d7df-aeb3adc09e6d"
      },
      "source": [
        "s[0:10]"
      ],
      "execution_count": null,
      "outputs": [
        {
          "output_type": "execute_result",
          "data": {
            "application/vnd.google.colaboratory.intrinsic+json": {
              "type": "string"
            },
            "text/plain": [
              "'Introducci'"
            ]
          },
          "metadata": {
            "tags": []
          },
          "execution_count": 43
        }
      ]
    },
    {
      "cell_type": "code",
      "metadata": {
        "id": "UbEv3GimlAOy",
        "colab": {
          "base_uri": "https://localhost:8080/",
          "height": 35
        },
        "outputId": "85a570d7-7571-469c-8c49-2470ab39eaa2"
      },
      "source": [
        "s[:10]"
      ],
      "execution_count": null,
      "outputs": [
        {
          "output_type": "execute_result",
          "data": {
            "application/vnd.google.colaboratory.intrinsic+json": {
              "type": "string"
            },
            "text/plain": [
              "'Introducci'"
            ]
          },
          "metadata": {
            "tags": []
          },
          "execution_count": 44
        }
      ]
    },
    {
      "cell_type": "code",
      "metadata": {
        "id": "pPVoEJCHlAO0",
        "colab": {
          "base_uri": "https://localhost:8080/",
          "height": 35
        },
        "outputId": "a5ea9625-de43-4dca-adb5-27564345d33e"
      },
      "source": [
        "s[:]"
      ],
      "execution_count": null,
      "outputs": [
        {
          "output_type": "execute_result",
          "data": {
            "application/vnd.google.colaboratory.intrinsic+json": {
              "type": "string"
            },
            "text/plain": [
              "'Introducción al Análisis y Visualización de Datos con Python'"
            ]
          },
          "metadata": {
            "tags": []
          },
          "execution_count": 45
        }
      ]
    },
    {
      "cell_type": "code",
      "metadata": {
        "id": "bjSrq1IilAO2",
        "colab": {
          "base_uri": "https://localhost:8080/",
          "height": 35
        },
        "outputId": "8b2f87cb-0d09-4b94-870f-a255221e243c"
      },
      "source": [
        "s[0::2]"
      ],
      "execution_count": null,
      "outputs": [
        {
          "output_type": "execute_result",
          "data": {
            "application/vnd.google.colaboratory.intrinsic+json": {
              "type": "string"
            },
            "text/plain": [
              "'Itoucó lAáii  iulzcó eDtscnPto'"
            ]
          },
          "metadata": {
            "tags": []
          },
          "execution_count": 46
        }
      ]
    },
    {
      "cell_type": "code",
      "metadata": {
        "id": "89l6qN_slAO4",
        "colab": {
          "base_uri": "https://localhost:8080/",
          "height": 35
        },
        "outputId": "c2d86b0c-12e8-43fc-e120-2d21e711df9b"
      },
      "source": [
        "s[::-1]"
      ],
      "execution_count": null,
      "outputs": [
        {
          "output_type": "execute_result",
          "data": {
            "application/vnd.google.colaboratory.intrinsic+json": {
              "type": "string"
            },
            "text/plain": [
              "'nohtyP noc sotaD ed nóicazilausiV y sisilánA la nóiccudortnI'"
            ]
          },
          "metadata": {
            "tags": []
          },
          "execution_count": 47
        }
      ]
    },
    {
      "cell_type": "code",
      "metadata": {
        "id": "DuGtHOQulAO7"
      },
      "source": [
        "cad = \"Amor a Roma\""
      ],
      "execution_count": null,
      "outputs": []
    },
    {
      "cell_type": "code",
      "metadata": {
        "id": "sqQg6PI0lAO9",
        "colab": {
          "base_uri": "https://localhost:8080/",
          "height": 35
        },
        "outputId": "12bd40d8-c6b0-486e-fafe-e8db6fecd0fe"
      },
      "source": [
        "cad[::-1]"
      ],
      "execution_count": null,
      "outputs": [
        {
          "output_type": "execute_result",
          "data": {
            "application/vnd.google.colaboratory.intrinsic+json": {
              "type": "string"
            },
            "text/plain": [
              "'amoR a romA'"
            ]
          },
          "metadata": {
            "tags": []
          },
          "execution_count": 50
        }
      ]
    },
    {
      "cell_type": "code",
      "metadata": {
        "id": "mX9nS731lAO_"
      },
      "source": [
        "oculto = \"!XeXgXaXsXsXeXmX XtXeXrXcXeXsX XeXhXtX XmXaX XI\""
      ],
      "execution_count": null,
      "outputs": []
    },
    {
      "cell_type": "code",
      "metadata": {
        "id": "x0d3tWlRlAPA",
        "colab": {
          "base_uri": "https://localhost:8080/",
          "height": 35
        },
        "outputId": "65fe99ac-6158-47d1-f233-1993af625f72"
      },
      "source": [
        "mensaje = oculto[::-2]\n",
        "mensaje"
      ],
      "execution_count": null,
      "outputs": [
        {
          "output_type": "execute_result",
          "data": {
            "application/vnd.google.colaboratory.intrinsic+json": {
              "type": "string"
            },
            "text/plain": [
              "'I am the secret message!'"
            ]
          },
          "metadata": {
            "tags": []
          },
          "execution_count": 55
        }
      ]
    },
    {
      "cell_type": "code",
      "metadata": {
        "colab": {
          "base_uri": "https://localhost:8080/",
          "height": 35
        },
        "id": "fUa2b-uGOEoP",
        "outputId": "47ae7c84-8a67-4b2e-c073-fdb3f53f7323"
      },
      "source": [
        "texto = 'hola'\n",
        "numero = 4\n",
        "texto + str(numero)"
      ],
      "execution_count": null,
      "outputs": [
        {
          "output_type": "execute_result",
          "data": {
            "application/vnd.google.colaboratory.intrinsic+json": {
              "type": "string"
            },
            "text/plain": [
              "'hola4'"
            ]
          },
          "metadata": {
            "tags": []
          },
          "execution_count": 57
        }
      ]
    },
    {
      "cell_type": "markdown",
      "metadata": {
        "id": "rs2jxXiglAPD"
      },
      "source": [
        "### Listas"
      ]
    },
    {
      "cell_type": "code",
      "metadata": {
        "id": "BFZsvnZylAPD",
        "colab": {
          "base_uri": "https://localhost:8080/"
        },
        "outputId": "8ec80975-0f09-4122-fbca-9627587fedd8"
      },
      "source": [
        "[1,2,3]"
      ],
      "execution_count": null,
      "outputs": [
        {
          "output_type": "execute_result",
          "data": {
            "text/plain": [
              "[1, 2, 3]"
            ]
          },
          "metadata": {
            "tags": []
          },
          "execution_count": 58
        }
      ]
    },
    {
      "cell_type": "code",
      "metadata": {
        "id": "idsL9MuXlAPE",
        "colab": {
          "base_uri": "https://localhost:8080/"
        },
        "outputId": "64d02def-bfc3-4199-a0f7-6a68f4e3e0b4"
      },
      "source": [
        "['a','b','c']"
      ],
      "execution_count": null,
      "outputs": [
        {
          "output_type": "execute_result",
          "data": {
            "text/plain": [
              "['a', 'b', 'c']"
            ]
          },
          "metadata": {
            "tags": []
          },
          "execution_count": 59
        }
      ]
    },
    {
      "cell_type": "code",
      "metadata": {
        "id": "FWAuW1qtlAPG",
        "colab": {
          "base_uri": "https://localhost:8080/"
        },
        "outputId": "141fc8f8-4564-4d19-af6c-dd933eb79af7"
      },
      "source": [
        "['hi',1,[1,2]]"
      ],
      "execution_count": null,
      "outputs": [
        {
          "output_type": "execute_result",
          "data": {
            "text/plain": [
              "['hi', 1, [1, 2]]"
            ]
          },
          "metadata": {
            "tags": []
          },
          "execution_count": 60
        }
      ]
    },
    {
      "cell_type": "code",
      "metadata": {
        "id": "ZSkMuKlJlAPI"
      },
      "source": [
        "my_list = ['a','b','c']"
      ],
      "execution_count": null,
      "outputs": []
    },
    {
      "cell_type": "code",
      "metadata": {
        "id": "c-_AbKnVlAPJ",
        "colab": {
          "base_uri": "https://localhost:8080/"
        },
        "outputId": "92044902-0a62-44c6-ad2b-478270651132"
      },
      "source": [
        "my_list"
      ],
      "execution_count": null,
      "outputs": [
        {
          "output_type": "execute_result",
          "data": {
            "text/plain": [
              "['a', 'b', 'c']"
            ]
          },
          "metadata": {
            "tags": []
          },
          "execution_count": 62
        }
      ]
    },
    {
      "cell_type": "code",
      "metadata": {
        "id": "Y-G_Th2glAPK"
      },
      "source": [
        "my_list.append('d')"
      ],
      "execution_count": null,
      "outputs": []
    },
    {
      "cell_type": "code",
      "metadata": {
        "id": "qHCZVIpilAPP",
        "colab": {
          "base_uri": "https://localhost:8080/"
        },
        "outputId": "5763786b-6627-434e-f650-ca78c74571b3"
      },
      "source": [
        "my_list"
      ],
      "execution_count": null,
      "outputs": [
        {
          "output_type": "execute_result",
          "data": {
            "text/plain": [
              "['a', 'b', 'c', 'd']"
            ]
          },
          "metadata": {
            "tags": []
          },
          "execution_count": 64
        }
      ]
    },
    {
      "cell_type": "code",
      "metadata": {
        "id": "caV-cudylAPP",
        "colab": {
          "base_uri": "https://localhost:8080/",
          "height": 35
        },
        "outputId": "db6ebec8-daa0-4f5b-ae3e-e7276497df77"
      },
      "source": [
        "my_list[0]"
      ],
      "execution_count": null,
      "outputs": [
        {
          "output_type": "execute_result",
          "data": {
            "application/vnd.google.colaboratory.intrinsic+json": {
              "type": "string"
            },
            "text/plain": [
              "'a'"
            ]
          },
          "metadata": {
            "tags": []
          },
          "execution_count": 65
        }
      ]
    },
    {
      "cell_type": "code",
      "metadata": {
        "id": "AoXO86qolAPS",
        "colab": {
          "base_uri": "https://localhost:8080/",
          "height": 35
        },
        "outputId": "a2d30626-d264-4990-f0a7-e546c4241060"
      },
      "source": [
        "my_list[-1]"
      ],
      "execution_count": null,
      "outputs": [
        {
          "output_type": "execute_result",
          "data": {
            "application/vnd.google.colaboratory.intrinsic+json": {
              "type": "string"
            },
            "text/plain": [
              "'d'"
            ]
          },
          "metadata": {
            "tags": []
          },
          "execution_count": 67
        }
      ]
    },
    {
      "cell_type": "code",
      "metadata": {
        "id": "5USBDT2HlAPU",
        "colab": {
          "base_uri": "https://localhost:8080/"
        },
        "outputId": "8e887d6d-5823-45c6-e839-aba43ab65414"
      },
      "source": [
        "my_list[1:]"
      ],
      "execution_count": null,
      "outputs": [
        {
          "output_type": "execute_result",
          "data": {
            "text/plain": [
              "['b', 'c', 'd']"
            ]
          },
          "metadata": {
            "tags": []
          },
          "execution_count": 69
        }
      ]
    },
    {
      "cell_type": "code",
      "metadata": {
        "id": "gM2-XGYWlAPV",
        "colab": {
          "base_uri": "https://localhost:8080/"
        },
        "outputId": "c0ae4132-e303-49ab-b4ed-7c4a6cbeb244"
      },
      "source": [
        "my_list[:1]"
      ],
      "execution_count": null,
      "outputs": [
        {
          "output_type": "execute_result",
          "data": {
            "text/plain": [
              "['a']"
            ]
          },
          "metadata": {
            "tags": []
          },
          "execution_count": 71
        }
      ]
    },
    {
      "cell_type": "code",
      "metadata": {
        "id": "0O6dJw-BlAPW"
      },
      "source": [
        "my_list[0] = 'NEW'"
      ],
      "execution_count": null,
      "outputs": []
    },
    {
      "cell_type": "code",
      "metadata": {
        "id": "C0gnif4qlAPZ",
        "colab": {
          "base_uri": "https://localhost:8080/"
        },
        "outputId": "6563865c-0ad6-4338-fde7-9a88a82e88c3"
      },
      "source": [
        "my_list"
      ],
      "execution_count": null,
      "outputs": [
        {
          "output_type": "execute_result",
          "data": {
            "text/plain": [
              "['NEW', 'b', 'c', 'd']"
            ]
          },
          "metadata": {
            "tags": []
          },
          "execution_count": 73
        }
      ]
    },
    {
      "cell_type": "code",
      "metadata": {
        "id": "ycHr2THnlAPa"
      },
      "source": [
        "anidada = [1,2,[3,4],5]"
      ],
      "execution_count": null,
      "outputs": []
    },
    {
      "cell_type": "code",
      "metadata": {
        "id": "zNfldNWQlAPa",
        "colab": {
          "base_uri": "https://localhost:8080/"
        },
        "outputId": "17cbe8f5-cae3-4edf-f8f7-72e354c34285"
      },
      "source": [
        "anidada[2]"
      ],
      "execution_count": null,
      "outputs": [
        {
          "output_type": "execute_result",
          "data": {
            "text/plain": [
              "[3, 4]"
            ]
          },
          "metadata": {
            "tags": []
          },
          "execution_count": 78
        }
      ]
    },
    {
      "cell_type": "code",
      "metadata": {
        "id": "sMdk2z_hlAPc",
        "colab": {
          "base_uri": "https://localhost:8080/"
        },
        "outputId": "03157b04-36b2-4d92-8446-a511054ddeb6"
      },
      "source": [
        "anidada[2][1]"
      ],
      "execution_count": null,
      "outputs": [
        {
          "output_type": "execute_result",
          "data": {
            "text/plain": [
              "4"
            ]
          },
          "metadata": {
            "tags": []
          },
          "execution_count": 80
        }
      ]
    },
    {
      "cell_type": "code",
      "metadata": {
        "id": "EB2HzzyilAPc"
      },
      "source": [
        "anidada = [1,2,3,[4,5,['target']]]"
      ],
      "execution_count": null,
      "outputs": []
    },
    {
      "cell_type": "code",
      "metadata": {
        "id": "qL_ZcKAqlAPe",
        "colab": {
          "base_uri": "https://localhost:8080/"
        },
        "outputId": "6f3b096a-3ab3-4864-e6e9-eb6453713dc1"
      },
      "source": [
        "anidada[3]"
      ],
      "execution_count": null,
      "outputs": [
        {
          "output_type": "execute_result",
          "data": {
            "text/plain": [
              "[4, 5, ['target']]"
            ]
          },
          "metadata": {
            "tags": []
          },
          "execution_count": 84
        }
      ]
    },
    {
      "cell_type": "code",
      "metadata": {
        "id": "M0cvnY21lAPh",
        "colab": {
          "base_uri": "https://localhost:8080/"
        },
        "outputId": "05b81a50-f2b9-4733-9f29-8a2d49d73f0f"
      },
      "source": [
        "anidada[3][2]"
      ],
      "execution_count": null,
      "outputs": [
        {
          "output_type": "execute_result",
          "data": {
            "text/plain": [
              "['target']"
            ]
          },
          "metadata": {
            "tags": []
          },
          "execution_count": 85
        }
      ]
    },
    {
      "cell_type": "code",
      "metadata": {
        "id": "kzCyuf25lAPi",
        "colab": {
          "base_uri": "https://localhost:8080/",
          "height": 35
        },
        "outputId": "b5034e2f-26fd-4284-a829-71135d161928"
      },
      "source": [
        "anidada[3][2][0]"
      ],
      "execution_count": null,
      "outputs": [
        {
          "output_type": "execute_result",
          "data": {
            "application/vnd.google.colaboratory.intrinsic+json": {
              "type": "string"
            },
            "text/plain": [
              "'target'"
            ]
          },
          "metadata": {
            "tags": []
          },
          "execution_count": 86
        }
      ]
    },
    {
      "cell_type": "markdown",
      "metadata": {
        "id": "2LLmvlrqlAPk"
      },
      "source": [
        "### Diccionarios"
      ]
    },
    {
      "cell_type": "code",
      "metadata": {
        "id": "rrSE_1Q4lAPk"
      },
      "source": [
        "d = {'key1':'item1','key2':1000}"
      ],
      "execution_count": null,
      "outputs": []
    },
    {
      "cell_type": "code",
      "metadata": {
        "id": "ADPzCHKRlAPl",
        "colab": {
          "base_uri": "https://localhost:8080/",
          "height": 164
        },
        "outputId": "1c29b925-02fa-400e-ece1-976a05123e92"
      },
      "source": [
        "d[0] # no funcionará"
      ],
      "execution_count": null,
      "outputs": [
        {
          "output_type": "error",
          "ename": "KeyError",
          "evalue": "ignored",
          "traceback": [
            "\u001b[0;31m---------------------------------------------------------------------------\u001b[0m",
            "\u001b[0;31mKeyError\u001b[0m                                  Traceback (most recent call last)",
            "\u001b[0;32m<ipython-input-112-384abbd0fc57>\u001b[0m in \u001b[0;36m<module>\u001b[0;34m()\u001b[0m\n\u001b[0;32m----> 1\u001b[0;31m \u001b[0md\u001b[0m\u001b[0;34m[\u001b[0m\u001b[0;36m0\u001b[0m\u001b[0;34m]\u001b[0m \u001b[0;31m# no funcionará\u001b[0m\u001b[0;34m\u001b[0m\u001b[0;34m\u001b[0m\u001b[0m\n\u001b[0m",
            "\u001b[0;31mKeyError\u001b[0m: 0"
          ]
        }
      ]
    },
    {
      "cell_type": "code",
      "metadata": {
        "id": "cOrQ9DielAPn",
        "colab": {
          "base_uri": "https://localhost:8080/",
          "height": 35
        },
        "outputId": "c41992c3-58a0-42cc-887f-3ac87f199846"
      },
      "source": [
        "d['key1']"
      ],
      "execution_count": null,
      "outputs": [
        {
          "output_type": "execute_result",
          "data": {
            "application/vnd.google.colaboratory.intrinsic+json": {
              "type": "string"
            },
            "text/plain": [
              "'item1'"
            ]
          },
          "metadata": {
            "tags": []
          },
          "execution_count": 113
        }
      ]
    },
    {
      "cell_type": "code",
      "metadata": {
        "id": "gOV8MikolAPp",
        "colab": {
          "base_uri": "https://localhost:8080/"
        },
        "outputId": "eaed77ac-18bc-422f-f5bf-51b79f4b92e7"
      },
      "source": [
        "d['key2']"
      ],
      "execution_count": null,
      "outputs": [
        {
          "output_type": "execute_result",
          "data": {
            "text/plain": [
              "1000"
            ]
          },
          "metadata": {
            "tags": []
          },
          "execution_count": 114
        }
      ]
    },
    {
      "cell_type": "code",
      "metadata": {
        "id": "y-FI5oqGlAPp",
        "colab": {
          "base_uri": "https://localhost:8080/"
        },
        "outputId": "d6ed1803-08c2-44d7-9dbc-eef95555eae2"
      },
      "source": [
        "d"
      ],
      "execution_count": null,
      "outputs": [
        {
          "output_type": "execute_result",
          "data": {
            "text/plain": [
              "{'key1': 'item1', 'key2': 1000}"
            ]
          },
          "metadata": {
            "tags": []
          },
          "execution_count": 115
        }
      ]
    },
    {
      "cell_type": "code",
      "metadata": {
        "id": "VijJfjI3lAPr"
      },
      "source": [
        "d = {'k1':[1, 2, 3, 4, 5], 'k2': 'Hola'}"
      ],
      "execution_count": null,
      "outputs": []
    },
    {
      "cell_type": "code",
      "metadata": {
        "id": "bbbujCxJlAPt",
        "colab": {
          "base_uri": "https://localhost:8080/"
        },
        "outputId": "51ee2037-075d-4a9e-e6c7-b192872c20a1"
      },
      "source": [
        "d['k1']"
      ],
      "execution_count": null,
      "outputs": [
        {
          "output_type": "execute_result",
          "data": {
            "text/plain": [
              "[1, 2, 3, 4, 5]"
            ]
          },
          "metadata": {
            "tags": []
          },
          "execution_count": 120
        }
      ]
    },
    {
      "cell_type": "code",
      "metadata": {
        "id": "8uYc18V7lAPu",
        "colab": {
          "base_uri": "https://localhost:8080/"
        },
        "outputId": "5ac4a05d-89c9-477c-c7f4-f9fe80d43a9a"
      },
      "source": [
        "d['k1'][3]"
      ],
      "execution_count": null,
      "outputs": [
        {
          "output_type": "execute_result",
          "data": {
            "text/plain": [
              "4"
            ]
          },
          "metadata": {
            "tags": []
          },
          "execution_count": 121
        }
      ]
    },
    {
      "cell_type": "code",
      "metadata": {
        "id": "kPRgx3OTlAPv"
      },
      "source": [
        "lista = d['k1']"
      ],
      "execution_count": null,
      "outputs": []
    },
    {
      "cell_type": "code",
      "metadata": {
        "id": "8FvN36lGlAPv",
        "colab": {
          "base_uri": "https://localhost:8080/"
        },
        "outputId": "3743aaf0-0f60-4976-ef0b-544979765255"
      },
      "source": [
        "lista"
      ],
      "execution_count": null,
      "outputs": [
        {
          "output_type": "execute_result",
          "data": {
            "text/plain": [
              "[1, 2, 3, 4, 5]"
            ]
          },
          "metadata": {
            "tags": []
          },
          "execution_count": 125
        }
      ]
    },
    {
      "cell_type": "code",
      "metadata": {
        "id": "WeATfw72lAPw",
        "colab": {
          "base_uri": "https://localhost:8080/"
        },
        "outputId": "e082307d-7a74-4b18-a766-8675bd0ecb11"
      },
      "source": [
        "lista[3]"
      ],
      "execution_count": null,
      "outputs": [
        {
          "output_type": "execute_result",
          "data": {
            "text/plain": [
              "4"
            ]
          },
          "metadata": {
            "tags": []
          },
          "execution_count": 126
        }
      ]
    },
    {
      "cell_type": "code",
      "metadata": {
        "id": "7rn_6UNClAPz",
        "colab": {
          "base_uri": "https://localhost:8080/"
        },
        "outputId": "b0e3f5e9-be82-4463-fdae-3a831896454c"
      },
      "source": [
        "# un diccionario anidado dentro de otro diccionario\n",
        "d = {'k1':{'innerkey1':[1, 2, 3, 10]}}\n",
        "d['k1']['innerkey1'][3]"
      ],
      "execution_count": null,
      "outputs": [
        {
          "output_type": "execute_result",
          "data": {
            "text/plain": [
              "10"
            ]
          },
          "metadata": {
            "tags": []
          },
          "execution_count": 131
        }
      ]
    },
    {
      "cell_type": "code",
      "metadata": {
        "id": "GhFl-Y-nlAPz",
        "colab": {
          "base_uri": "https://localhost:8080/"
        },
        "outputId": "0f167c49-6efb-4b15-f651-1c09862577ee"
      },
      "source": [
        "d['k1']"
      ],
      "execution_count": null,
      "outputs": [
        {
          "output_type": "execute_result",
          "data": {
            "text/plain": [
              "{'innerkey1': [1, 2, 3, 10]}"
            ]
          },
          "metadata": {
            "tags": []
          },
          "execution_count": 128
        }
      ]
    },
    {
      "cell_type": "code",
      "metadata": {
        "id": "48N1XiLalAP0",
        "colab": {
          "base_uri": "https://localhost:8080/"
        },
        "outputId": "ff46c50b-5981-408f-85a0-badb46730f93"
      },
      "source": [
        "d['k1']['innerkey1']"
      ],
      "execution_count": null,
      "outputs": [
        {
          "output_type": "execute_result",
          "data": {
            "text/plain": [
              "[1, 2, 3, 10]"
            ]
          },
          "metadata": {
            "tags": []
          },
          "execution_count": 129
        }
      ]
    },
    {
      "cell_type": "code",
      "metadata": {
        "id": "Bl5OsbjblAP0",
        "colab": {
          "base_uri": "https://localhost:8080/"
        },
        "outputId": "ba76d210-a2d9-4f5f-ed37-fd056017881f"
      },
      "source": [
        "d['k1']['innerkey1'][3]"
      ],
      "execution_count": null,
      "outputs": [
        {
          "output_type": "execute_result",
          "data": {
            "text/plain": [
              "10"
            ]
          },
          "metadata": {
            "tags": []
          },
          "execution_count": 130
        }
      ]
    },
    {
      "cell_type": "markdown",
      "metadata": {
        "id": "YQDYvJL0lAP4"
      },
      "source": [
        "### Tuplas "
      ]
    },
    {
      "cell_type": "code",
      "metadata": {
        "id": "pl858D86lAP5"
      },
      "source": [
        "lista = [1, 2, 3]"
      ],
      "execution_count": null,
      "outputs": []
    },
    {
      "cell_type": "code",
      "metadata": {
        "id": "n03JB_zalAP6",
        "colab": {
          "base_uri": "https://localhost:8080/"
        },
        "outputId": "6b87f076-cd7c-4600-fab4-cda033f5dccf"
      },
      "source": [
        "lista"
      ],
      "execution_count": null,
      "outputs": [
        {
          "output_type": "execute_result",
          "data": {
            "text/plain": [
              "[1, 2, 3]"
            ]
          },
          "metadata": {
            "tags": []
          },
          "execution_count": 2
        }
      ]
    },
    {
      "cell_type": "code",
      "metadata": {
        "id": "nJ1pmFcBlAP7"
      },
      "source": [
        "lista [1] = 'Nuevo valor'"
      ],
      "execution_count": null,
      "outputs": []
    },
    {
      "cell_type": "code",
      "metadata": {
        "id": "zglUXAAXlAP7",
        "colab": {
          "base_uri": "https://localhost:8080/"
        },
        "outputId": "af81d5f5-83e8-46ba-a7e8-0281900118ee"
      },
      "source": [
        "lista "
      ],
      "execution_count": null,
      "outputs": [
        {
          "output_type": "execute_result",
          "data": {
            "text/plain": [
              "[1, 'Nuevo valor', 3]"
            ]
          },
          "metadata": {
            "tags": []
          },
          "execution_count": 4
        }
      ]
    },
    {
      "cell_type": "code",
      "metadata": {
        "id": "I3EOwCYKlAP9"
      },
      "source": [
        "tupla = (1,2,3)"
      ],
      "execution_count": null,
      "outputs": []
    },
    {
      "cell_type": "code",
      "metadata": {
        "id": "loEpvIANlAP9",
        "colab": {
          "base_uri": "https://localhost:8080/"
        },
        "outputId": "4c649e6f-6ff0-473f-ac1e-9afef05de053"
      },
      "source": [
        "tupla"
      ],
      "execution_count": null,
      "outputs": [
        {
          "output_type": "execute_result",
          "data": {
            "text/plain": [
              "(1, 2, 3)"
            ]
          },
          "metadata": {
            "tags": []
          },
          "execution_count": 6
        }
      ]
    },
    {
      "cell_type": "code",
      "metadata": {
        "id": "me-i-A-VlAP_",
        "colab": {
          "base_uri": "https://localhost:8080/"
        },
        "outputId": "ec8d7d47-b9cc-469d-8006-ef19c78ba55a"
      },
      "source": [
        "tupla[0]"
      ],
      "execution_count": null,
      "outputs": [
        {
          "output_type": "execute_result",
          "data": {
            "text/plain": [
              "1"
            ]
          },
          "metadata": {
            "tags": []
          },
          "execution_count": 7
        }
      ]
    },
    {
      "cell_type": "code",
      "metadata": {
        "id": "jcLelbj8lAQB",
        "colab": {
          "base_uri": "https://localhost:8080/",
          "height": 164
        },
        "outputId": "931c7872-3dbf-4377-bc73-fb57ec732c7b"
      },
      "source": [
        "tupla[0] = list('NEW')"
      ],
      "execution_count": null,
      "outputs": [
        {
          "output_type": "error",
          "ename": "TypeError",
          "evalue": "ignored",
          "traceback": [
            "\u001b[0;31m---------------------------------------------------------------------------\u001b[0m",
            "\u001b[0;31mTypeError\u001b[0m                                 Traceback (most recent call last)",
            "\u001b[0;32m<ipython-input-8-a4612e751885>\u001b[0m in \u001b[0;36m<module>\u001b[0;34m()\u001b[0m\n\u001b[0;32m----> 1\u001b[0;31m \u001b[0mtupla\u001b[0m\u001b[0;34m[\u001b[0m\u001b[0;36m0\u001b[0m\u001b[0;34m]\u001b[0m \u001b[0;34m=\u001b[0m \u001b[0mlist\u001b[0m\u001b[0;34m(\u001b[0m\u001b[0;34m'NEW'\u001b[0m\u001b[0;34m)\u001b[0m\u001b[0;34m\u001b[0m\u001b[0;34m\u001b[0m\u001b[0m\n\u001b[0m",
            "\u001b[0;31mTypeError\u001b[0m: 'tuple' object does not support item assignment"
          ]
        }
      ]
    },
    {
      "cell_type": "code",
      "metadata": {
        "id": "vEZqLiVQlAQC",
        "colab": {
          "base_uri": "https://localhost:8080/"
        },
        "outputId": "628ee559-87f7-48b5-f76e-f6ff942ec684"
      },
      "source": [
        "tupla      # las tuplas son inmutables, no se puede reasignar"
      ],
      "execution_count": null,
      "outputs": [
        {
          "output_type": "execute_result",
          "data": {
            "text/plain": [
              "(1, 2, 3)"
            ]
          },
          "metadata": {
            "tags": []
          },
          "execution_count": 9
        }
      ]
    },
    {
      "cell_type": "markdown",
      "metadata": {
        "id": "lvaQ1qTsJk31"
      },
      "source": [
        "# Otros tipos de dato"
      ]
    },
    {
      "cell_type": "markdown",
      "metadata": {
        "id": "zUg91B7GlAQD"
      },
      "source": [
        "### Conjuntos (Sets)\n",
        "\n",
        "Son colecciones de elementos únicos"
      ]
    },
    {
      "cell_type": "code",
      "metadata": {
        "id": "VYLy23g6lAQD",
        "colab": {
          "base_uri": "https://localhost:8080/"
        },
        "outputId": "6d1cf3d6-327d-48c2-be6f-dfe14328f9cf"
      },
      "source": [
        "{1,2,3}"
      ],
      "execution_count": null,
      "outputs": [
        {
          "output_type": "execute_result",
          "data": {
            "text/plain": [
              "{1, 2, 3}"
            ]
          },
          "metadata": {
            "tags": []
          },
          "execution_count": 10
        }
      ]
    },
    {
      "cell_type": "code",
      "metadata": {
        "id": "xXpIpUFylAQE",
        "colab": {
          "base_uri": "https://localhost:8080/"
        },
        "outputId": "e2df845f-38fa-4a45-bf0d-5cdddb8c59c5"
      },
      "source": [
        "{1,2,3,1,2,1,2,3,3,3,3,2,2,2,1,1,2}"
      ],
      "execution_count": null,
      "outputs": [
        {
          "output_type": "execute_result",
          "data": {
            "text/plain": [
              "{1, 2, 3}"
            ]
          },
          "metadata": {
            "tags": []
          },
          "execution_count": 11
        }
      ]
    },
    {
      "cell_type": "code",
      "metadata": {
        "id": "7fst6snelAQE",
        "colab": {
          "base_uri": "https://localhost:8080/"
        },
        "outputId": "fdd1cd6f-3e7d-44cf-ed85-791b19c919aa"
      },
      "source": [
        "set([1, 1, 1, 2, 2, 6, 6, 2, 8, 1])"
      ],
      "execution_count": null,
      "outputs": [
        {
          "output_type": "execute_result",
          "data": {
            "text/plain": [
              "{1, 2, 6, 8}"
            ]
          },
          "metadata": {
            "tags": []
          },
          "execution_count": 12
        }
      ]
    },
    {
      "cell_type": "code",
      "metadata": {
        "id": "Upqgi5lylAQG"
      },
      "source": [
        "s = {1, 2, 3}"
      ],
      "execution_count": null,
      "outputs": []
    },
    {
      "cell_type": "code",
      "metadata": {
        "id": "bL1YU3MplAQH",
        "colab": {
          "base_uri": "https://localhost:8080/"
        },
        "outputId": "af8c6a53-cae4-4aa0-9990-fbf2579d7459"
      },
      "source": [
        "s"
      ],
      "execution_count": null,
      "outputs": [
        {
          "output_type": "execute_result",
          "data": {
            "text/plain": [
              "{1, 2, 3}"
            ]
          },
          "metadata": {
            "tags": []
          },
          "execution_count": 16
        }
      ]
    },
    {
      "cell_type": "code",
      "metadata": {
        "id": "Pm2U7qgZlAQJ"
      },
      "source": [
        "s.add(5)"
      ],
      "execution_count": null,
      "outputs": []
    },
    {
      "cell_type": "code",
      "metadata": {
        "id": "ZTq3hL3dlAQK",
        "colab": {
          "base_uri": "https://localhost:8080/"
        },
        "outputId": "97580d0e-32c0-48bc-e310-7af5f3749cf1"
      },
      "source": [
        "s"
      ],
      "execution_count": null,
      "outputs": [
        {
          "output_type": "execute_result",
          "data": {
            "text/plain": [
              "{1, 2, 3, 5}"
            ]
          },
          "metadata": {
            "tags": []
          },
          "execution_count": 18
        }
      ]
    },
    {
      "cell_type": "code",
      "metadata": {
        "id": "W4d1KC1ElAQL"
      },
      "source": [
        "s.add(5)"
      ],
      "execution_count": null,
      "outputs": []
    },
    {
      "cell_type": "code",
      "metadata": {
        "id": "EDzP6Rh0lAQL",
        "colab": {
          "base_uri": "https://localhost:8080/"
        },
        "outputId": "1f3342c9-da36-4794-d746-90f8fbd0818f"
      },
      "source": [
        "s"
      ],
      "execution_count": null,
      "outputs": [
        {
          "output_type": "execute_result",
          "data": {
            "text/plain": [
              "{1, 2, 3, 5}"
            ]
          },
          "metadata": {
            "tags": []
          },
          "execution_count": 20
        }
      ]
    },
    {
      "cell_type": "markdown",
      "metadata": {
        "id": "6Yby49PHlAQN"
      },
      "source": [
        "### Booleanos"
      ]
    },
    {
      "cell_type": "code",
      "metadata": {
        "id": "Tok7MZIYlAQN",
        "colab": {
          "base_uri": "https://localhost:8080/",
          "height": 34
        },
        "outputId": "42a422c1-6073-4675-e35e-fd35a2639430"
      },
      "source": [
        "True"
      ],
      "execution_count": null,
      "outputs": [
        {
          "output_type": "execute_result",
          "data": {
            "text/plain": [
              "True"
            ]
          },
          "metadata": {
            "tags": []
          },
          "execution_count": 107
        }
      ]
    },
    {
      "cell_type": "code",
      "metadata": {
        "id": "0_x42z00lAQO",
        "colab": {
          "base_uri": "https://localhost:8080/",
          "height": 34
        },
        "outputId": "a9282f94-5148-4d02-e502-c37147d3f530"
      },
      "source": [
        "False"
      ],
      "execution_count": null,
      "outputs": [
        {
          "output_type": "execute_result",
          "data": {
            "text/plain": [
              "False"
            ]
          },
          "metadata": {
            "tags": []
          },
          "execution_count": 108
        }
      ]
    },
    {
      "cell_type": "code",
      "metadata": {
        "id": "LOu-49-il7pr",
        "colab": {
          "base_uri": "https://localhost:8080/"
        },
        "outputId": "275fa337-8366-4720-ec19-6404caa7f4e9"
      },
      "source": [
        "t = True\n",
        "t"
      ],
      "execution_count": null,
      "outputs": [
        {
          "output_type": "execute_result",
          "data": {
            "text/plain": [
              "True"
            ]
          },
          "metadata": {
            "tags": []
          },
          "execution_count": 22
        }
      ]
    },
    {
      "cell_type": "code",
      "metadata": {
        "colab": {
          "base_uri": "https://localhost:8080/"
        },
        "id": "kGlaeP8IBLFj",
        "outputId": "dc9f60ee-69cf-4b9b-beef-54253f35259d"
      },
      "source": [
        "f = False\n",
        "f"
      ],
      "execution_count": null,
      "outputs": [
        {
          "output_type": "execute_result",
          "data": {
            "text/plain": [
              "False"
            ]
          },
          "metadata": {
            "tags": []
          },
          "execution_count": 25
        }
      ]
    },
    {
      "cell_type": "code",
      "metadata": {
        "id": "sjBD05xhBQ77"
      },
      "source": [
        ""
      ],
      "execution_count": null,
      "outputs": []
    }
  ]
}