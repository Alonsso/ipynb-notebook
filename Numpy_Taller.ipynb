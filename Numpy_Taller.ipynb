{
  "nbformat": 4,
  "nbformat_minor": 0,
  "metadata": {
    "colab": {
      "name": "Numpy - Taller.ipynb",
      "provenance": [],
      "collapsed_sections": [
        "g60aNu63FREe",
        "Z2QDu5P1FRFF",
        "KTRJ_g_GFRFg",
        "J2iveSrCFRFx",
        "VBDwg-GtFRGf",
        "pfbIq4JIFRGt",
        "MvlPoUhMFRH_"
      ],
      "toc_visible": true,
      "include_colab_link": true
    },
    "kernelspec": {
      "display_name": "Python 3",
      "language": "python",
      "name": "python3"
    }
  },
  "cells": [
    {
      "cell_type": "markdown",
      "metadata": {
        "id": "view-in-github",
        "colab_type": "text"
      },
      "source": [
        "<a href=\"https://colab.research.google.com/github/Alonsso/ipynb-notebooks/blob/main/Numpy_Taller.ipynb\" target=\"_parent\"><img src=\"https://colab.research.google.com/assets/colab-badge.svg\" alt=\"Open In Colab\"/></a>"
      ]
    },
    {
      "cell_type": "markdown",
      "metadata": {
        "id": "unWMglupFRBN"
      },
      "source": [
        "# NumPy Taller \n",
        "\n"
      ]
    },
    {
      "cell_type": "markdown",
      "metadata": {
        "id": "RaoRSUjjFRBU"
      },
      "source": [
        "#### Importar NumPy como np"
      ]
    },
    {
      "cell_type": "code",
      "metadata": {
        "id": "igWimzisFRBa"
      },
      "source": [
        "import numpy as np\n"
      ],
      "execution_count": 1,
      "outputs": []
    },
    {
      "cell_type": "markdown",
      "metadata": {
        "id": "aBdSHFMnFRBr"
      },
      "source": [
        "#### Crear un arreglo de 10 ceros "
      ]
    },
    {
      "cell_type": "code",
      "metadata": {
        "id": "iBqkPwYiFRBw",
        "colab": {
          "base_uri": "https://localhost:8080/"
        },
        "outputId": "54c8114e-b49a-49f3-aaef-6558bf86cdbc"
      },
      "source": [
        "np.zeros(10)"
      ],
      "execution_count": 2,
      "outputs": [
        {
          "output_type": "execute_result",
          "data": {
            "text/plain": [
              "array([0., 0., 0., 0., 0., 0., 0., 0., 0., 0.])"
            ]
          },
          "metadata": {},
          "execution_count": 2
        }
      ]
    },
    {
      "cell_type": "code",
      "metadata": {
        "id": "4bHjbC58FRB6",
        "outputId": "fd800f47-9eb3-4e95-8c3a-5ad2608882d1"
      },
      "source": [
        "# NO USAR ESTA CELDA PARA QUE NO SE BORRE EL RESULTADO ESPERADO"
      ],
      "execution_count": null,
      "outputs": [
        {
          "output_type": "execute_result",
          "data": {
            "text/plain": [
              "array([0., 0., 0., 0., 0., 0., 0., 0., 0., 0.])"
            ]
          },
          "metadata": {
            "tags": []
          },
          "execution_count": 2
        }
      ]
    },
    {
      "cell_type": "markdown",
      "metadata": {
        "id": "OwTr4XmEFRCJ"
      },
      "source": [
        "#### Crear un arreglo de 10 unos"
      ]
    },
    {
      "cell_type": "code",
      "metadata": {
        "id": "gWhjPIMbFRCN",
        "colab": {
          "base_uri": "https://localhost:8080/"
        },
        "outputId": "27462649-df1b-4013-8175-ea4e581eb322"
      },
      "source": [
        "np.ones(10)"
      ],
      "execution_count": 3,
      "outputs": [
        {
          "output_type": "execute_result",
          "data": {
            "text/plain": [
              "array([1., 1., 1., 1., 1., 1., 1., 1., 1., 1.])"
            ]
          },
          "metadata": {},
          "execution_count": 3
        }
      ]
    },
    {
      "cell_type": "code",
      "metadata": {
        "id": "qs6m4k2VFRCY",
        "outputId": "e8fe2782-4a0f-4976-db91-e46f23c42168"
      },
      "source": [
        "# NO USAR ESTA CELDA PARA QUE NO SE BORRE EL RESULTADO ESPERADO"
      ],
      "execution_count": null,
      "outputs": [
        {
          "output_type": "execute_result",
          "data": {
            "text/plain": [
              "array([1., 1., 1., 1., 1., 1., 1., 1., 1., 1.])"
            ]
          },
          "metadata": {
            "tags": []
          },
          "execution_count": 3
        }
      ]
    },
    {
      "cell_type": "markdown",
      "metadata": {
        "id": "0ATkur1IFRCl"
      },
      "source": [
        "#### Crear un arreglo de 10 cincos"
      ]
    },
    {
      "cell_type": "code",
      "metadata": {
        "id": "x4xGewuVFRCq",
        "colab": {
          "base_uri": "https://localhost:8080/"
        },
        "outputId": "74cbd127-33f8-43b1-b60c-97aed0bb13d3"
      },
      "source": [
        "np.ones(10)*5"
      ],
      "execution_count": 4,
      "outputs": [
        {
          "output_type": "execute_result",
          "data": {
            "text/plain": [
              "array([5., 5., 5., 5., 5., 5., 5., 5., 5., 5.])"
            ]
          },
          "metadata": {},
          "execution_count": 4
        }
      ]
    },
    {
      "cell_type": "code",
      "metadata": {
        "id": "AsmmAP_hFRC2",
        "outputId": "fad6a5af-9b10-4b22-aac7-0c9b5c559877"
      },
      "source": [
        "# NO USAR ESTA CELDA PARA QUE NO SE BORRE EL RESULTADO ESPERADO"
      ],
      "execution_count": null,
      "outputs": [
        {
          "output_type": "execute_result",
          "data": {
            "text/plain": [
              "array([5., 5., 5., 5., 5., 5., 5., 5., 5., 5.])"
            ]
          },
          "metadata": {
            "tags": []
          },
          "execution_count": 4
        }
      ]
    },
    {
      "cell_type": "markdown",
      "metadata": {
        "id": "0dgHruZJFRDR"
      },
      "source": [
        "#### Crear un arreglo de los números enteros desde 10 hasta 50 (incluido)"
      ]
    },
    {
      "cell_type": "code",
      "metadata": {
        "id": "9Y0IqkusFRDV",
        "colab": {
          "base_uri": "https://localhost:8080/"
        },
        "outputId": "a8e6aaa0-ce2d-41df-dc80-785e9f710618"
      },
      "source": [
        "np.arange(10,51)"
      ],
      "execution_count": 6,
      "outputs": [
        {
          "output_type": "execute_result",
          "data": {
            "text/plain": [
              "array([10, 11, 12, 13, 14, 15, 16, 17, 18, 19, 20, 21, 22, 23, 24, 25, 26,\n",
              "       27, 28, 29, 30, 31, 32, 33, 34, 35, 36, 37, 38, 39, 40, 41, 42, 43,\n",
              "       44, 45, 46, 47, 48, 49, 50])"
            ]
          },
          "metadata": {},
          "execution_count": 6
        }
      ]
    },
    {
      "cell_type": "code",
      "metadata": {
        "id": "v04KBureFRDg",
        "outputId": "9bd5b574-5ae6-48e9-ff5b-e1c2ec4f7f08"
      },
      "source": [
        "# NO USAR ESTA CELDA PARA QUE NO SE BORRE EL RESULTADO ESPERADO"
      ],
      "execution_count": null,
      "outputs": [
        {
          "output_type": "execute_result",
          "data": {
            "text/plain": [
              "array([10, 11, 12, 13, 14, 15, 16, 17, 18, 19, 20, 21, 22, 23, 24, 25, 26,\n",
              "       27, 28, 29, 30, 31, 32, 33, 34, 35, 36, 37, 38, 39, 40, 41, 42, 43,\n",
              "       44, 45, 46, 47, 48, 49, 50])"
            ]
          },
          "metadata": {
            "tags": []
          },
          "execution_count": 6
        }
      ]
    },
    {
      "cell_type": "markdown",
      "metadata": {
        "id": "djEpcZ7LFRDs"
      },
      "source": [
        "#### Crear un arreglo de todos los números pares entre 10 y 50 (incluido)"
      ]
    },
    {
      "cell_type": "code",
      "metadata": {
        "id": "-_PJDIEiFRDx",
        "colab": {
          "base_uri": "https://localhost:8080/"
        },
        "outputId": "13a15baf-561a-4731-85d9-e9c5fc48d2ce"
      },
      "source": [
        "np.arange(10,51,2)"
      ],
      "execution_count": 7,
      "outputs": [
        {
          "output_type": "execute_result",
          "data": {
            "text/plain": [
              "array([10, 12, 14, 16, 18, 20, 22, 24, 26, 28, 30, 32, 34, 36, 38, 40, 42,\n",
              "       44, 46, 48, 50])"
            ]
          },
          "metadata": {},
          "execution_count": 7
        }
      ]
    },
    {
      "cell_type": "code",
      "metadata": {
        "id": "ayKbGsa4FRD7",
        "outputId": "3e392f89-ba0f-4459-f09d-ffcfb17ae3f3"
      },
      "source": [
        "# NO USAR ESTA CELDA PARA QUE NO SE BORRE EL RESULTADO ESPERADO"
      ],
      "execution_count": null,
      "outputs": [
        {
          "output_type": "execute_result",
          "data": {
            "text/plain": [
              "array([10, 12, 14, 16, 18, 20, 22, 24, 26, 28, 30, 32, 34, 36, 38, 40, 42,\n",
              "       44, 46, 48, 50])"
            ]
          },
          "metadata": {
            "tags": []
          },
          "execution_count": 7
        }
      ]
    },
    {
      "cell_type": "markdown",
      "metadata": {
        "id": "CE0-alV_FREI"
      },
      "source": [
        "#### Crear una matriz de 3x3 con valores desde 0 a 8"
      ]
    },
    {
      "cell_type": "code",
      "metadata": {
        "id": "6F3qe7W7FREM",
        "colab": {
          "base_uri": "https://localhost:8080/"
        },
        "outputId": "1673b274-2472-483e-bcb1-cf3b2be9452b"
      },
      "source": [
        "arr = np.arange(0,9)\n",
        "arr\n",
        "arr.reshape(3,3)"
      ],
      "execution_count": 10,
      "outputs": [
        {
          "output_type": "execute_result",
          "data": {
            "text/plain": [
              "array([[0, 1, 2],\n",
              "       [3, 4, 5],\n",
              "       [6, 7, 8]])"
            ]
          },
          "metadata": {},
          "execution_count": 10
        }
      ]
    },
    {
      "cell_type": "code",
      "metadata": {
        "id": "qH_NAXbbFREV",
        "outputId": "bfb2cfc4-db32-4a6c-e583-3e9bd74e2e08"
      },
      "source": [
        "# NO USAR ESTA CELDA PARA QUE NO SE BORRE EL RESULTADO ESPERADO"
      ],
      "execution_count": null,
      "outputs": [
        {
          "output_type": "execute_result",
          "data": {
            "text/plain": [
              "array([[0, 1, 2],\n",
              "       [3, 4, 5],\n",
              "       [6, 7, 8]])"
            ]
          },
          "metadata": {
            "tags": []
          },
          "execution_count": 8
        }
      ]
    },
    {
      "cell_type": "markdown",
      "metadata": {
        "id": "g60aNu63FREe"
      },
      "source": [
        "#### Crear una matriz identidad de 3x3"
      ]
    },
    {
      "cell_type": "code",
      "metadata": {
        "id": "V5cSxG5IFREn",
        "colab": {
          "base_uri": "https://localhost:8080/"
        },
        "outputId": "6a6e0cc9-d732-48f6-c0e5-6c8aa609e7b3"
      },
      "source": [
        "np.eye(3)"
      ],
      "execution_count": 11,
      "outputs": [
        {
          "output_type": "execute_result",
          "data": {
            "text/plain": [
              "array([[1., 0., 0.],\n",
              "       [0., 1., 0.],\n",
              "       [0., 0., 1.]])"
            ]
          },
          "metadata": {},
          "execution_count": 11
        }
      ]
    },
    {
      "cell_type": "code",
      "metadata": {
        "id": "L-M-vKqKFRE0",
        "outputId": "129f90a7-03df-4d54-a8f1-2f1bf970042b"
      },
      "source": [
        "# NO USAR ESTA CELDA PARA QUE NO SE BORRE EL RESULTADO ESPERADO"
      ],
      "execution_count": null,
      "outputs": [
        {
          "output_type": "execute_result",
          "data": {
            "text/plain": [
              "array([[1., 0., 0.],\n",
              "       [0., 1., 0.],\n",
              "       [0., 0., 1.]])"
            ]
          },
          "metadata": {
            "tags": []
          },
          "execution_count": 9
        }
      ]
    },
    {
      "cell_type": "markdown",
      "metadata": {
        "id": "Z2QDu5P1FRFF"
      },
      "source": [
        "#### Usar NumPy para generar un número aleatorio entre 0 y 1"
      ]
    },
    {
      "cell_type": "code",
      "metadata": {
        "id": "CcXNJKmyFRFI",
        "colab": {
          "base_uri": "https://localhost:8080/"
        },
        "outputId": "b93d7a9d-fff7-4cca-ef1d-cc90ce254c6b"
      },
      "source": [
        "np.random.rand()"
      ],
      "execution_count": 12,
      "outputs": [
        {
          "output_type": "execute_result",
          "data": {
            "text/plain": [
              "0.11498453162758193"
            ]
          },
          "metadata": {},
          "execution_count": 12
        }
      ]
    },
    {
      "cell_type": "code",
      "metadata": {
        "id": "BusD0EbYFRFR",
        "outputId": "38b89431-305e-4c67-b16a-1f31dfb04a74"
      },
      "source": [
        "# NO USAR ESTA CELDA PARA QUE NO SE BORRE EL RESULTADO ESPERADO\n",
        "# Su resultado será diferente"
      ],
      "execution_count": null,
      "outputs": [
        {
          "output_type": "execute_result",
          "data": {
            "text/plain": [
              "array([0.13938024])"
            ]
          },
          "metadata": {
            "tags": []
          },
          "execution_count": 10
        }
      ]
    },
    {
      "cell_type": "markdown",
      "metadata": {
        "id": "KTRJ_g_GFRFg"
      },
      "source": [
        "#### Usar NumPy para generar 25 números aleatorios con una distribución de probabilidad normal"
      ]
    },
    {
      "cell_type": "code",
      "metadata": {
        "id": "9MAqhCOWFRFk",
        "colab": {
          "base_uri": "https://localhost:8080/"
        },
        "outputId": "fad4d666-1492-4184-e596-a536e77a90d8"
      },
      "source": [
        "np.random.randn(5,5)"
      ],
      "execution_count": 15,
      "outputs": [
        {
          "output_type": "execute_result",
          "data": {
            "text/plain": [
              "array([[ 0.40381881,  0.49913783,  0.77154474,  0.96196776, -0.41606075],\n",
              "       [-0.05819539,  0.35018939,  0.20125338, -0.60866449, -0.08449137],\n",
              "       [ 0.36893055, -1.50086529, -1.21514309,  1.89270121, -0.72236979],\n",
              "       [-0.40549052, -0.89941838, -1.21484059, -0.42914137, -0.16975882],\n",
              "       [-0.78788939,  0.10495431, -0.60513247,  0.94408173, -0.76645586]])"
            ]
          },
          "metadata": {},
          "execution_count": 15
        }
      ]
    },
    {
      "cell_type": "code",
      "metadata": {
        "id": "vyf6Pk2kFRFo"
      },
      "source": [
        "# NO USAR ESTA CELDA PARA QUE NO SE BORRE EL RESULTADO ESPERADO\n",
        "# Su resultado será diferente"
      ],
      "execution_count": 14,
      "outputs": []
    },
    {
      "cell_type": "markdown",
      "metadata": {
        "id": "J2iveSrCFRFx"
      },
      "source": [
        "#### Crear la siguiente matriz:"
      ]
    },
    {
      "cell_type": "code",
      "metadata": {
        "id": "QtC6oQaFFRFy",
        "colab": {
          "base_uri": "https://localhost:8080/"
        },
        "outputId": "27054fa4-e9d4-4e1a-e457-8aec070a0c22"
      },
      "source": [
        "arr1 = np.arange(0.01,0.11, 0.01)\n",
        "arr2 = np.arange(0.11,0.21, 0.01)\n",
        "arr3 = np.arange(0.21,0.31, 0.01)\n",
        "arr4 = np.arange(0.31,0.41, 0.01)\n",
        "arr5 = np.arange(0.41,0.5, 0.01)\n",
        "arr6 = np.arange(0.51,0.61, 0.01)\n",
        "arr7 = np.arange(0.61,0.71, 0.01)\n",
        "arr8 = np.arange(0.81,0.91, 0.01)\n",
        "arr9 = np.arange(0.91,1.01, 0.01)\n",
        "np.vstack((arr1,arr2,arr3,arr4,arr5,arr6,arr7,arr8,arr9))"
      ],
      "execution_count": 58,
      "outputs": [
        {
          "output_type": "execute_result",
          "data": {
            "text/plain": [
              "array([[0.01, 0.02, 0.03, 0.04, 0.05, 0.06, 0.07, 0.08, 0.09, 0.1 ],\n",
              "       [0.11, 0.12, 0.13, 0.14, 0.15, 0.16, 0.17, 0.18, 0.19, 0.2 ],\n",
              "       [0.21, 0.22, 0.23, 0.24, 0.25, 0.26, 0.27, 0.28, 0.29, 0.3 ],\n",
              "       [0.31, 0.32, 0.33, 0.34, 0.35, 0.36, 0.37, 0.38, 0.39, 0.4 ],\n",
              "       [0.41, 0.42, 0.43, 0.44, 0.45, 0.46, 0.47, 0.48, 0.49, 0.5 ],\n",
              "       [0.51, 0.52, 0.53, 0.54, 0.55, 0.56, 0.57, 0.58, 0.59, 0.6 ],\n",
              "       [0.61, 0.62, 0.63, 0.64, 0.65, 0.66, 0.67, 0.68, 0.69, 0.7 ],\n",
              "       [0.81, 0.82, 0.83, 0.84, 0.85, 0.86, 0.87, 0.88, 0.89, 0.9 ],\n",
              "       [0.91, 0.92, 0.93, 0.94, 0.95, 0.96, 0.97, 0.98, 0.99, 1.  ]])"
            ]
          },
          "metadata": {},
          "execution_count": 58
        }
      ]
    },
    {
      "cell_type": "code",
      "metadata": {
        "id": "kz0WUYGdFRF3",
        "outputId": "4dac96b6-b10d-4bcb-ff2e-caa969771591"
      },
      "source": [
        "# NO USAR ESTA CELDA PARA QUE NO SE BORRE EL RESULTADO ESPERADO"
      ],
      "execution_count": null,
      "outputs": [
        {
          "output_type": "execute_result",
          "data": {
            "text/plain": [
              "array([[0.01, 0.02, 0.03, 0.04, 0.05, 0.06, 0.07, 0.08, 0.09, 0.1 ],\n",
              "       [0.11, 0.12, 0.13, 0.14, 0.15, 0.16, 0.17, 0.18, 0.19, 0.2 ],\n",
              "       [0.21, 0.22, 0.23, 0.24, 0.25, 0.26, 0.27, 0.28, 0.29, 0.3 ],\n",
              "       [0.31, 0.32, 0.33, 0.34, 0.35, 0.36, 0.37, 0.38, 0.39, 0.4 ],\n",
              "       [0.41, 0.42, 0.43, 0.44, 0.45, 0.46, 0.47, 0.48, 0.49, 0.5 ],\n",
              "       [0.51, 0.52, 0.53, 0.54, 0.55, 0.56, 0.57, 0.58, 0.59, 0.6 ],\n",
              "       [0.61, 0.62, 0.63, 0.64, 0.65, 0.66, 0.67, 0.68, 0.69, 0.7 ],\n",
              "       [0.71, 0.72, 0.73, 0.74, 0.75, 0.76, 0.77, 0.78, 0.79, 0.8 ],\n",
              "       [0.81, 0.82, 0.83, 0.84, 0.85, 0.86, 0.87, 0.88, 0.89, 0.9 ],\n",
              "       [0.91, 0.92, 0.93, 0.94, 0.95, 0.96, 0.97, 0.98, 0.99, 1.  ]])"
            ]
          },
          "metadata": {
            "tags": []
          },
          "execution_count": 13
        }
      ]
    },
    {
      "cell_type": "markdown",
      "metadata": {
        "id": "VBDwg-GtFRGf"
      },
      "source": [
        "#### Crear un arreglo de 20 elementos linealmente separados entre 0 y 1:"
      ]
    },
    {
      "cell_type": "code",
      "metadata": {
        "id": "gKJZUwDbFRGh",
        "colab": {
          "base_uri": "https://localhost:8080/"
        },
        "outputId": "7f193d51-9e6d-4842-e132-db93fc40c17e"
      },
      "source": [
        "np.linspace(0,1,20)"
      ],
      "execution_count": 64,
      "outputs": [
        {
          "output_type": "execute_result",
          "data": {
            "text/plain": [
              "array([0.        , 0.05263158, 0.10526316, 0.15789474, 0.21052632,\n",
              "       0.26315789, 0.31578947, 0.36842105, 0.42105263, 0.47368421,\n",
              "       0.52631579, 0.57894737, 0.63157895, 0.68421053, 0.73684211,\n",
              "       0.78947368, 0.84210526, 0.89473684, 0.94736842, 1.        ])"
            ]
          },
          "metadata": {},
          "execution_count": 64
        }
      ]
    },
    {
      "cell_type": "code",
      "metadata": {
        "id": "XoU1h5l9FRGo",
        "outputId": "3c101233-74d1-4041-b0c6-31ec98cea08f"
      },
      "source": [
        "# NO USAR ESTA CELDA PARA QUE NO SE BORRE EL RESULTADO ESPERADO"
      ],
      "execution_count": null,
      "outputs": [
        {
          "output_type": "execute_result",
          "data": {
            "text/plain": [
              "array([0.        , 0.05263158, 0.10526316, 0.15789474, 0.21052632,\n",
              "       0.26315789, 0.31578947, 0.36842105, 0.42105263, 0.47368421,\n",
              "       0.52631579, 0.57894737, 0.63157895, 0.68421053, 0.73684211,\n",
              "       0.78947368, 0.84210526, 0.89473684, 0.94736842, 1.        ])"
            ]
          },
          "metadata": {
            "tags": []
          },
          "execution_count": 16
        }
      ]
    },
    {
      "cell_type": "markdown",
      "metadata": {
        "id": "pfbIq4JIFRGt"
      },
      "source": [
        "## Numpy - Índices y Selección\n",
        "\n",
        "A partir de la siguiente matriz, replique los resultados que se presentan a continuación:"
      ]
    },
    {
      "cell_type": "code",
      "metadata": {
        "id": "4nzzxJD2FRGv",
        "colab": {
          "base_uri": "https://localhost:8080/"
        },
        "outputId": "57cfd33b-54a3-42ef-a40e-a88d446a626e"
      },
      "source": [
        "a=np.arange(1,26)\n",
        "h=a.reshape(5,5)\n",
        "h"
      ],
      "execution_count": 65,
      "outputs": [
        {
          "output_type": "execute_result",
          "data": {
            "text/plain": [
              "array([[ 1,  2,  3,  4,  5],\n",
              "       [ 6,  7,  8,  9, 10],\n",
              "       [11, 12, 13, 14, 15],\n",
              "       [16, 17, 18, 19, 20],\n",
              "       [21, 22, 23, 24, 25]])"
            ]
          },
          "metadata": {},
          "execution_count": 65
        }
      ]
    },
    {
      "cell_type": "code",
      "metadata": {
        "id": "_5Hjk_3YFRGz",
        "colab": {
          "base_uri": "https://localhost:8080/"
        },
        "outputId": "1b274ebf-7c6d-4a1b-af31-3a30e10e03d1"
      },
      "source": [
        "h[2:, [1, 2, 3,4]]\n"
      ],
      "execution_count": 76,
      "outputs": [
        {
          "output_type": "execute_result",
          "data": {
            "text/plain": [
              "array([[12, 13, 14, 15],\n",
              "       [17, 18, 19, 20],\n",
              "       [22, 23, 24, 25]])"
            ]
          },
          "metadata": {},
          "execution_count": 76
        }
      ]
    },
    {
      "cell_type": "code",
      "metadata": {
        "id": "BZ1h6nbdFRG6",
        "outputId": "1922f600-0496-4756-f5c5-23e3ec8a6e78"
      },
      "source": [
        "# NO USAR ESTA CELDA PARA QUE NO SE BORRE EL RESULTADO ESPERADO"
      ],
      "execution_count": null,
      "outputs": [
        {
          "output_type": "execute_result",
          "data": {
            "text/plain": [
              "array([[12, 13, 14, 15],\n",
              "       [17, 18, 19, 20],\n",
              "       [22, 23, 24, 25]])"
            ]
          },
          "metadata": {
            "tags": []
          },
          "execution_count": 19
        }
      ]
    },
    {
      "cell_type": "code",
      "metadata": {
        "id": "Nt9t8kH7FRG_",
        "colab": {
          "base_uri": "https://localhost:8080/"
        },
        "outputId": "6ed7ba08-5c8a-4f93-9f74-66bc7418d0ef"
      },
      "source": [
        "h[3,4]"
      ],
      "execution_count": 83,
      "outputs": [
        {
          "output_type": "execute_result",
          "data": {
            "text/plain": [
              "20"
            ]
          },
          "metadata": {},
          "execution_count": 83
        }
      ]
    },
    {
      "cell_type": "code",
      "metadata": {
        "id": "UYuDMi-oFRHC",
        "outputId": "6ffaec31-3a9b-46fa-9be9-4b21e960d9d0"
      },
      "source": [
        "# NO USAR ESTA CELDA PARA QUE NO SE BORRE EL RESULTADO ESPERADO"
      ],
      "execution_count": null,
      "outputs": [
        {
          "output_type": "execute_result",
          "data": {
            "text/plain": [
              "20"
            ]
          },
          "metadata": {
            "tags": []
          },
          "execution_count": 21
        }
      ]
    },
    {
      "cell_type": "code",
      "metadata": {
        "id": "7ayVDEYjFRHX",
        "colab": {
          "base_uri": "https://localhost:8080/"
        },
        "outputId": "1cb10b0c-e7a7-450f-f41c-200c2f19ce35"
      },
      "source": [
        "h[:3, [1]]"
      ],
      "execution_count": 86,
      "outputs": [
        {
          "output_type": "execute_result",
          "data": {
            "text/plain": [
              "array([[ 2],\n",
              "       [ 7],\n",
              "       [12]])"
            ]
          },
          "metadata": {},
          "execution_count": 86
        }
      ]
    },
    {
      "cell_type": "code",
      "metadata": {
        "id": "oub9zcbEFRHh",
        "outputId": "07e0aa7c-5b70-4baa-fccb-ce2bb6b6e7dd"
      },
      "source": [
        "# NO USAR ESTA CELDA PARA QUE NO SE BORRE EL RESULTADO ESPERADO"
      ],
      "execution_count": null,
      "outputs": [
        {
          "output_type": "execute_result",
          "data": {
            "text/plain": [
              "array([[ 2],\n",
              "       [ 7],\n",
              "       [12]])"
            ]
          },
          "metadata": {
            "tags": []
          },
          "execution_count": 23
        }
      ]
    },
    {
      "cell_type": "code",
      "metadata": {
        "id": "VWL9spuDFRHm",
        "colab": {
          "base_uri": "https://localhost:8080/"
        },
        "outputId": "3e8bdc46-d279-4987-89fa-6d3ebbed8bbe"
      },
      "source": [
        "h[4]"
      ],
      "execution_count": 87,
      "outputs": [
        {
          "output_type": "execute_result",
          "data": {
            "text/plain": [
              "array([21, 22, 23, 24, 25])"
            ]
          },
          "metadata": {},
          "execution_count": 87
        }
      ]
    },
    {
      "cell_type": "code",
      "metadata": {
        "id": "FJFnTHYvFRHt",
        "outputId": "bdcc29ae-2d37-43f3-d540-f57b9fbeb17f"
      },
      "source": [
        "# NO USAR ESTA CELDA PARA QUE NO SE BORRE EL RESULTADO ESPERADO"
      ],
      "execution_count": null,
      "outputs": [
        {
          "output_type": "execute_result",
          "data": {
            "text/plain": [
              "array([21, 22, 23, 24, 25])"
            ]
          },
          "metadata": {
            "tags": []
          },
          "execution_count": 25
        }
      ]
    },
    {
      "cell_type": "code",
      "metadata": {
        "id": "7RZ9V-8YFRH1",
        "colab": {
          "base_uri": "https://localhost:8080/"
        },
        "outputId": "f3102a68-b004-4df8-e35e-d560a127599f"
      },
      "source": [
        "h1 = h[3,...]\n",
        "h2 = h[4,...]\n",
        "np.vstack((h1,h2))"
      ],
      "execution_count": 93,
      "outputs": [
        {
          "output_type": "execute_result",
          "data": {
            "text/plain": [
              "array([[16, 17, 18, 19, 20],\n",
              "       [21, 22, 23, 24, 25]])"
            ]
          },
          "metadata": {},
          "execution_count": 93
        }
      ]
    },
    {
      "cell_type": "code",
      "metadata": {
        "id": "3PNv1guSFRH5",
        "outputId": "65f62f03-e340-4e38-975b-8b163790da5f"
      },
      "source": [
        "# NO USAR ESTA CELDA PARA QUE NO SE BORRE EL RESULTADO ESPERADO"
      ],
      "execution_count": null,
      "outputs": [
        {
          "output_type": "execute_result",
          "data": {
            "text/plain": [
              "array([[16, 17, 18, 19, 20],\n",
              "       [21, 22, 23, 24, 25]])"
            ]
          },
          "metadata": {
            "tags": []
          },
          "execution_count": 27
        }
      ]
    },
    {
      "cell_type": "markdown",
      "metadata": {
        "id": "MvlPoUhMFRH_"
      },
      "source": [
        "## NumPy - Operaciones"
      ]
    },
    {
      "cell_type": "markdown",
      "metadata": {
        "id": "gjyiTZ28FRIB"
      },
      "source": [
        "#### Obtener la suma de todos los valores de la matriz 'mat'"
      ]
    },
    {
      "cell_type": "code",
      "metadata": {
        "id": "T--fEzq3FRID",
        "colab": {
          "base_uri": "https://localhost:8080/"
        },
        "outputId": "760386ea-601c-4813-87dd-36cdd10552ef"
      },
      "source": [
        "np.sum(h)"
      ],
      "execution_count": 96,
      "outputs": [
        {
          "output_type": "execute_result",
          "data": {
            "text/plain": [
              "325"
            ]
          },
          "metadata": {},
          "execution_count": 96
        }
      ]
    },
    {
      "cell_type": "code",
      "metadata": {
        "id": "KR7tp0h_FRIK",
        "outputId": "2a6e608a-a843-49b0-e7b3-4475a7b2769c"
      },
      "source": [
        "# NO USAR ESTA CELDA PARA QUE NO SE BORRE EL RESULTADO ESPERADO"
      ],
      "execution_count": null,
      "outputs": [
        {
          "output_type": "execute_result",
          "data": {
            "text/plain": [
              "325"
            ]
          },
          "metadata": {
            "tags": []
          },
          "execution_count": 28
        }
      ]
    },
    {
      "cell_type": "markdown",
      "metadata": {
        "id": "marpjTh_FRIP"
      },
      "source": [
        "#### Obtener las desviación estándar de los valores en la matriz 'mat'"
      ]
    },
    {
      "cell_type": "code",
      "metadata": {
        "id": "Lc8FBsxuFRIQ",
        "colab": {
          "base_uri": "https://localhost:8080/"
        },
        "outputId": "f96e063c-a2ee-4960-827e-c969a14f1c1e"
      },
      "source": [
        "h.std()"
      ],
      "execution_count": 97,
      "outputs": [
        {
          "output_type": "execute_result",
          "data": {
            "text/plain": [
              "7.211102550927978"
            ]
          },
          "metadata": {},
          "execution_count": 97
        }
      ]
    },
    {
      "cell_type": "code",
      "metadata": {
        "id": "cVZi9E1fFRIT",
        "outputId": "4bc5dacb-5b86-4624-dfb1-46e71a82682d"
      },
      "source": [
        "# NO USAR ESTA CELDA PARA QUE NO SE BORRE EL RESULTADO ESPERADO"
      ],
      "execution_count": null,
      "outputs": [
        {
          "output_type": "execute_result",
          "data": {
            "text/plain": [
              "7.211102550927978"
            ]
          },
          "metadata": {
            "tags": []
          },
          "execution_count": 30
        }
      ]
    },
    {
      "cell_type": "markdown",
      "metadata": {
        "id": "ojsUA-PJFRI6"
      },
      "source": [
        "#### Obtener la suma de los valores en cada columna de la matriz"
      ]
    },
    {
      "cell_type": "code",
      "metadata": {
        "id": "aanKghebFRI9",
        "colab": {
          "base_uri": "https://localhost:8080/"
        },
        "outputId": "ab9b5e7c-feda-4828-9057-a3ae7f24c335"
      },
      "source": [
        "np.apply_along_axis(sum, 0, h)"
      ],
      "execution_count": 98,
      "outputs": [
        {
          "output_type": "execute_result",
          "data": {
            "text/plain": [
              "array([55, 60, 65, 70, 75])"
            ]
          },
          "metadata": {},
          "execution_count": 98
        }
      ]
    },
    {
      "cell_type": "code",
      "metadata": {
        "id": "FMOJKRtoFRJA",
        "outputId": "ccde838f-a201-4155-8a39-c0da221238b9"
      },
      "source": [
        "# NO USAR ESTA CELDA PARA QUE NO SE BORRE EL RESULTADO ESPERADO"
      ],
      "execution_count": null,
      "outputs": [
        {
          "output_type": "execute_result",
          "data": {
            "text/plain": [
              "array([55, 60, 65, 70, 75])"
            ]
          },
          "metadata": {
            "tags": []
          },
          "execution_count": 53
        }
      ]
    }
  ]
}