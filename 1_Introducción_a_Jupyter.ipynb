{
  "nbformat": 4,
  "nbformat_minor": 0,
  "metadata": {
    "colab": {
      "name": "1_Introducción_a_Jupyter.ipynb",
      "provenance": [],
      "collapsed_sections": [],
      "toc_visible": true,
      "include_colab_link": true
    },
    "kernelspec": {
      "name": "python3",
      "display_name": "Python 3"
    }
  },
  "cells": [
    {
      "cell_type": "markdown",
      "metadata": {
        "id": "view-in-github",
        "colab_type": "text"
      },
      "source": [
        "<a href=\"https://colab.research.google.com/github/Alonsso/ipynb-notebook/blob/main/1_Introducci%C3%B3n_a_Jupyter.ipynb\" target=\"_parent\"><img src=\"https://colab.research.google.com/assets/colab-badge.svg\" alt=\"Open In Colab\"/></a>"
      ]
    },
    {
      "cell_type": "markdown",
      "metadata": {
        "id": "FZBr4_ny6UCr"
      },
      "source": [
        "# Introducción a Colab"
      ]
    },
    {
      "cell_type": "markdown",
      "metadata": {
        "id": "45mGoUjaZRWP"
      },
      "source": [
        "Colaboratory es un entorno gratuito de blocs de notas de Jupyter que no requiere configuración y se ejecuta completamente en la nube. \n",
        "\n",
        "Colaboratory te permite ejecutar código python en el navegador con un solo clic.\n"
      ]
    },
    {
      "cell_type": "markdown",
      "metadata": {
        "id": "e4pZEEiVEfT7"
      },
      "source": [
        "Texto de prueba\n",
        "\n",
        "*   List item\n",
        " *  List item\n",
        "\n"
      ]
    },
    {
      "cell_type": "markdown",
      "metadata": {
        "id": "YtUpWBRyiaPG"
      },
      "source": [
        "# 1. Celdas de Código\n",
        "\n",
        "\n",
        "La celda **de** *abajo* es una *celda* de código. \n",
        "\n",
        "Una vez en la esquina superior se indique que el entorno de ejecución está conectado, usted puede ejecutar el código de la celda con el botón PLAY. También puede usar la combinación **Shift+Enter**"
      ]
    },
    {
      "cell_type": "code",
      "metadata": {
        "id": "KkBqvJp-ZYMG",
        "colab": {
          "base_uri": "https://localhost:8080/"
        },
        "outputId": "a9ef8b1f-6156-4c64-9558-f75d1d486cf0"
      },
      "source": [
        "print(\"Hola Colab\")\n",
        "a=8"
      ],
      "execution_count": null,
      "outputs": [
        {
          "output_type": "stream",
          "text": [
            "Hola Colab\n"
          ],
          "name": "stdout"
        }
      ]
    },
    {
      "cell_type": "markdown",
      "metadata": {
        "id": "xTwj-uWlhHN9"
      },
      "source": [
        "# 2. Celdas de Texto\n",
        "\n",
        "Esta es una  **celda de texto**. Dando **doble-click** puede editar el contenido de la celda. \n",
        "\n",
        "Las celdas de texto usa sintaxis de marcado, esto quiere decir que podemos combinar texto con código HTML o LATEX, si quiere conocer un poco más siga el siguiente link  [markdown\n",
        "guide](/notebooks/markdown_guide.ipynb).\n",
        "\n",
        "Latex es el lenguaje más conocido para escribir expresiones matemáticas [LaTeX](http://www.latex-project.org/). Para incluir fórmulas u otras expresiones matemátcas use un par de signos  **\\$** . \n",
        "\n",
        "Por ejemplo `$\\sqrt{3x-1}+(1+x)^2$` se visualiza así:\n",
        "\n",
        "$\\sqrt{3x-1}+(1+x)^2.$\n"
      ]
    },
    {
      "cell_type": "code",
      "metadata": {
        "id": "KTYavQqDBEMP",
        "colab": {
          "base_uri": "https://localhost:8080/"
        },
        "outputId": "c6bbb589-35e9-43d9-80e6-6281a497f1c2"
      },
      "source": [
        "#Definicion variable\n",
        "a = 900\n",
        "print(a)"
      ],
      "execution_count": null,
      "outputs": [
        {
          "output_type": "stream",
          "text": [
            "900\n"
          ],
          "name": "stdout"
        }
      ]
    },
    {
      "cell_type": "markdown",
      "metadata": {
        "id": "trjlka8hiqty"
      },
      "source": [
        " # 3. Completado de Código y Exploración"
      ]
    },
    {
      "cell_type": "markdown",
      "metadata": {
        "id": "d4L9TOP9QSHn"
      },
      "source": [
        "Colab permite auto completado presionando la tecla **TAB**.\n",
        "\n",
        "Por ejemplo importemos el módulo numpy y referenciemoslo como **np**."
      ]
    },
    {
      "cell_type": "code",
      "metadata": {
        "cellView": "both",
        "id": "Q0JKWcmtQSHp"
      },
      "source": [
        "import numpy as np"
      ],
      "execution_count": null,
      "outputs": []
    },
    {
      "cell_type": "markdown",
      "metadata": {
        "id": "1M890-bXeyYp"
      },
      "source": [
        "Luego de insertar ``np.random.`` presione **Tab**, verá las opciones de auto completado para ``np.random``."
      ]
    },
    {
      "cell_type": "code",
      "metadata": {
        "id": "u0pktbDc3ADe",
        "colab": {
          "base_uri": "https://localhost:8080/"
        },
        "outputId": "35644675-4a35-44e4-ac26-931926bf4c3c"
      },
      "source": [
        "np.random.randint(10,50)"
      ],
      "execution_count": null,
      "outputs": [
        {
          "output_type": "execute_result",
          "data": {
            "text/plain": [
              "19"
            ]
          },
          "metadata": {
            "tags": []
          },
          "execution_count": 18
        }
      ]
    },
    {
      "cell_type": "markdown",
      "metadata": {
        "id": "9ReRLQaxJ-zP"
      },
      "source": [
        "Para abrir la documentación completa de un módulo sólo debe presionar  **Shift+Enter** sobre una celda de código con el nombre del paquete a explorar seguido de  **?**."
      ]
    },
    {
      "cell_type": "code",
      "metadata": {
        "cellView": "both",
        "id": "YgQ6Tu7DK17l",
        "colab": {
          "base_uri": "https://localhost:8080/"
        },
        "outputId": "feff4dfe-4401-4896-dd08-c08cee3660d6"
      },
      "source": [
        "np.random.randint"
      ],
      "execution_count": null,
      "outputs": [
        {
          "output_type": "execute_result",
          "data": {
            "text/plain": [
              "<function RandomState.randint>"
            ]
          },
          "metadata": {
            "tags": []
          },
          "execution_count": 19
        }
      ]
    },
    {
      "cell_type": "markdown",
      "metadata": {
        "id": "ZAP9OG_Talnw"
      },
      "source": [
        "**Instalar otra biblioteca**\n",
        "\n",
        "Puedes instalarla mediante pip, tal como si lo hicieras desde linea de comandos."
      ]
    },
    {
      "cell_type": "code",
      "metadata": {
        "id": "5mlqQmFDa0KX",
        "colab": {
          "base_uri": "https://localhost:8080/"
        },
        "outputId": "8ac39ff2-1dac-499f-f47f-4fa338d0afcf"
      },
      "source": [
        "!pip install seaborn"
      ],
      "execution_count": null,
      "outputs": [
        {
          "output_type": "stream",
          "text": [
            "Requirement already satisfied: seaborn in /usr/local/lib/python3.6/dist-packages (0.11.1)\n",
            "Requirement already satisfied: pandas>=0.23 in /usr/local/lib/python3.6/dist-packages (from seaborn) (1.1.5)\n",
            "Requirement already satisfied: matplotlib>=2.2 in /usr/local/lib/python3.6/dist-packages (from seaborn) (3.2.2)\n",
            "Requirement already satisfied: scipy>=1.0 in /usr/local/lib/python3.6/dist-packages (from seaborn) (1.4.1)\n",
            "Requirement already satisfied: numpy>=1.15 in /usr/local/lib/python3.6/dist-packages (from seaborn) (1.19.5)\n",
            "Requirement already satisfied: python-dateutil>=2.7.3 in /usr/local/lib/python3.6/dist-packages (from pandas>=0.23->seaborn) (2.8.1)\n",
            "Requirement already satisfied: pytz>=2017.2 in /usr/local/lib/python3.6/dist-packages (from pandas>=0.23->seaborn) (2018.9)\n",
            "Requirement already satisfied: cycler>=0.10 in /usr/local/lib/python3.6/dist-packages (from matplotlib>=2.2->seaborn) (0.10.0)\n",
            "Requirement already satisfied: pyparsing!=2.0.4,!=2.1.2,!=2.1.6,>=2.0.1 in /usr/local/lib/python3.6/dist-packages (from matplotlib>=2.2->seaborn) (2.4.7)\n",
            "Requirement already satisfied: kiwisolver>=1.0.1 in /usr/local/lib/python3.6/dist-packages (from matplotlib>=2.2->seaborn) (1.3.1)\n",
            "Requirement already satisfied: six>=1.5 in /usr/local/lib/python3.6/dist-packages (from python-dateutil>=2.7.3->pandas>=0.23->seaborn) (1.15.0)\n"
          ],
          "name": "stdout"
        }
      ]
    },
    {
      "cell_type": "code",
      "metadata": {
        "id": "yinzdHS5k9-Q",
        "colab": {
          "base_uri": "https://localhost:8080/"
        },
        "outputId": "d1a34429-e6d7-42aa-8e9f-92eeb8d2acd8"
      },
      "source": [
        "!ls -la"
      ],
      "execution_count": null,
      "outputs": [
        {
          "output_type": "stream",
          "text": [
            "total 16\n",
            "drwxr-xr-x 1 root root 4096 Feb 16 16:35 .\n",
            "drwxr-xr-x 1 root root 4096 Feb 20 20:09 ..\n",
            "drwxr-xr-x 1 root root 4096 Feb 16 16:35 .config\n",
            "drwxr-xr-x 1 root root 4096 Feb 16 16:35 sample_data\n"
          ],
          "name": "stdout"
        }
      ]
    },
    {
      "cell_type": "markdown",
      "metadata": {
        "id": "1p-jIdPca3g_"
      },
      "source": [
        "#4.  Cargar desde diferentes fuentes\n",
        "\n",
        "\n",
        "**1. Localmente**\n",
        "\n",
        "Subir archivos localmente"
      ]
    },
    {
      "cell_type": "code",
      "metadata": {
        "id": "dJSxD8E1cDLo",
        "colab": {
          "resources": {
            "http://localhost:8080/nbextensions/google.colab/files.js": {
              "data": "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",
              "ok": true,
              "headers": [
                [
                  "content-type",
                  "application/javascript"
                ]
              ],
              "status": 200,
              "status_text": ""
            }
          },
          "base_uri": "https://localhost:8080/",
          "height": 89
        },
        "outputId": "6486c1c3-9a94-4826-eb84-ebb5e76b82a9"
      },
      "source": [
        "from google.colab import files\n",
        "\n",
        "uploaded = files.upload()\n",
        "\n",
        "for fn in uploaded.keys():\n",
        "  print('User uploaded file \"{name}\" with length {length} bytes'.format(\n",
        "      name=fn, length=len(uploaded[fn])))"
      ],
      "execution_count": null,
      "outputs": [
        {
          "output_type": "display_data",
          "data": {
            "text/html": [
              "\n",
              "     <input type=\"file\" id=\"files-eb81f61c-7d6e-4b32-a9d7-242e24fe46a4\" name=\"files[]\" multiple disabled\n",
              "        style=\"border:none\" />\n",
              "     <output id=\"result-eb81f61c-7d6e-4b32-a9d7-242e24fe46a4\">\n",
              "      Upload widget is only available when the cell has been executed in the\n",
              "      current browser session. Please rerun this cell to enable.\n",
              "      </output>\n",
              "      <script src=\"/nbextensions/google.colab/files.js\"></script> "
            ],
            "text/plain": [
              "<IPython.core.display.HTML object>"
            ]
          },
          "metadata": {
            "tags": []
          }
        },
        {
          "output_type": "stream",
          "text": [
            "Saving iris.csv to iris.csv\n",
            "User uploaded file \"iris.csv\" with length 2885 bytes\n"
          ],
          "name": "stdout"
        }
      ]
    },
    {
      "cell_type": "code",
      "metadata": {
        "id": "31Efm40zmK5x",
        "colab": {
          "base_uri": "https://localhost:8080/"
        },
        "outputId": "0076d0be-2716-464e-e69f-920497b4e810"
      },
      "source": [
        "!ls"
      ],
      "execution_count": null,
      "outputs": [
        {
          "output_type": "stream",
          "text": [
            "'000 CRONOGRAMA.xlsx'   iris.csv   sample_data\n"
          ],
          "name": "stdout"
        }
      ]
    },
    {
      "cell_type": "code",
      "metadata": {
        "id": "9stoGVk-HUqn",
        "colab": {
          "base_uri": "https://localhost:8080/",
          "height": 111
        },
        "outputId": "0b5230ce-1d3e-444e-dce3-d6723e44b404"
      },
      "source": [
        "import io\n",
        "import pandas as pd\n",
        "\n",
        "df2 = pd.read_csv(io.BytesIO(uploaded['iris.csv']))\n",
        "df2[3:5]"
      ],
      "execution_count": null,
      "outputs": [
        {
          "output_type": "execute_result",
          "data": {
            "text/html": [
              "<div>\n",
              "<style scoped>\n",
              "    .dataframe tbody tr th:only-of-type {\n",
              "        vertical-align: middle;\n",
              "    }\n",
              "\n",
              "    .dataframe tbody tr th {\n",
              "        vertical-align: top;\n",
              "    }\n",
              "\n",
              "    .dataframe thead th {\n",
              "        text-align: right;\n",
              "    }\n",
              "</style>\n",
              "<table border=\"1\" class=\"dataframe\">\n",
              "  <thead>\n",
              "    <tr style=\"text-align: right;\">\n",
              "      <th></th>\n",
              "      <th>150</th>\n",
              "      <th>4</th>\n",
              "      <th>setosa</th>\n",
              "      <th>versicolor</th>\n",
              "      <th>virginica</th>\n",
              "    </tr>\n",
              "  </thead>\n",
              "  <tbody>\n",
              "    <tr>\n",
              "      <th>3</th>\n",
              "      <td>4.6</td>\n",
              "      <td>3.1</td>\n",
              "      <td>1.5</td>\n",
              "      <td>0.2</td>\n",
              "      <td>0</td>\n",
              "    </tr>\n",
              "    <tr>\n",
              "      <th>4</th>\n",
              "      <td>5.0</td>\n",
              "      <td>3.6</td>\n",
              "      <td>1.4</td>\n",
              "      <td>0.2</td>\n",
              "      <td>0</td>\n",
              "    </tr>\n",
              "  </tbody>\n",
              "</table>\n",
              "</div>"
            ],
            "text/plain": [
              "   150    4  setosa  versicolor  virginica\n",
              "3  4.6  3.1     1.5         0.2          0\n",
              "4  5.0  3.6     1.4         0.2          0"
            ]
          },
          "metadata": {
            "tags": []
          },
          "execution_count": 32
        }
      ]
    },
    {
      "cell_type": "markdown",
      "metadata": {
        "id": "iLS4mmnncwbL"
      },
      "source": [
        "**2. Desde Google Drive**"
      ]
    },
    {
      "cell_type": "code",
      "metadata": {
        "id": "9dqAk3cLc1xx",
        "colab": {
          "base_uri": "https://localhost:8080/"
        },
        "outputId": "f26c55bc-e716-4538-a79d-17384851cff6"
      },
      "source": [
        "from google.colab import drive\n",
        "drive.mount('/gdrive')"
      ],
      "execution_count": null,
      "outputs": [
        {
          "output_type": "stream",
          "text": [
            "Mounted at /gdrive\n"
          ],
          "name": "stdout"
        }
      ]
    },
    {
      "cell_type": "code",
      "metadata": {
        "id": "9RgZ0m4YdMmp",
        "colab": {
          "base_uri": "https://localhost:8080/"
        },
        "outputId": "7c9f3b9a-f7f8-4366-d061-bb47238ebf78"
      },
      "source": [
        "!ls \"/gdrive/\"\n"
      ],
      "execution_count": null,
      "outputs": [
        {
          "output_type": "stream",
          "text": [
            "MyDrive\n"
          ],
          "name": "stdout"
        }
      ]
    },
    {
      "cell_type": "markdown",
      "metadata": {
        "id": "NjGdd3FkT3PP"
      },
      "source": [
        "# 5. Utilidades en los Notebooks "
      ]
    },
    {
      "cell_type": "markdown",
      "metadata": {
        "id": "sKPDUCvnUDxq"
      },
      "source": [
        "## Integración con bash\n",
        "\n",
        "De forma nativa jupyter tiene integración con comandos de bash. Estos son reconocidos mediante el prefijo <span style=\"border: solid 1px #aaa; padding: 2px; border-radius: 4px;\">!</span>. Por ejemplo, si quisiera ver qué versión de python estoy ejecutando:"
      ]
    },
    {
      "cell_type": "code",
      "metadata": {
        "id": "ypn_RbnYT_a_",
        "colab": {
          "base_uri": "https://localhost:8080/",
          "height": 34
        },
        "outputId": "e0463038-8512-4bca-95c8-a677c244b143"
      },
      "source": [
        "!python --version"
      ],
      "execution_count": null,
      "outputs": [
        {
          "output_type": "stream",
          "text": [
            "Python 3.6.9\n"
          ],
          "name": "stdout"
        }
      ]
    },
    {
      "cell_type": "code",
      "metadata": {
        "id": "kdydb7nZUUyy"
      },
      "source": [
        "files_in_path = !ls"
      ],
      "execution_count": null,
      "outputs": []
    },
    {
      "cell_type": "code",
      "metadata": {
        "id": "qI_lwPE3UXId",
        "colab": {
          "base_uri": "https://localhost:8080/",
          "height": 34
        },
        "outputId": "580b9422-69bf-4528-af82-97b137bd8b88"
      },
      "source": [
        "print(files_in_path)"
      ],
      "execution_count": null,
      "outputs": [
        {
          "output_type": "stream",
          "text": [
            "['iris.csv  sample_data']\n"
          ],
          "name": "stdout"
        }
      ]
    },
    {
      "cell_type": "code",
      "metadata": {
        "id": "7tEJg9BfeK9C",
        "colab": {
          "base_uri": "https://localhost:8080/",
          "height": 1000
        },
        "outputId": "02e4bc74-d591-44b8-8cfa-92a198c8c533"
      },
      "source": [
        "!cat \"/gdrive/My Drive/Intro Big Data 2020-1/1. Intro_Notebooks_Colab/iris.csv\""
      ],
      "execution_count": null,
      "outputs": [
        {
          "output_type": "stream",
          "text": [
            "sepal_length,sepal_width,petal_length,petal_width,label\n",
            "5.1,3.5,1.4,0.2,Iris-setosa\n",
            "4.9,3.0,1.4,0.2,Iris-setosa\n",
            "4.7,3.2,1.3,0.2,Iris-setosa\n",
            "4.6,3.1,1.5,0.2,Iris-setosa\n",
            "5.0,3.6,1.4,0.2,Iris-setosa\n",
            "5.4,3.9,1.7,0.4,Iris-setosa\n",
            "4.6,3.4,1.4,0.3,Iris-setosa\n",
            "5.0,3.4,1.5,0.2,Iris-setosa\n",
            "4.4,2.9,1.4,0.2,Iris-setosa\n",
            "4.9,3.1,1.5,0.1,Iris-setosa\n",
            "5.4,3.7,1.5,0.2,Iris-setosa\n",
            "4.8,3.4,1.6,0.2,Iris-setosa\n",
            "4.8,3.0,1.4,0.1,Iris-setosa\n",
            "4.3,3.0,1.1,0.1,Iris-setosa\n",
            "5.8,4.0,1.2,0.2,Iris-setosa\n",
            "5.7,4.4,1.5,0.4,Iris-setosa\n",
            "5.4,3.9,1.3,0.4,Iris-setosa\n",
            "5.1,3.5,1.4,0.3,Iris-setosa\n",
            "5.7,3.8,1.7,0.3,Iris-setosa\n",
            "5.1,3.8,1.5,0.3,Iris-setosa\n",
            "5.4,3.4,1.7,0.2,Iris-setosa\n",
            "5.1,3.7,1.5,0.4,Iris-setosa\n",
            "4.6,3.6,1.0,0.2,Iris-setosa\n",
            "5.1,3.3,1.7,0.5,Iris-setosa\n",
            "4.8,3.4,1.9,0.2,Iris-setosa\n",
            "5.0,3.0,1.6,0.2,Iris-setosa\n",
            "5.0,3.4,1.6,0.4,Iris-setosa\n",
            "5.2,3.5,1.5,0.2,Iris-setosa\n",
            "5.2,3.4,1.4,0.2,Iris-setosa\n",
            "4.7,3.2,1.6,0.2,Iris-setosa\n",
            "4.8,3.1,1.6,0.2,Iris-setosa\n",
            "5.4,3.4,1.5,0.4,Iris-setosa\n",
            "5.2,4.1,1.5,0.1,Iris-setosa\n",
            "5.5,4.2,1.4,0.2,Iris-setosa\n",
            "4.9,3.1,1.5,0.1,Iris-setosa\n",
            "5.0,3.2,1.2,0.2,Iris-setosa\n",
            "5.5,3.5,1.3,0.2,Iris-setosa\n",
            "4.9,3.1,1.5,0.1,Iris-setosa\n",
            "4.4,3.0,1.3,0.2,Iris-setosa\n",
            "5.1,3.4,1.5,0.2,Iris-setosa\n",
            "5.0,3.5,1.3,0.3,Iris-setosa\n",
            "4.5,2.3,1.3,0.3,Iris-setosa\n",
            "4.4,3.2,1.3,0.2,Iris-setosa\n",
            "5.0,3.5,1.6,0.6,Iris-setosa\n",
            "5.1,3.8,1.9,0.4,Iris-setosa\n",
            "4.8,3.0,1.4,0.3,Iris-setosa\n",
            "5.1,3.8,1.6,0.2,Iris-setosa\n",
            "4.6,3.2,1.4,0.2,Iris-setosa\n",
            "5.3,3.7,1.5,0.2,Iris-setosa\n",
            "5.0,3.3,1.4,0.2,Iris-setosa\n",
            "7.0,3.2,4.7,1.4,Iris-versicolor\n",
            "6.4,3.2,4.5,1.5,Iris-versicolor\n",
            "6.9,3.1,4.9,1.5,Iris-versicolor\n",
            "5.5,2.3,4.0,1.3,Iris-versicolor\n",
            "6.5,2.8,4.6,1.5,Iris-versicolor\n",
            "5.7,2.8,4.5,1.3,Iris-versicolor\n",
            "6.3,3.3,4.7,1.6,Iris-versicolor\n",
            "4.9,2.4,3.3,1.0,Iris-versicolor\n",
            "6.6,2.9,4.6,1.3,Iris-versicolor\n",
            "5.2,2.7,3.9,1.4,Iris-versicolor\n",
            "5.0,2.0,3.5,1.0,Iris-versicolor\n",
            "5.9,3.0,4.2,1.5,Iris-versicolor\n",
            "6.0,2.2,4.0,1.0,Iris-versicolor\n",
            "6.1,2.9,4.7,1.4,Iris-versicolor\n",
            "5.6,2.9,3.6,1.3,Iris-versicolor\n",
            "6.7,3.1,4.4,1.4,Iris-versicolor\n",
            "5.6,3.0,4.5,1.5,Iris-versicolor\n",
            "5.8,2.7,4.1,1.0,Iris-versicolor\n",
            "6.2,2.2,4.5,1.5,Iris-versicolor\n",
            "5.6,2.5,3.9,1.1,Iris-versicolor\n",
            "5.9,3.2,4.8,1.8,Iris-versicolor\n",
            "6.1,2.8,4.0,1.3,Iris-versicolor\n",
            "6.3,2.5,4.9,1.5,Iris-versicolor\n",
            "6.1,2.8,4.7,1.2,Iris-versicolor\n",
            "6.4,2.9,4.3,1.3,Iris-versicolor\n",
            "6.6,3.0,4.4,1.4,Iris-versicolor\n",
            "6.8,2.8,4.8,1.4,Iris-versicolor\n",
            "6.7,3.0,5.0,1.7,Iris-versicolor\n",
            "6.0,2.9,4.5,1.5,Iris-versicolor\n",
            "5.7,2.6,3.5,1.0,Iris-versicolor\n",
            "5.5,2.4,3.8,1.1,Iris-versicolor\n",
            "5.5,2.4,3.7,1.0,Iris-versicolor\n",
            "5.8,2.7,3.9,1.2,Iris-versicolor\n",
            "6.0,2.7,5.1,1.6,Iris-versicolor\n",
            "5.4,3.0,4.5,1.5,Iris-versicolor\n",
            "6.0,3.4,4.5,1.6,Iris-versicolor\n",
            "6.7,3.1,4.7,1.5,Iris-versicolor\n",
            "6.3,2.3,4.4,1.3,Iris-versicolor\n",
            "5.6,3.0,4.1,1.3,Iris-versicolor\n",
            "5.5,2.5,4.0,1.3,Iris-versicolor\n",
            "5.5,2.6,4.4,1.2,Iris-versicolor\n",
            "6.1,3.0,4.6,1.4,Iris-versicolor\n",
            "5.8,2.6,4.0,1.2,Iris-versicolor\n",
            "5.0,2.3,3.3,1.0,Iris-versicolor\n",
            "5.6,2.7,4.2,1.3,Iris-versicolor\n",
            "5.7,3.0,4.2,1.2,Iris-versicolor\n",
            "5.7,2.9,4.2,1.3,Iris-versicolor\n",
            "6.2,2.9,4.3,1.3,Iris-versicolor\n",
            "5.1,2.5,3.0,1.1,Iris-versicolor\n",
            "5.7,2.8,4.1,1.3,Iris-versicolor\n",
            "6.3,3.3,6.0,2.5,Iris-virginica\n",
            "5.8,2.7,5.1,1.9,Iris-virginica\n",
            "7.1,3.0,5.9,2.1,Iris-virginica\n",
            "6.3,2.9,5.6,1.8,Iris-virginica\n",
            "6.5,3.0,5.8,2.2,Iris-virginica\n",
            "7.6,3.0,6.6,2.1,Iris-virginica\n",
            "4.9,2.5,4.5,1.7,Iris-virginica\n",
            "7.3,2.9,6.3,1.8,Iris-virginica\n",
            "6.7,2.5,5.8,1.8,Iris-virginica\n",
            "7.2,3.6,6.1,2.5,Iris-virginica\n",
            "6.5,3.2,5.1,2.0,Iris-virginica\n",
            "6.4,2.7,5.3,1.9,Iris-virginica\n",
            "6.8,3.0,5.5,2.1,Iris-virginica\n",
            "5.7,2.5,5.0,2.0,Iris-virginica\n",
            "5.8,2.8,5.1,2.4,Iris-virginica\n",
            "6.4,3.2,5.3,2.3,Iris-virginica\n",
            "6.5,3.0,5.5,1.8,Iris-virginica\n",
            "7.7,3.8,6.7,2.2,Iris-virginica\n",
            "7.7,2.6,6.9,2.3,Iris-virginica\n",
            "6.0,2.2,5.0,1.5,Iris-virginica\n",
            "6.9,3.2,5.7,2.3,Iris-virginica\n",
            "5.6,2.8,4.9,2.0,Iris-virginica\n",
            "7.7,2.8,6.7,2.0,Iris-virginica\n",
            "6.3,2.7,4.9,1.8,Iris-virginica\n",
            "6.7,3.3,5.7,2.1,Iris-virginica\n",
            "7.2,3.2,6.0,1.8,Iris-virginica\n",
            "6.2,2.8,4.8,1.8,Iris-virginica\n",
            "6.1,3.0,4.9,1.8,Iris-virginica\n",
            "6.4,2.8,5.6,2.1,Iris-virginica\n",
            "7.2,3.0,5.8,1.6,Iris-virginica\n",
            "7.4,2.8,6.1,1.9,Iris-virginica\n",
            "7.9,3.8,6.4,2.0,Iris-virginica\n",
            "6.4,2.8,5.6,2.2,Iris-virginica\n",
            "6.3,2.8,5.1,1.5,Iris-virginica\n",
            "6.1,2.6,5.6,1.4,Iris-virginica\n",
            "7.7,3.0,6.1,2.3,Iris-virginica\n",
            "6.3,3.4,5.6,2.4,Iris-virginica\n",
            "6.4,3.1,5.5,1.8,Iris-virginica\n",
            "6.0,3.0,4.8,1.8,Iris-virginica\n",
            "6.9,3.1,5.4,2.1,Iris-virginica\n",
            "6.7,3.1,5.6,2.4,Iris-virginica\n",
            "6.9,3.1,5.1,2.3,Iris-virginica\n",
            "5.8,2.7,5.1,1.9,Iris-virginica\n",
            "6.8,3.2,5.9,2.3,Iris-virginica\n",
            "6.7,3.3,5.7,2.5,Iris-virginica\n",
            "6.7,3.0,5.2,2.3,Iris-virginica\n",
            "6.3,2.5,5.0,1.9,Iris-virginica\n",
            "6.5,3.0,5.2,2.0,Iris-virginica\n",
            "6.2,3.4,5.4,2.3,Iris-virginica\n",
            "5.9,3.0,5.1,1.8,Iris-virginica\n",
            "\n"
          ],
          "name": "stdout"
        }
      ]
    },
    {
      "cell_type": "markdown",
      "metadata": {
        "id": "dRNgKnOSUOb2"
      },
      "source": [
        "## Integración de HTML"
      ]
    },
    {
      "cell_type": "code",
      "metadata": {
        "id": "EHpqPBqNUM-x",
        "colab": {
          "base_uri": "https://localhost:8080/",
          "height": 125
        },
        "outputId": "5239a4e2-58cd-44bc-c2a1-5be3f634837b"
      },
      "source": [
        "%%html\n",
        "<MARQUEE>Esta es una prueba que si funciona\n",
        "  <img src='https://www.google.nl/images/branding/googlelogo/1x/googlelogo_color_272x92dp.png' width='200' height='100'/>\n",
        "</MARQUEE>"
      ],
      "execution_count": null,
      "outputs": [
        {
          "output_type": "display_data",
          "data": {
            "text/html": [
              "<MARQUEE>Esta es una prueba que si funciona\n",
              "  <img src='https://www.google.nl/images/branding/googlelogo/1x/googlelogo_color_272x92dp.png' width='200' height='100'/>\n",
              "</MARQUEE>"
            ],
            "text/plain": [
              "<IPython.core.display.HTML object>"
            ]
          },
          "metadata": {
            "tags": []
          }
        }
      ]
    },
    {
      "cell_type": "markdown",
      "metadata": {
        "id": "1Imybr_5XFoT"
      },
      "source": [
        "## Extensiones de la comunidad\n",
        "\n",
        "Con la rápida adopción y la creciente comunidad de usuarios de Jupyter, han aparecido una gran cantidad de extensiones que le agregan funcionalidades. Éstas se encuentran en el repositorio de extensiones de Jupyter.\n",
        "Las extensiones disponibles ofrecen un amplio rango de funcionalidades agregadas. Desde correctores ortográficos hasta generadores automaticos de tablas de contenidos."
      ]
    },
    {
      "cell_type": "code",
      "metadata": {
        "id": "C_sarJoMksiG"
      },
      "source": [
        ""
      ],
      "execution_count": null,
      "outputs": []
    }
  ]
}