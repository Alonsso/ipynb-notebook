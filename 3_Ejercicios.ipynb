{
  "nbformat": 4,
  "nbformat_minor": 0,
  "metadata": {
    "colab": {
      "name": "3_Ejercicios.ipynb",
      "provenance": [],
      "collapsed_sections": [],
      "toc_visible": true,
      "include_colab_link": true
    },
    "kernelspec": {
      "display_name": "Python 3",
      "language": "python",
      "name": "python3"
    }
  },
  "cells": [
    {
      "cell_type": "markdown",
      "metadata": {
        "id": "view-in-github",
        "colab_type": "text"
      },
      "source": [
        "<a href=\"https://colab.research.google.com/github/Alonsso/ipynb-notebooks/blob/main/3_Ejercicios.ipynb\" target=\"_parent\"><img src=\"https://colab.research.google.com/assets/colab-badge.svg\" alt=\"Open In Colab\"/></a>"
      ]
    },
    {
      "cell_type": "markdown",
      "metadata": {
        "id": "Wq3TTTOhv_XG"
      },
      "source": [
        "# Ejercicios curso rápido de Python \n",
        "\n",
        "En este notebook se plantan algunos ejercicios de programación en Python para repasar los conceptos estudiados. Si usted piensa que necesita más bases de programación o más bases de Python por favor considere hacer trabajo extra para ponerse al día. Por ejemplo con el siguiente curso en línea: [CodeCademy: Learn Python (10 hours)](https://www.codecademy.com/courses/learn-python/lessons/python-syntax/exercises/welcome?action=lesson_resume)."
      ]
    },
    {
      "cell_type": "markdown",
      "metadata": {
        "id": "vIhFXSDKv_XM"
      },
      "source": [
        "## Ejercicios\n",
        "\n",
        "Conteste las preguntas o complete las tareas que se presentan en negrilla a continuación. Use los métodos de Python cuando sea necesario."
      ]
    },
    {
      "cell_type": "markdown",
      "metadata": {
        "id": "SCdd0p4-v_XQ"
      },
      "source": [
        "**Calcular el resultado de 7 elevado a la potencia de 4.**"
      ]
    },
    {
      "cell_type": "code",
      "metadata": {
        "id": "vM3YnNdEv_XX",
        "colab": {
          "base_uri": "https://localhost:8080/"
        },
        "outputId": "8d636547-a57c-4ce8-98bb-a7bd5cdbb6b5"
      },
      "source": [
        "7 ** 4"
      ],
      "execution_count": null,
      "outputs": [
        {
          "output_type": "execute_result",
          "data": {
            "text/plain": [
              "2401"
            ]
          },
          "metadata": {},
          "execution_count": 1
        }
      ]
    },
    {
      "cell_type": "code",
      "metadata": {
        "id": "nuVkmGFnv_Xg",
        "outputId": "b36a3f78-58e9-42be-8c83-de1eda926c45"
      },
      "source": [
        "# NO USAR ESTA CELDA PARA QUE NO SE BORRE EL RESULTADO ESPERADO"
      ],
      "execution_count": null,
      "outputs": [
        {
          "output_type": "execute_result",
          "data": {
            "text/plain": [
              "2401"
            ]
          },
          "metadata": {
            "tags": []
          },
          "execution_count": 1
        }
      ]
    },
    {
      "cell_type": "markdown",
      "metadata": {
        "id": "uN0TW4n9v_Xt"
      },
      "source": [
        "**Separe la siguiente cadena (usando como delimitador los espacios):**\n",
        "\n",
        "    s = \"Hola, este es un ejercio de Python!\"\n",
        "    \n",
        "**en una lista.**"
      ]
    },
    {
      "cell_type": "code",
      "metadata": {
        "id": "SAqg16Fcv_Xv"
      },
      "source": [
        "s = \"Hola, este es un ejercio de Python!\""
      ],
      "execution_count": null,
      "outputs": []
    },
    {
      "cell_type": "code",
      "metadata": {
        "id": "mfJMUTJgv_X2",
        "colab": {
          "base_uri": "https://localhost:8080/"
        },
        "outputId": "8ed79360-dce3-47e8-bea6-d8da2b0b2405"
      },
      "source": [
        "print(s.split(' '));"
      ],
      "execution_count": null,
      "outputs": [
        {
          "output_type": "stream",
          "text": [
            "['Hola,', 'este', 'es', 'un', 'ejercio', 'de', 'Python!']\n"
          ],
          "name": "stdout"
        }
      ]
    },
    {
      "cell_type": "code",
      "metadata": {
        "id": "zJRjhSJtv_X8",
        "outputId": "f03420cc-84a4-41b0-c004-ee741f909b72"
      },
      "source": [
        "# NO USAR ESTA CELDA PARA QUE NO SE BORRE EL RESULTADO ESPERADO"
      ],
      "execution_count": null,
      "outputs": [
        {
          "output_type": "execute_result",
          "data": {
            "text/plain": [
              "['Hola,', 'este', 'es', 'un', 'ejercio', 'de', 'Python!']"
            ]
          },
          "metadata": {
            "tags": []
          },
          "execution_count": 4
        }
      ]
    },
    {
      "cell_type": "markdown",
      "metadata": {
        "id": "Eg2AjGVMv_YH"
      },
      "source": [
        "**Dadas las siguientes variables:**\n",
        "\n",
        "    planeta = \"Tierra\"\n",
        "    diametro = 12756\n",
        "\n",
        "**Use el método .format() para imprimir en pantalla la siguiente cadena: **\n",
        "\n",
        "    El diámetro del planeta Tierra es 12756 kilometros."
      ]
    },
    {
      "cell_type": "code",
      "metadata": {
        "id": "Ws4ZZ9-cv_YL"
      },
      "source": [
        "planeta = \"Tierra\"\n",
        "diametro = 12756"
      ],
      "execution_count": null,
      "outputs": []
    },
    {
      "cell_type": "code",
      "metadata": {
        "id": "yXpp5WiSv_YR",
        "colab": {
          "base_uri": "https://localhost:8080/"
        },
        "outputId": "db590e4d-cb54-4626-b274-26b433f43784"
      },
      "source": [
        "print(\"El diámetro del planeta {planeta} es {diametro} kilometros\".format(planeta = planeta, diametro = diametro))"
      ],
      "execution_count": null,
      "outputs": [
        {
          "output_type": "stream",
          "text": [
            "El diámetro del planeta Tierra es 12756 kilometros\n"
          ],
          "name": "stdout"
        }
      ]
    },
    {
      "cell_type": "code",
      "metadata": {
        "id": "POq8J6Lpv_Ye",
        "outputId": "ed5c372c-2fa3-4bb7-8630-a162e504f348"
      },
      "source": [
        "# NO USAR ESTA CELDA PARA QUE NO SE BORRE EL RESULTADO ESPERADO"
      ],
      "execution_count": null,
      "outputs": [
        {
          "output_type": "stream",
          "text": [
            "El diámetro del planeta Tierra es 12756 kilometros.\n"
          ],
          "name": "stdout"
        }
      ]
    },
    {
      "cell_type": "markdown",
      "metadata": {
        "id": "M6rIDWpcv_Yv"
      },
      "source": [
        "**Dada la siguiente lista anidada, acceda a la palabra \"hola\" usando solamente los índices de la lista: **"
      ]
    },
    {
      "cell_type": "code",
      "metadata": {
        "id": "fAyI9VATv_Y0"
      },
      "source": [
        "lst = [1,2,[3,4],[5,[100,200,['hola']],23,11],1,7]"
      ],
      "execution_count": null,
      "outputs": []
    },
    {
      "cell_type": "code",
      "metadata": {
        "id": "ecOTBUy-v_Y7",
        "colab": {
          "base_uri": "https://localhost:8080/"
        },
        "outputId": "6d1e3599-b1e2-4b8d-b68c-15537404cf2f"
      },
      "source": [
        "print(lst[3][1][2])"
      ],
      "execution_count": null,
      "outputs": [
        {
          "output_type": "stream",
          "text": [
            "['hola']\n"
          ],
          "name": "stdout"
        }
      ]
    },
    {
      "cell_type": "code",
      "metadata": {
        "id": "fObqF47Kv_ZD",
        "outputId": "7bb30828-31e4-481f-d67c-483f05ebee3b"
      },
      "source": [
        "# NO USAR ESTA CELDA PARA QUE NO SE BORRE EL RESULTADO ESPERADO"
      ],
      "execution_count": null,
      "outputs": [
        {
          "output_type": "execute_result",
          "data": {
            "text/plain": [
              "'hola'"
            ]
          },
          "metadata": {
            "tags": []
          },
          "execution_count": 11
        }
      ]
    },
    {
      "cell_type": "markdown",
      "metadata": {
        "id": "OWkdUIt_v_ZR"
      },
      "source": [
        "**Dado el siguiente diccionario anidado, acceda a la palabra \"hola\". Este ejercicio puede ser un poco difícil. \n",
        "NOTA: Aunque este tipo de cosas no son necesarias normalmente, sirven para terminar de despejar dudas acerca del acceso a diccionarios y listas anidadas:**"
      ]
    },
    {
      "cell_type": "code",
      "metadata": {
        "id": "QK_axa1qv_ZU"
      },
      "source": [
        "d = {'k1':[1,2,3,{'difícil':['que','significa','esto',{'casi':[0,1,2,3,'hola']}]}]}"
      ],
      "execution_count": null,
      "outputs": []
    },
    {
      "cell_type": "code",
      "metadata": {
        "id": "L4AEk58Jv_Zb",
        "colab": {
          "base_uri": "https://localhost:8080/",
          "height": 36
        },
        "outputId": "85412d37-14cb-4c76-e418-d130d8a6e64f"
      },
      "source": [
        "d['k1'][3]['difícil'][3]['casi'][4]"
      ],
      "execution_count": null,
      "outputs": [
        {
          "output_type": "execute_result",
          "data": {
            "application/vnd.google.colaboratory.intrinsic+json": {
              "type": "string"
            },
            "text/plain": [
              "'hola'"
            ]
          },
          "metadata": {},
          "execution_count": 52
        }
      ]
    },
    {
      "cell_type": "code",
      "metadata": {
        "id": "Ptvfx2jOv_Zg",
        "outputId": "e5027187-cf25-4f3d-a155-d7391728098b"
      },
      "source": [
        "# NO USAR ESTA CELDA PARA QUE NO SE BORRE EL RESULTADO ESPERADO"
      ],
      "execution_count": null,
      "outputs": [
        {
          "output_type": "execute_result",
          "data": {
            "text/plain": [
              "'hola'"
            ]
          },
          "metadata": {
            "tags": []
          },
          "execution_count": 15
        }
      ]
    },
    {
      "cell_type": "markdown",
      "metadata": {
        "id": "zLb2ibKVv_Zs"
      },
      "source": [
        "**¿Cuál es la principal diferencia entre una tupla y una lista? Escriba su respuesta como un comentario de Python**"
      ]
    },
    {
      "cell_type": "code",
      "metadata": {
        "id": "vZkJMPP7v_Zv"
      },
      "source": [
        "#este último puede ser cualquier objeto: un número, una cadena, una función, una clase, una instancia, etc. \n",
        "#La diferencia es que las listas presentan una serie de funciones adicionales que permiten un amplio manejo de los valores que contienen.\n",
        "\n",
        "#Las tuplas son inmutables lo que las hace diferentes a las listas"
      ],
      "execution_count": null,
      "outputs": []
    },
    {
      "cell_type": "markdown",
      "metadata": {
        "id": "qZ5desSUv_Z9"
      },
      "source": [
        "**Crear una función llamada \"extraerDominio\" que extraiga el nombre de dominio de un email a partir de una cadena que contenga un email de la siguiente forma:**\n",
        "\n",
        "    usuario@dominio.com\n",
        "    \n",
        "**Por ejemplo: si se le pasa \"camargoj@gmail.com\", la función retornará: gmail.com**"
      ]
    },
    {
      "cell_type": "code",
      "metadata": {
        "id": "SnLVmAoUv_aC"
      },
      "source": [
        "# Definir la función en esta celda\n",
        "def extraerDominio(dominio):\n",
        "  return dominio.partition('@')[2]\n"
      ],
      "execution_count": null,
      "outputs": []
    },
    {
      "cell_type": "code",
      "metadata": {
        "id": "uQK42HdWv_aI",
        "colab": {
          "base_uri": "https://localhost:8080/",
          "height": 34
        },
        "outputId": "bd011c0a-576f-4681-84e3-100dff34551a"
      },
      "source": [
        "# Hacer pruebas en esta celda\n",
        "\n",
        "getDominio('camargoj@gmail.com')"
      ],
      "execution_count": null,
      "outputs": [
        {
          "output_type": "execute_result",
          "data": {
            "text/plain": [
              "'gmail.com'"
            ]
          },
          "metadata": {
            "tags": []
          },
          "execution_count": 37
        }
      ]
    },
    {
      "cell_type": "code",
      "metadata": {
        "id": "44R1evuAv_aU",
        "colab": {
          "base_uri": "https://localhost:8080/",
          "height": 36
        },
        "outputId": "351f2728-9795-4c40-9cb3-2601466521c8"
      },
      "source": [
        "extraerDominio('camargoj@gmail.com')"
      ],
      "execution_count": null,
      "outputs": [
        {
          "output_type": "execute_result",
          "data": {
            "application/vnd.google.colaboratory.intrinsic+json": {
              "type": "string"
            },
            "text/plain": [
              "'gmail.com'"
            ]
          },
          "metadata": {},
          "execution_count": 61
        }
      ]
    },
    {
      "cell_type": "markdown",
      "metadata": {
        "id": "TpfnyisEv_ag"
      },
      "source": [
        "**Crear una función que retorne True si la palabra 'perro' está contenida en la cadena de entrada; False, en caso contrario. Por ahora no se preocupe por casos especiales como cuando la palabra tiene algún signo de puntuación inmediatamente despúes de ésta, pero si tenga en cuenta que la palabra puede estar en mayúsculas, minúsculas o una mezcla de ellas.**"
      ]
    },
    {
      "cell_type": "code",
      "metadata": {
        "id": "2ZcgJvtkv_ak"
      },
      "source": [
        "# Definir la función en esta celda\n",
        "def encontrarPerro(cadena):\n",
        "  cadenaLow = cadena.lower()\n",
        "  if 'perro' in cadenaLow:\n",
        "    return True;\n",
        "  return False;"
      ],
      "execution_count": 9,
      "outputs": []
    },
    {
      "cell_type": "code",
      "metadata": {
        "id": "ohjRmCfrv_ap",
        "colab": {
          "base_uri": "https://localhost:8080/",
          "height": 34
        },
        "outputId": "f9355312-86d0-42fa-b8d8-a8f3be7fd2b5"
      },
      "source": [
        "# Hacer pruebas en esta celda\n"
      ],
      "execution_count": null,
      "outputs": [
        {
          "output_type": "execute_result",
          "data": {
            "text/plain": [
              "True"
            ]
          },
          "metadata": {
            "tags": []
          },
          "execution_count": 56
        }
      ]
    },
    {
      "cell_type": "code",
      "metadata": {
        "id": "B--kSRoov_at",
        "outputId": "3a678201-e634-4ec1-cfe2-c81ba7ad341b",
        "colab": {
          "base_uri": "https://localhost:8080/"
        }
      },
      "source": [
        "encontrarPerro('¿Hay algún peRRo aquí?')"
      ],
      "execution_count": 10,
      "outputs": [
        {
          "output_type": "execute_result",
          "data": {
            "text/plain": [
              "True"
            ]
          },
          "metadata": {},
          "execution_count": 10
        }
      ]
    },
    {
      "cell_type": "markdown",
      "metadata": {
        "id": "NQiWhhHVv_a8"
      },
      "source": [
        "**Crear una función que cuente el número de veces que aparece la palabra \"perro\" en una cadena. Puede ignorar casos especiales como antes.**"
      ]
    },
    {
      "cell_type": "code",
      "metadata": {
        "id": "bjA4rCA3v_a-"
      },
      "source": [
        "# Definir la función en esta celda\n",
        "def contarPerro(cadena):\n",
        "  cant = 0\n",
        "  cadenaLow = cadena.lower()\n",
        "  cadenaSplit = cadenaLow.split(' ')\n",
        "  return cadenaSplit.count('perro')\n"
      ],
      "execution_count": 19,
      "outputs": []
    },
    {
      "cell_type": "code",
      "metadata": {
        "id": "WT9_DF6rv_bE",
        "colab": {
          "base_uri": "https://localhost:8080/"
        },
        "outputId": "16272826-206f-4124-8891-bc6633d0ab28"
      },
      "source": [
        "# Hacer pruebas en esta celda\n",
        "\n",
        "contarPerro('Este peRRO corre más rápido que el perro blanco y el perro negro!')"
      ],
      "execution_count": 20,
      "outputs": [
        {
          "output_type": "execute_result",
          "data": {
            "text/plain": [
              "3"
            ]
          },
          "metadata": {},
          "execution_count": 20
        }
      ]
    },
    {
      "cell_type": "code",
      "metadata": {
        "id": "kOVujSn_v_bK",
        "outputId": "587a6461-bdf2-47b9-df90-3cabad115f5a",
        "colab": {
          "base_uri": "https://localhost:8080/"
        }
      },
      "source": [
        "contarPerro('Este peRRO corre más rápido que el perro blanco y el perro negro!')"
      ],
      "execution_count": 21,
      "outputs": [
        {
          "output_type": "execute_result",
          "data": {
            "text/plain": [
              "3"
            ]
          },
          "metadata": {},
          "execution_count": 21
        }
      ]
    },
    {
      "cell_type": "markdown",
      "metadata": {
        "id": "u9ljFoxBv_bU"
      },
      "source": [
        "**Usar una expresión lambda y la función filter() para filtrar las palabras de una lista que comiencen con la letra 's'. Por ejemplo:**\n",
        "\n",
        "    seq = ['sopa','perro','sal','gato','grande']\n",
        "\n",
        "**se debe filtrar como:**\n",
        "\n",
        "    ['sopa','sal']"
      ]
    },
    {
      "cell_type": "code",
      "metadata": {
        "id": "bvgrJi2nv_bV"
      },
      "source": [
        "seq = ['sopa','perro','sal','gato','grande']"
      ],
      "execution_count": 22,
      "outputs": []
    },
    {
      "cell_type": "code",
      "metadata": {
        "id": "bCsEgBJBv_bZ",
        "colab": {
          "base_uri": "https://localhost:8080/"
        },
        "outputId": "299081e9-57e4-4929-cc6c-e2b419dfdaa3"
      },
      "source": [
        "list(filter(lambda item : item.startswith('s'), seq))"
      ],
      "execution_count": 25,
      "outputs": [
        {
          "output_type": "execute_result",
          "data": {
            "text/plain": [
              "['sopa', 'sal']"
            ]
          },
          "metadata": {},
          "execution_count": 25
        }
      ]
    },
    {
      "cell_type": "code",
      "metadata": {
        "id": "wp_XZD9Fv_bi",
        "outputId": "b71a34ba-11bd-4825-8297-ac8e95d1bf20"
      },
      "source": [
        "# NO USAR ESTA CELDA PARA QUE NO SE BORRE EL RESULTADO ESPERADO"
      ],
      "execution_count": null,
      "outputs": [
        {
          "output_type": "execute_result",
          "data": {
            "text/plain": [
              "['sopa', 'sal']"
            ]
          },
          "metadata": {
            "tags": []
          },
          "execution_count": 50
        }
      ]
    },
    {
      "cell_type": "markdown",
      "metadata": {
        "id": "xE0y1M7gv_bl"
      },
      "source": [
        "### Problema final\n",
        "**Usted va conduciendo su carro muy rápido y es detenido por un agente de tránsito. Escriba una función que retorne uno de los 3 siguientes resultados: \"Sin multa\", \"Multa pequeña\", or \"Multa grande\". \n",
        "  Si la velocidad es 60 Km/h o menos, el resultado es \"Sin multa\". Si la velocidad está entre 60 y 80 Km/h (inclusive), el resultado es \"Multa pequeña\". Si la velocidad es mayor a 80 Km/h, el resultado es \"Multa grande\". Además, considere que si esto ocurre el día de su cumpleaños (codificado como parámetro booleano que recibe la función), su velocidad podría ser 5 Km/ mayor en todos los casos.**"
      ]
    },
    {
      "cell_type": "code",
      "metadata": {
        "id": "6uxuLDR0v_bm"
      },
      "source": [
        "# Definir la función aquí\n",
        "def definirMulta(velocidad, cumple_bool):\n",
        "  if cumple_bool:\n",
        "    if velocidad <= 65:\n",
        "      return 'Sin multa'\n",
        "    elif velocidad > 65 and velocidad <= 85:\n",
        "      return 'Multa pequeña'\n",
        "    elif velocidad > 85:\n",
        "      return 'Multa grande'\n",
        "  else:\n",
        "    if velocidad <= 60:\n",
        "      return 'Sin multa'\n",
        "    elif velocidad > 60 and velocidad <= 80:\n",
        "      return 'Multa pequeña'\n",
        "    elif velocidad > 80:\n",
        "      return 'Multa grande'\n"
      ],
      "execution_count": 26,
      "outputs": []
    },
    {
      "cell_type": "code",
      "metadata": {
        "id": "--dxQG-Iv_bp",
        "colab": {
          "base_uri": "https://localhost:8080/",
          "height": 36
        },
        "outputId": "1dd2f3bb-2cb5-49a5-abcc-88e342e295cc"
      },
      "source": [
        "# Hacer pruebas aquí\n",
        "\n",
        "definirMulta(60,False)"
      ],
      "execution_count": 27,
      "outputs": [
        {
          "output_type": "execute_result",
          "data": {
            "application/vnd.google.colaboratory.intrinsic+json": {
              "type": "string"
            },
            "text/plain": [
              "'Sin multa'"
            ]
          },
          "metadata": {},
          "execution_count": 27
        }
      ]
    },
    {
      "cell_type": "code",
      "metadata": {
        "id": "yLWqy7NWv_bv",
        "outputId": "02c93f48-56a3-4913-926e-71faefcda6b7",
        "colab": {
          "base_uri": "https://localhost:8080/",
          "height": 36
        }
      },
      "source": [
        "definirMulta(80,True)"
      ],
      "execution_count": 28,
      "outputs": [
        {
          "output_type": "execute_result",
          "data": {
            "application/vnd.google.colaboratory.intrinsic+json": {
              "type": "string"
            },
            "text/plain": [
              "'Multa pequeña'"
            ]
          },
          "metadata": {},
          "execution_count": 28
        }
      ]
    },
    {
      "cell_type": "code",
      "metadata": {
        "id": "Azjv8GE7v_b0",
        "outputId": "d090b4aa-594a-4e69-de82-fd41a96cc460",
        "colab": {
          "base_uri": "https://localhost:8080/",
          "height": 36
        }
      },
      "source": [
        "definirMulta(81,False)"
      ],
      "execution_count": 31,
      "outputs": [
        {
          "output_type": "execute_result",
          "data": {
            "application/vnd.google.colaboratory.intrinsic+json": {
              "type": "string"
            },
            "text/plain": [
              "'Multa grande'"
            ]
          },
          "metadata": {},
          "execution_count": 31
        }
      ]
    }
  ]
}