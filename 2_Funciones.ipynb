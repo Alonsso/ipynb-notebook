{
  "nbformat": 4,
  "nbformat_minor": 0,
  "metadata": {
    "colab": {
      "name": "2_Funciones.ipynb",
      "provenance": [],
      "collapsed_sections": [],
      "include_colab_link": true
    },
    "kernelspec": {
      "display_name": "Python 3",
      "language": "python",
      "name": "python3"
    }
  },
  "cells": [
    {
      "cell_type": "markdown",
      "metadata": {
        "id": "view-in-github",
        "colab_type": "text"
      },
      "source": [
        "<a href=\"https://colab.research.google.com/github/Alonsso/ipynb-notebook/blob/main/2_Funciones.ipynb\" target=\"_parent\"><img src=\"https://colab.research.google.com/assets/colab-badge.svg\" alt=\"Open In Colab\"/></a>"
      ]
    },
    {
      "cell_type": "markdown",
      "metadata": {
        "id": "LXlv9Mj9-1QE"
      },
      "source": [
        "# Funciones\n",
        "\n",
        "Una función, es la forma de agrupar expresiones para realizar  determinadas acciones. \n",
        "\n",
        "La ejecucución de éstas depende que sea llamado el bloque que las define. "
      ]
    },
    {
      "cell_type": "markdown",
      "metadata": {
        "id": "GD0iKA88DclK"
      },
      "source": [
        "## Definición de Funciones\n",
        "\n",
        "En Python, la definición de funciones se realiza mediante la instrucción def más un nombre de función descriptivo.\n",
        "\n",
        "La definición de la función finaliza con dos puntos (:)\n",
        "\n"
      ]
    },
    {
      "cell_type": "code",
      "metadata": {
        "id": "NyE9YtbaDclK"
      },
      "source": [
        "def my_func(param1='datos de entrada'):\n",
        "    \"\"\"\n",
        "    Aquí irá la documentación\n",
        "    \"\"\"\n",
        "    print(param1)"
      ],
      "execution_count": null,
      "outputs": []
    },
    {
      "cell_type": "code",
      "metadata": {
        "id": "7jY8vLLsDclM",
        "colab": {
          "base_uri": "https://localhost:8080/"
        },
        "outputId": "d1a8ecc9-b558-4eab-91ae-5e31489b2d76"
      },
      "source": [
        "my_func"
      ],
      "execution_count": null,
      "outputs": [
        {
          "output_type": "execute_result",
          "data": {
            "text/plain": [
              "<function __main__.my_func>"
            ]
          },
          "metadata": {
            "tags": []
          },
          "execution_count": 2
        }
      ]
    },
    {
      "cell_type": "code",
      "metadata": {
        "id": "nt34DpTPDclN",
        "colab": {
          "base_uri": "https://localhost:8080/"
        },
        "outputId": "2b0d33a5-ffc8-46df-9a5e-5f57bbb928bb"
      },
      "source": [
        "my_func()"
      ],
      "execution_count": null,
      "outputs": [
        {
          "output_type": "stream",
          "text": [
            "datos de entrada\n"
          ],
          "name": "stdout"
        }
      ]
    },
    {
      "cell_type": "code",
      "metadata": {
        "id": "BuF7tmG1DclN",
        "colab": {
          "base_uri": "https://localhost:8080/"
        },
        "outputId": "e0c750f5-b6c9-4621-d96c-4d02c65c2383"
      },
      "source": [
        "my_func('nuevo valor del parametro')"
      ],
      "execution_count": null,
      "outputs": [
        {
          "output_type": "stream",
          "text": [
            "nuevo valor del parametro\n"
          ],
          "name": "stdout"
        }
      ]
    },
    {
      "cell_type": "code",
      "metadata": {
        "id": "2MRHJcX7DclO",
        "colab": {
          "base_uri": "https://localhost:8080/"
        },
        "outputId": "e5e04b56-0fd3-4b9b-df3c-d9254d5d68e7"
      },
      "source": [
        "my_func(param1='nuevo valor del parametro')"
      ],
      "execution_count": null,
      "outputs": [
        {
          "output_type": "stream",
          "text": [
            "nuevo valor del parametro\n"
          ],
          "name": "stdout"
        }
      ]
    },
    {
      "cell_type": "code",
      "metadata": {
        "id": "6M-2n30_DclQ"
      },
      "source": [
        "def saludar(nombre):\n",
        "    print('Hola ' + nombre)"
      ],
      "execution_count": null,
      "outputs": []
    },
    {
      "cell_type": "code",
      "metadata": {
        "id": "ZGlveH2sDclR",
        "colab": {
          "base_uri": "https://localhost:8080/"
        },
        "outputId": "89e74684-37a8-4427-d2d5-666a9503d4eb"
      },
      "source": [
        "saludar('Jorge')"
      ],
      "execution_count": null,
      "outputs": [
        {
          "output_type": "stream",
          "text": [
            "Hola Jorge\n"
          ],
          "name": "stdout"
        }
      ]
    },
    {
      "cell_type": "code",
      "metadata": {
        "id": "XONROccMDclR"
      },
      "source": [
        "def square(x):\n",
        "    return x**2"
      ],
      "execution_count": null,
      "outputs": []
    },
    {
      "cell_type": "code",
      "metadata": {
        "id": "hdGUQTgeDclS"
      },
      "source": [
        "out = square(100)"
      ],
      "execution_count": null,
      "outputs": []
    },
    {
      "cell_type": "code",
      "metadata": {
        "id": "QTNxENIFDclS",
        "colab": {
          "base_uri": "https://localhost:8080/"
        },
        "outputId": "0dec7364-ea97-4419-aa92-b9967a6c7634"
      },
      "source": [
        "print(out)"
      ],
      "execution_count": null,
      "outputs": [
        {
          "output_type": "stream",
          "text": [
            "10000\n"
          ],
          "name": "stdout"
        }
      ]
    },
    {
      "cell_type": "code",
      "metadata": {
        "id": "UA237qnZDclS"
      },
      "source": [
        "def square(x):\n",
        "    \"\"\"\n",
        "    Esta es la documentación de la función.\n",
        "    Puede tener múltiples líneas.\n",
        "    La función square retorna un número x elevado al cuadrado.\n",
        "    \"\"\"\n",
        "    return x**2"
      ],
      "execution_count": null,
      "outputs": []
    },
    {
      "cell_type": "code",
      "metadata": {
        "id": "s6zsuEILDclU"
      },
      "source": [
        "# Puedo ver la documentación con ?\n",
        "print?"
      ],
      "execution_count": null,
      "outputs": []
    },
    {
      "cell_type": "code",
      "metadata": {
        "id": "hV6Zbl7FnoXu"
      },
      "source": [
        "def potencia(x):\n",
        "  \"\"\"\n",
        "  La función potencia retorna 2 elevado al parámetro x que recibe\n",
        "  \"\"\"\n",
        "  return 2**x\n"
      ],
      "execution_count": null,
      "outputs": []
    },
    {
      "cell_type": "code",
      "metadata": {
        "id": "e4tB03M3nxPc"
      },
      "source": [
        "for x in range(0,100):\n",
        "  print(potencia(x))"
      ],
      "execution_count": null,
      "outputs": []
    },
    {
      "cell_type": "code",
      "metadata": {
        "id": "XbfymanwqsEb"
      },
      "source": [
        "i = 0\n",
        "while i <= 100:\n",
        "  print(potencia(i))\n",
        "  i = i + 1 "
      ],
      "execution_count": null,
      "outputs": []
    },
    {
      "cell_type": "markdown",
      "metadata": {
        "id": "bKhO4wX9Dck7"
      },
      "source": [
        "## range()\n",
        "\n",
        "Retorna una lista de elementos desde 0 y hasta el parámetro que se envíe dentro de los paréntesis."
      ]
    },
    {
      "cell_type": "code",
      "metadata": {
        "id": "eGh8JrArDclU",
        "colab": {
          "base_uri": "https://localhost:8080/"
        },
        "outputId": "707ba5b0-9ba0-4390-ca4a-9ab4c77c490a"
      },
      "source": [
        "# Ver documentación de otra función, por ejemplo: range\n",
        "range(100)"
      ],
      "execution_count": null,
      "outputs": [
        {
          "output_type": "execute_result",
          "data": {
            "text/plain": [
              "range(0, 100)"
            ]
          },
          "metadata": {
            "tags": []
          },
          "execution_count": 20
        }
      ]
    },
    {
      "cell_type": "code",
      "metadata": {
        "id": "J96OO9K7wuIp",
        "colab": {
          "base_uri": "https://localhost:8080/"
        },
        "outputId": "fa63bf77-56c5-4ad8-dfb6-e44359cb0964"
      },
      "source": [
        "range(10)"
      ],
      "execution_count": null,
      "outputs": [
        {
          "output_type": "execute_result",
          "data": {
            "text/plain": [
              "range(0, 10)"
            ]
          },
          "metadata": {
            "tags": []
          },
          "execution_count": 21
        }
      ]
    },
    {
      "cell_type": "code",
      "metadata": {
        "id": "ZEJuVF6IwuIq",
        "colab": {
          "base_uri": "https://localhost:8080/"
        },
        "outputId": "46247c47-3dce-4d96-a736-a0650af66ae0"
      },
      "source": [
        "list(range(10))"
      ],
      "execution_count": null,
      "outputs": [
        {
          "output_type": "execute_result",
          "data": {
            "text/plain": [
              "[0, 1, 2, 3, 4, 5, 6, 7, 8, 9]"
            ]
          },
          "metadata": {
            "tags": []
          },
          "execution_count": 22
        }
      ]
    },
    {
      "cell_type": "code",
      "metadata": {
        "id": "4u9vgP7bwuIq",
        "colab": {
          "base_uri": "https://localhost:8080/"
        },
        "outputId": "3a1a344d-f05b-4018-f81f-979767222766"
      },
      "source": [
        "list(range(10,20,2))"
      ],
      "execution_count": null,
      "outputs": [
        {
          "output_type": "execute_result",
          "data": {
            "text/plain": [
              "[10, 12, 14, 16, 18]"
            ]
          },
          "metadata": {
            "tags": []
          },
          "execution_count": 23
        }
      ]
    },
    {
      "cell_type": "code",
      "metadata": {
        "id": "4GPstSp_Dck8",
        "colab": {
          "base_uri": "https://localhost:8080/"
        },
        "outputId": "eba4c263-bdb6-4485-b2f4-7388f34a9508"
      },
      "source": [
        "range(5)"
      ],
      "execution_count": null,
      "outputs": [
        {
          "output_type": "execute_result",
          "data": {
            "text/plain": [
              "range(0, 5)"
            ]
          },
          "metadata": {
            "tags": []
          },
          "execution_count": 27
        }
      ]
    },
    {
      "cell_type": "code",
      "metadata": {
        "id": "tqLFs4r7Dck8",
        "colab": {
          "base_uri": "https://localhost:8080/"
        },
        "outputId": "9cc4d851-a725-4069-d7e3-82c41faf86d5"
      },
      "source": [
        "for i in range(5):\n",
        "    print(i)"
      ],
      "execution_count": null,
      "outputs": [
        {
          "output_type": "stream",
          "text": [
            "0\n",
            "1\n",
            "2\n",
            "3\n",
            "4\n"
          ],
          "name": "stdout"
        }
      ]
    },
    {
      "cell_type": "code",
      "metadata": {
        "id": "c_q6UGYGDck-",
        "colab": {
          "base_uri": "https://localhost:8080/",
          "height": 34
        },
        "outputId": "4e2ed6f2-a5b0-4416-a9b3-c2e2cdf7e114"
      },
      "source": [
        "list(range(5))"
      ],
      "execution_count": null,
      "outputs": [
        {
          "output_type": "execute_result",
          "data": {
            "text/plain": [
              "[0, 1, 2, 3, 4]"
            ]
          },
          "metadata": {
            "tags": []
          },
          "execution_count": 28
        }
      ]
    },
    {
      "cell_type": "markdown",
      "metadata": {
        "id": "8EtOFB9qNIxM"
      },
      "source": [
        "# Ejercicio\n",
        "\n",
        "Crear una función que evalúe si un número que recibe por parámetro es par"
      ]
    },
    {
      "cell_type": "code",
      "metadata": {
        "id": "YDrCb0kmYShC"
      },
      "source": [
        "def par(x):\n",
        "  if (x % 2) == 0:\n",
        "    return '{} es par'.format(x);"
      ],
      "execution_count": 15,
      "outputs": []
    },
    {
      "cell_type": "code",
      "metadata": {
        "id": "cDY7H5wnZUmQ",
        "outputId": "20c8771c-8486-4dc5-972e-24adab0f7a3a",
        "colab": {
          "base_uri": "https://localhost:8080/",
          "height": 36
        }
      },
      "source": [
        "par(2)"
      ],
      "execution_count": 16,
      "outputs": [
        {
          "output_type": "execute_result",
          "data": {
            "application/vnd.google.colaboratory.intrinsic+json": {
              "type": "string"
            },
            "text/plain": [
              "'2 es par'"
            ]
          },
          "metadata": {
            "tags": []
          },
          "execution_count": 16
        }
      ]
    },
    {
      "cell_type": "markdown",
      "metadata": {
        "id": "mG476TcMu7uP"
      },
      "source": [
        "## Fecha\n",
        "\n",
        "Python también permite operar con tipos de datos fecha 'date', de manera simple y eficaz."
      ]
    },
    {
      "cell_type": "code",
      "metadata": {
        "id": "6zXnc9SbDckp"
      },
      "source": [
        "from datetime import datetime"
      ],
      "execution_count": null,
      "outputs": []
    },
    {
      "cell_type": "code",
      "metadata": {
        "id": "aT67wftEDckq"
      },
      "source": [
        "now = datetime.now()"
      ],
      "execution_count": null,
      "outputs": []
    },
    {
      "cell_type": "code",
      "metadata": {
        "id": "cXqhoVuPDckr",
        "colab": {
          "base_uri": "https://localhost:8080/"
        },
        "outputId": "de67cf14-3388-4def-b456-a77da57204fa"
      },
      "source": [
        "now"
      ],
      "execution_count": null,
      "outputs": [
        {
          "output_type": "execute_result",
          "data": {
            "text/plain": [
              "datetime.datetime(2021, 2, 27, 20, 59, 38, 873082)"
            ]
          },
          "metadata": {
            "tags": []
          },
          "execution_count": 32
        }
      ]
    },
    {
      "cell_type": "code",
      "metadata": {
        "id": "BTsVAjC5Dckr",
        "colab": {
          "base_uri": "https://localhost:8080/"
        },
        "outputId": "b73e526d-2b69-4ff9-e0ac-e068f15b6f4a"
      },
      "source": [
        "now.year"
      ],
      "execution_count": null,
      "outputs": [
        {
          "output_type": "execute_result",
          "data": {
            "text/plain": [
              "2021"
            ]
          },
          "metadata": {
            "tags": []
          },
          "execution_count": 33
        }
      ]
    },
    {
      "cell_type": "code",
      "metadata": {
        "id": "u1OAawmvDcks",
        "colab": {
          "base_uri": "https://localhost:8080/"
        },
        "outputId": "df16116f-ab28-4298-e183-0b96bffad75b"
      },
      "source": [
        "now.month"
      ],
      "execution_count": null,
      "outputs": [
        {
          "output_type": "execute_result",
          "data": {
            "text/plain": [
              "2"
            ]
          },
          "metadata": {
            "tags": []
          },
          "execution_count": 34
        }
      ]
    },
    {
      "cell_type": "code",
      "metadata": {
        "id": "Ys0uLDj2Dckt",
        "colab": {
          "base_uri": "https://localhost:8080/"
        },
        "outputId": "547cef1d-d6e4-4175-cf65-a34c38f54f41"
      },
      "source": [
        "now.day"
      ],
      "execution_count": null,
      "outputs": [
        {
          "output_type": "execute_result",
          "data": {
            "text/plain": [
              "27"
            ]
          },
          "metadata": {
            "tags": []
          },
          "execution_count": 35
        }
      ]
    },
    {
      "cell_type": "code",
      "metadata": {
        "id": "_6hP8aqXDcku",
        "colab": {
          "base_uri": "https://localhost:8080/"
        },
        "outputId": "354df39a-2109-42d0-8cce-c07a4178cc33"
      },
      "source": [
        "print('Fecha: %s/%s/%s Hora: %s:%s' % (now.day, now.month, now.year, now.hour, now.minute))"
      ],
      "execution_count": null,
      "outputs": [
        {
          "output_type": "stream",
          "text": [
            "Fecha: 27/2/2021 Hora: 20:59\n"
          ],
          "name": "stdout"
        }
      ]
    },
    {
      "cell_type": "code",
      "metadata": {
        "id": "y3RfgPHIlmOD",
        "colab": {
          "base_uri": "https://localhost:8080/",
          "height": 35
        },
        "outputId": "41d7ba84-4906-427c-d78b-67a71145d8ac"
      },
      "source": [
        "import datetime\n",
        "mydate = datetime.datetime.now()\n",
        "mydate.strftime(\"%B\")"
      ],
      "execution_count": null,
      "outputs": [
        {
          "output_type": "execute_result",
          "data": {
            "application/vnd.google.colaboratory.intrinsic+json": {
              "type": "string"
            },
            "text/plain": [
              "'February'"
            ]
          },
          "metadata": {
            "tags": []
          },
          "execution_count": 37
        }
      ]
    },
    {
      "cell_type": "markdown",
      "metadata": {
        "id": "CATEgOIiDclA"
      },
      "source": [
        "## Listas por comprensión (list comprehension)"
      ]
    },
    {
      "cell_type": "code",
      "metadata": {
        "id": "fVXt9hgYDclA"
      },
      "source": [
        "x = [1,2,3,4]"
      ],
      "execution_count": null,
      "outputs": []
    },
    {
      "cell_type": "code",
      "metadata": {
        "id": "R7f8oFmYDclB",
        "colab": {
          "base_uri": "https://localhost:8080/"
        },
        "outputId": "ca340318-f930-4e3b-805d-72df5f868b85"
      },
      "source": [
        "out = []\n",
        "for item in x:\n",
        "    out.append(item**2)\n",
        "print(out)"
      ],
      "execution_count": null,
      "outputs": [
        {
          "output_type": "stream",
          "text": [
            "[1, 4, 9, 16]\n"
          ],
          "name": "stdout"
        }
      ]
    },
    {
      "cell_type": "code",
      "metadata": {
        "id": "-PiWerzNDclD",
        "colab": {
          "base_uri": "https://localhost:8080/"
        },
        "outputId": "57e89ca4-8516-4361-ddb0-5cfff3b5be5b"
      },
      "source": [
        "[item**2 for item in x]"
      ],
      "execution_count": null,
      "outputs": [
        {
          "output_type": "execute_result",
          "data": {
            "text/plain": [
              "[1, 4, 9, 16]"
            ]
          },
          "metadata": {
            "tags": []
          },
          "execution_count": 41
        }
      ]
    },
    {
      "cell_type": "code",
      "metadata": {
        "id": "2cOX014-DclE"
      },
      "source": [
        "out = [item**2 for item in x]"
      ],
      "execution_count": null,
      "outputs": []
    },
    {
      "cell_type": "code",
      "metadata": {
        "id": "ZA4Z9Zx0DclF",
        "colab": {
          "base_uri": "https://localhost:8080/"
        },
        "outputId": "32d27b3b-e3dc-4222-a8ca-e9aab385fc29"
      },
      "source": [
        "out"
      ],
      "execution_count": null,
      "outputs": [
        {
          "output_type": "execute_result",
          "data": {
            "text/plain": [
              "[1, 4, 9, 16]"
            ]
          },
          "metadata": {
            "tags": []
          },
          "execution_count": 43
        }
      ]
    },
    {
      "cell_type": "code",
      "metadata": {
        "id": "6-Lse_l8DclH"
      },
      "source": [
        "cubos = [x ** 3 for x in range(10)]"
      ],
      "execution_count": null,
      "outputs": []
    },
    {
      "cell_type": "code",
      "metadata": {
        "id": "KGE8PsYODclH",
        "colab": {
          "base_uri": "https://localhost:8080/"
        },
        "outputId": "badcfc3b-67d6-4620-8b5e-0db7189e3c02"
      },
      "source": [
        "cubos"
      ],
      "execution_count": null,
      "outputs": [
        {
          "output_type": "execute_result",
          "data": {
            "text/plain": [
              "[0, 1, 8, 27, 64, 125, 216, 343, 512, 729]"
            ]
          },
          "metadata": {
            "tags": []
          },
          "execution_count": 48
        }
      ]
    },
    {
      "cell_type": "code",
      "metadata": {
        "id": "S63GTvr3DclI"
      },
      "source": [
        "multiplos_tres_cinco = [x for x in range(1, 20) if x % 3 == 0 or x % 5 == 0]"
      ],
      "execution_count": null,
      "outputs": []
    },
    {
      "cell_type": "code",
      "metadata": {
        "id": "Wo7NJ6T7DclK",
        "colab": {
          "base_uri": "https://localhost:8080/"
        },
        "outputId": "23722915-83bb-42e1-d5e0-3be4513651ee"
      },
      "source": [
        "multiplos_tres_cinco"
      ],
      "execution_count": null,
      "outputs": [
        {
          "output_type": "execute_result",
          "data": {
            "text/plain": [
              "[3, 5, 6, 9, 10, 12, 15, 18]"
            ]
          },
          "metadata": {
            "tags": []
          },
          "execution_count": 50
        }
      ]
    },
    {
      "cell_type": "markdown",
      "metadata": {
        "id": "VB1jbFoezZLE"
      },
      "source": [
        "#Tarea\n",
        "Generar una lista con los números primos que hay en el rango del 1 al 100"
      ]
    },
    {
      "cell_type": "markdown",
      "metadata": {
        "id": "A9hagHupDclY"
      },
      "source": [
        "## Expresiones lambda\n",
        "\n",
        "Para crear funciones de manera rápida **just in time**, como por ejemplo para la definición de prototipos. \n"
      ]
    },
    {
      "cell_type": "code",
      "metadata": {
        "id": "JZz94MI7DclY"
      },
      "source": [
        "def times2(var):\n",
        "    return var*2"
      ],
      "execution_count": null,
      "outputs": []
    },
    {
      "cell_type": "code",
      "metadata": {
        "id": "XZYziVaWDclZ",
        "colab": {
          "base_uri": "https://localhost:8080/"
        },
        "outputId": "5f3d56d1-1fe6-48fe-c6dc-b53dc194a19c"
      },
      "source": [
        "times2(2)"
      ],
      "execution_count": null,
      "outputs": [
        {
          "output_type": "execute_result",
          "data": {
            "text/plain": [
              "4"
            ]
          },
          "metadata": {
            "tags": []
          },
          "execution_count": 2
        }
      ]
    },
    {
      "cell_type": "code",
      "metadata": {
        "id": "bE_g14fpDclZ",
        "colab": {
          "base_uri": "https://localhost:8080/"
        },
        "outputId": "c38784b8-0f33-4008-b011-cbe9126d05a2"
      },
      "source": [
        "lambda var: var*2"
      ],
      "execution_count": null,
      "outputs": [
        {
          "output_type": "execute_result",
          "data": {
            "text/plain": [
              "<function __main__.<lambda>>"
            ]
          },
          "metadata": {
            "tags": []
          },
          "execution_count": 3
        }
      ]
    },
    {
      "cell_type": "code",
      "metadata": {
        "id": "HbhiD8ZZDcla"
      },
      "source": [
        "t = lambda var: var*2"
      ],
      "execution_count": null,
      "outputs": []
    },
    {
      "cell_type": "code",
      "metadata": {
        "id": "NNJwxoabDcla",
        "colab": {
          "base_uri": "https://localhost:8080/"
        },
        "outputId": "ddcba05f-1c70-4da3-a972-be1985e23aa4"
      },
      "source": [
        "t(20)"
      ],
      "execution_count": null,
      "outputs": [
        {
          "output_type": "execute_result",
          "data": {
            "text/plain": [
              "40"
            ]
          },
          "metadata": {
            "tags": []
          },
          "execution_count": 5
        }
      ]
    },
    {
      "cell_type": "code",
      "metadata": {
        "id": "IMJd2h2mwuIw"
      },
      "source": [
        "otra = lambda var1,var2: (var1 + var2)**2"
      ],
      "execution_count": null,
      "outputs": []
    },
    {
      "cell_type": "code",
      "metadata": {
        "id": "JX7cWHfpwuIx",
        "colab": {
          "base_uri": "https://localhost:8080/"
        },
        "outputId": "b4892255-6c2b-41cb-89ac-c08974656ab7"
      },
      "source": [
        "otra(2,3)"
      ],
      "execution_count": null,
      "outputs": [
        {
          "output_type": "execute_result",
          "data": {
            "text/plain": [
              "25"
            ]
          },
          "metadata": {
            "tags": []
          },
          "execution_count": 16
        }
      ]
    },
    {
      "cell_type": "markdown",
      "metadata": {
        "id": "Z68hUiuiDclc"
      },
      "source": [
        "## map y filter\n",
        "\n",
        "El operador **map**, toma una función y una secuencia como  argumentos, y devuelve una secuencia con  la función aplicada a cada elemento. \n",
        "\n",
        "El operado **filter**, ofrece una forma de filtrar todos los elementos de una lista."
      ]
    },
    {
      "cell_type": "code",
      "metadata": {
        "id": "mmiYT-dzDclc"
      },
      "source": [
        "seq = [1, 2, 3, 4, 5]"
      ],
      "execution_count": null,
      "outputs": []
    },
    {
      "cell_type": "code",
      "metadata": {
        "id": "XzKrjhqKDcle",
        "colab": {
          "base_uri": "https://localhost:8080/"
        },
        "outputId": "f13a3ddc-9c41-4280-a1f6-43f001130da5"
      },
      "source": [
        "map(times2,seq)"
      ],
      "execution_count": null,
      "outputs": [
        {
          "output_type": "execute_result",
          "data": {
            "text/plain": [
              "<map at 0x7fdf76d466d0>"
            ]
          },
          "metadata": {
            "tags": []
          },
          "execution_count": 18
        }
      ]
    },
    {
      "cell_type": "code",
      "metadata": {
        "id": "G-ogw60uDclf",
        "colab": {
          "base_uri": "https://localhost:8080/"
        },
        "outputId": "91f14773-e3f9-478b-b44b-efcb2c6c27bd"
      },
      "source": [
        "list(map(times2,seq))"
      ],
      "execution_count": null,
      "outputs": [
        {
          "output_type": "execute_result",
          "data": {
            "text/plain": [
              "[2, 4, 6, 8, 10]"
            ]
          },
          "metadata": {
            "tags": []
          },
          "execution_count": 20
        }
      ]
    },
    {
      "cell_type": "code",
      "metadata": {
        "id": "CS8AOZDYDclf",
        "colab": {
          "base_uri": "https://localhost:8080/"
        },
        "outputId": "41b1c705-cdc7-4481-c454-3547b2aae90c"
      },
      "source": [
        "list(map(lambda var: var*3, seq))"
      ],
      "execution_count": null,
      "outputs": [
        {
          "output_type": "execute_result",
          "data": {
            "text/plain": [
              "[3, 6, 9, 12, 15]"
            ]
          },
          "metadata": {
            "tags": []
          },
          "execution_count": 21
        }
      ]
    },
    {
      "cell_type": "code",
      "metadata": {
        "id": "tCO6ahN1Dclg",
        "colab": {
          "base_uri": "https://localhost:8080/",
          "height": 34
        },
        "outputId": "0e2db98e-7b3b-4a0b-9f09-86cf51ca4f1d"
      },
      "source": [
        "filter(lambda item: item%2 == 0, seq)"
      ],
      "execution_count": null,
      "outputs": [
        {
          "output_type": "execute_result",
          "data": {
            "text/plain": [
              "<filter at 0x7f4bc310e7b8>"
            ]
          },
          "metadata": {
            "tags": []
          },
          "execution_count": 64
        }
      ]
    },
    {
      "cell_type": "code",
      "metadata": {
        "id": "VmxhyL6YDclh",
        "colab": {
          "base_uri": "https://localhost:8080/",
          "height": 34
        },
        "outputId": "55ba3b0a-ed9d-4693-d237-a569564311b5"
      },
      "source": [
        "list(filter(lambda item: item%2 == 0, seq))"
      ],
      "execution_count": null,
      "outputs": [
        {
          "output_type": "execute_result",
          "data": {
            "text/plain": [
              "[2, 4]"
            ]
          },
          "metadata": {
            "tags": []
          },
          "execution_count": 65
        }
      ]
    },
    {
      "cell_type": "code",
      "metadata": {
        "id": "wswTiRk9Dclk",
        "colab": {
          "base_uri": "https://localhost:8080/"
        },
        "outputId": "a5dd2af0-c23e-44d9-c806-5ad67276ee93"
      },
      "source": [
        "list(filter(lambda x: x % 3 == 0, range(16)))"
      ],
      "execution_count": null,
      "outputs": [
        {
          "output_type": "execute_result",
          "data": {
            "text/plain": [
              "[0, 3, 6, 9, 12, 15]"
            ]
          },
          "metadata": {
            "tags": []
          },
          "execution_count": 22
        }
      ]
    },
    {
      "cell_type": "code",
      "metadata": {
        "id": "Lip8yWwxDclk",
        "colab": {
          "base_uri": "https://localhost:8080/"
        },
        "outputId": "17086a19-4adc-4efb-8eb2-8a351b9f42c4"
      },
      "source": [
        "oculto = \"IXXX aXXmX aXXXnXoXXXXXtXhXeXXXXrX sXXXXeXcXXXrXeXt mXXeXsXXXsXaXXXXXXgXeX!XX\"\n",
        "\n",
        "mensaje = filter(lambda x: x != \"X\", oculto)\n",
        "print(''.join(mensaje))"
      ],
      "execution_count": null,
      "outputs": [
        {
          "output_type": "stream",
          "text": [
            "I am another secret message!\n"
          ],
          "name": "stdout"
        }
      ]
    },
    {
      "cell_type": "markdown",
      "metadata": {
        "id": "seNR1XYCL7MF"
      },
      "source": [
        "#Quiz\n",
        "Hacer un filtro que genere los números que son múltiplos de 3 y de 5 en el rango de números del 1 al 100"
      ]
    },
    {
      "cell_type": "markdown",
      "metadata": {
        "id": "xMH3l8h5Dcll"
      },
      "source": [
        "## Métodos Python \n",
        "\n",
        "Python viene por defecto con bastantes funciones ùtiles para manejo de datos.\n",
        "\n",
        "Veremos algunas."
      ]
    },
    {
      "cell_type": "code",
      "metadata": {
        "id": "b9Yog5hVDcll"
      },
      "source": [
        "st = 'HOLA! mi nombre es Jorge'"
      ],
      "execution_count": null,
      "outputs": []
    },
    {
      "cell_type": "code",
      "metadata": {
        "id": "yFzv0m9NDcll",
        "colab": {
          "base_uri": "https://localhost:8080/",
          "height": 35
        },
        "outputId": "0160ad17-da01-4c7a-98f1-1cb922935549"
      },
      "source": [
        "st.lower()"
      ],
      "execution_count": null,
      "outputs": [
        {
          "output_type": "execute_result",
          "data": {
            "application/vnd.google.colaboratory.intrinsic+json": {
              "type": "string"
            },
            "text/plain": [
              "'hola! mi nombre es jorge'"
            ]
          },
          "metadata": {
            "tags": []
          },
          "execution_count": 25
        }
      ]
    },
    {
      "cell_type": "code",
      "metadata": {
        "id": "gwf9B3_BDcll",
        "colab": {
          "base_uri": "https://localhost:8080/",
          "height": 35
        },
        "outputId": "4584f6b3-6bdd-45dd-8388-59f0a44b540b"
      },
      "source": [
        "st.upper()"
      ],
      "execution_count": null,
      "outputs": [
        {
          "output_type": "execute_result",
          "data": {
            "application/vnd.google.colaboratory.intrinsic+json": {
              "type": "string"
            },
            "text/plain": [
              "'HOLA! MI NOMBRE ES JORGE'"
            ]
          },
          "metadata": {
            "tags": []
          },
          "execution_count": 26
        }
      ]
    },
    {
      "cell_type": "code",
      "metadata": {
        "id": "EWQeveqADclm",
        "colab": {
          "base_uri": "https://localhost:8080/"
        },
        "outputId": "f6a1e052-dee6-4472-b30c-01f1a09f2e8c"
      },
      "source": [
        "st.split()"
      ],
      "execution_count": null,
      "outputs": [
        {
          "output_type": "execute_result",
          "data": {
            "text/plain": [
              "['HOLA!', 'mi', 'nombre', 'es', 'Jorge']"
            ]
          },
          "metadata": {
            "tags": []
          },
          "execution_count": 28
        }
      ]
    },
    {
      "cell_type": "code",
      "metadata": {
        "id": "__P7kfaxDclm"
      },
      "source": [
        "tweet = 'Curso AVD Python! #MejorCurso'"
      ],
      "execution_count": null,
      "outputs": []
    },
    {
      "cell_type": "code",
      "metadata": {
        "id": "gpobfonTDcln",
        "colab": {
          "base_uri": "https://localhost:8080/"
        },
        "outputId": "3749eb6e-b53c-4665-d1da-a13895902807"
      },
      "source": [
        "tweet.split()"
      ],
      "execution_count": null,
      "outputs": [
        {
          "output_type": "execute_result",
          "data": {
            "text/plain": [
              "['Curso', 'AVD', 'Python!', '#MejorCurso']"
            ]
          },
          "metadata": {
            "tags": []
          },
          "execution_count": 31
        }
      ]
    },
    {
      "cell_type": "code",
      "metadata": {
        "id": "AlC4gqSeDclp",
        "colab": {
          "base_uri": "https://localhost:8080/"
        },
        "outputId": "cc3e865b-2861-4ab5-e641-9085229b2f99"
      },
      "source": [
        "tweet.split('#')"
      ],
      "execution_count": null,
      "outputs": [
        {
          "output_type": "execute_result",
          "data": {
            "text/plain": [
              "['Curso AVD Python! ', 'MejorCurso']"
            ]
          },
          "metadata": {
            "tags": []
          },
          "execution_count": 33
        }
      ]
    },
    {
      "cell_type": "code",
      "metadata": {
        "id": "Q-CE4dkLDclp",
        "colab": {
          "base_uri": "https://localhost:8080/",
          "height": 35
        },
        "outputId": "7a06d2cd-e766-4244-c68f-6e0f125bff10"
      },
      "source": [
        "tweet.split('#')[1]"
      ],
      "execution_count": null,
      "outputs": [
        {
          "output_type": "execute_result",
          "data": {
            "application/vnd.google.colaboratory.intrinsic+json": {
              "type": "string"
            },
            "text/plain": [
              "'MejorCurso'"
            ]
          },
          "metadata": {
            "tags": []
          },
          "execution_count": 34
        }
      ]
    },
    {
      "cell_type": "code",
      "metadata": {
        "id": "eY7CMHCZDclp"
      },
      "source": [
        "d = {'k1':10, 'k2':20, 'k3':1, 'k4': 'hola'}"
      ],
      "execution_count": null,
      "outputs": []
    },
    {
      "cell_type": "code",
      "metadata": {
        "id": "V1GKByMgDclp",
        "colab": {
          "base_uri": "https://localhost:8080/"
        },
        "outputId": "d2d16960-831a-4904-f42a-1ccf2ff16fb9"
      },
      "source": [
        "d.keys()"
      ],
      "execution_count": null,
      "outputs": [
        {
          "output_type": "execute_result",
          "data": {
            "text/plain": [
              "dict_keys(['k1', 'k2', 'k3', 'k4'])"
            ]
          },
          "metadata": {
            "tags": []
          },
          "execution_count": 40
        }
      ]
    },
    {
      "cell_type": "code",
      "metadata": {
        "id": "lcm40SSyDclq",
        "colab": {
          "base_uri": "https://localhost:8080/"
        },
        "outputId": "16cebdce-772b-4cec-81a2-def117480ae1"
      },
      "source": [
        "d.items()"
      ],
      "execution_count": null,
      "outputs": [
        {
          "output_type": "execute_result",
          "data": {
            "text/plain": [
              "dict_items([('k1', 10), ('k2', 20), ('k3', 1), ('k4', 'hola')])"
            ]
          },
          "metadata": {
            "tags": []
          },
          "execution_count": 41
        }
      ]
    },
    {
      "cell_type": "code",
      "metadata": {
        "id": "ZT_4OCJxDclq",
        "colab": {
          "base_uri": "https://localhost:8080/"
        },
        "outputId": "396e578c-cc21-460f-e1c2-8c9aa20139b2"
      },
      "source": [
        "d.values()"
      ],
      "execution_count": null,
      "outputs": [
        {
          "output_type": "execute_result",
          "data": {
            "text/plain": [
              "dict_values([10, 20, 1, 'hola'])"
            ]
          },
          "metadata": {
            "tags": []
          },
          "execution_count": 42
        }
      ]
    },
    {
      "cell_type": "code",
      "metadata": {
        "id": "y7NUhVwgDclr"
      },
      "source": [
        "lst = [1,2,3,4,5,6]"
      ],
      "execution_count": null,
      "outputs": []
    },
    {
      "cell_type": "code",
      "metadata": {
        "id": "VUcZxMgbDcls",
        "colab": {
          "base_uri": "https://localhost:8080/"
        },
        "outputId": "2e16ec35-5d3a-460f-d4bc-f494be3cb0d8"
      },
      "source": [
        "lst.pop()"
      ],
      "execution_count": null,
      "outputs": [
        {
          "output_type": "execute_result",
          "data": {
            "text/plain": [
              "6"
            ]
          },
          "metadata": {
            "tags": []
          },
          "execution_count": 44
        }
      ]
    },
    {
      "cell_type": "code",
      "metadata": {
        "id": "sZY9FGwxDclt",
        "colab": {
          "base_uri": "https://localhost:8080/"
        },
        "outputId": "4732fc8b-6461-47c9-e23a-acd469620859"
      },
      "source": [
        "lst"
      ],
      "execution_count": null,
      "outputs": [
        {
          "output_type": "execute_result",
          "data": {
            "text/plain": [
              "[1, 2, 3, 4, 5]"
            ]
          },
          "metadata": {
            "tags": []
          },
          "execution_count": 45
        }
      ]
    },
    {
      "cell_type": "code",
      "metadata": {
        "id": "vErqP6UqDclt"
      },
      "source": [
        "item = lst.pop()"
      ],
      "execution_count": null,
      "outputs": []
    },
    {
      "cell_type": "code",
      "metadata": {
        "id": "RJbwXr_nDclu",
        "colab": {
          "base_uri": "https://localhost:8080/"
        },
        "outputId": "07209e5b-7b68-488c-88d9-de399fe5b6ff"
      },
      "source": [
        "lst"
      ],
      "execution_count": null,
      "outputs": [
        {
          "output_type": "execute_result",
          "data": {
            "text/plain": [
              "[1, 2, 3, 4]"
            ]
          },
          "metadata": {
            "tags": []
          },
          "execution_count": 47
        }
      ]
    },
    {
      "cell_type": "code",
      "metadata": {
        "id": "FEAFErCDDclv",
        "colab": {
          "base_uri": "https://localhost:8080/"
        },
        "outputId": "402d0553-8899-4e02-a097-585ecc4c1576"
      },
      "source": [
        "item"
      ],
      "execution_count": null,
      "outputs": [
        {
          "output_type": "execute_result",
          "data": {
            "text/plain": [
              "5"
            ]
          },
          "metadata": {
            "tags": []
          },
          "execution_count": 48
        }
      ]
    },
    {
      "cell_type": "code",
      "metadata": {
        "id": "9K7VmD2_Dclv"
      },
      "source": [
        "primero = lst.pop(0)"
      ],
      "execution_count": null,
      "outputs": []
    },
    {
      "cell_type": "code",
      "metadata": {
        "id": "jDETv3LjDclw",
        "colab": {
          "base_uri": "https://localhost:8080/"
        },
        "outputId": "44adb819-fad2-4b9c-f21f-8ac2855bcd1a"
      },
      "source": [
        "primero"
      ],
      "execution_count": null,
      "outputs": [
        {
          "output_type": "execute_result",
          "data": {
            "text/plain": [
              "2"
            ]
          },
          "metadata": {
            "tags": []
          },
          "execution_count": 51
        }
      ]
    },
    {
      "cell_type": "code",
      "metadata": {
        "id": "PQwNS9OuDclx",
        "colab": {
          "base_uri": "https://localhost:8080/"
        },
        "outputId": "e64ac3d6-4e2e-46a9-94c6-ba67de84f787"
      },
      "source": [
        "lst"
      ],
      "execution_count": null,
      "outputs": [
        {
          "output_type": "execute_result",
          "data": {
            "text/plain": [
              "[3, 4]"
            ]
          },
          "metadata": {
            "tags": []
          },
          "execution_count": 52
        }
      ]
    },
    {
      "cell_type": "code",
      "metadata": {
        "id": "QyAhDsQsDclx"
      },
      "source": [
        "lst.append('NUEVO')"
      ],
      "execution_count": null,
      "outputs": []
    },
    {
      "cell_type": "code",
      "metadata": {
        "id": "SNZgv4OpDclx",
        "colab": {
          "base_uri": "https://localhost:8080/"
        },
        "outputId": "fb9bfc14-1c2a-4730-8b3c-18f920baab0f"
      },
      "source": [
        "lst"
      ],
      "execution_count": null,
      "outputs": [
        {
          "output_type": "execute_result",
          "data": {
            "text/plain": [
              "[3, 4, 'NUEVO']"
            ]
          },
          "metadata": {
            "tags": []
          },
          "execution_count": 54
        }
      ]
    },
    {
      "cell_type": "code",
      "metadata": {
        "id": "ho3_NK6ODcly",
        "colab": {
          "base_uri": "https://localhost:8080/"
        },
        "outputId": "e0e794af-61cd-47c7-beec-6d8e9e7abedc"
      },
      "source": [
        "'x' in [1,2,3]"
      ],
      "execution_count": null,
      "outputs": [
        {
          "output_type": "execute_result",
          "data": {
            "text/plain": [
              "False"
            ]
          },
          "metadata": {
            "tags": []
          },
          "execution_count": 55
        }
      ]
    },
    {
      "cell_type": "code",
      "metadata": {
        "id": "_16JiU_CDcl2",
        "colab": {
          "base_uri": "https://localhost:8080/"
        },
        "outputId": "c2cf9f39-c923-4bd0-bd8a-53672da35a6d"
      },
      "source": [
        "'y' in ['x','y','z']"
      ],
      "execution_count": null,
      "outputs": [
        {
          "output_type": "execute_result",
          "data": {
            "text/plain": [
              "True"
            ]
          },
          "metadata": {
            "tags": []
          },
          "execution_count": 57
        }
      ]
    },
    {
      "cell_type": "code",
      "metadata": {
        "id": "GlcDj_bHDcl2"
      },
      "source": [
        "# Tuple unpacking\n",
        "lst = [(1, 2), (3, 4), (5, 6)]"
      ],
      "execution_count": null,
      "outputs": []
    },
    {
      "cell_type": "code",
      "metadata": {
        "id": "XmU6QzEjDcl2",
        "colab": {
          "base_uri": "https://localhost:8080/"
        },
        "outputId": "3483bc95-296e-4ed5-f461-2dd421fd7a10"
      },
      "source": [
        "lst"
      ],
      "execution_count": null,
      "outputs": [
        {
          "output_type": "execute_result",
          "data": {
            "text/plain": [
              "[(1, 2), (3, 4), (5, 6)]"
            ]
          },
          "metadata": {
            "tags": []
          },
          "execution_count": 59
        }
      ]
    },
    {
      "cell_type": "code",
      "metadata": {
        "id": "p8qqIm_4Dcl2",
        "colab": {
          "base_uri": "https://localhost:8080/"
        },
        "outputId": "4b0772b1-871b-46b0-deb6-c31a54c514fd"
      },
      "source": [
        "for tupla in lst:\n",
        "    print(tupla)"
      ],
      "execution_count": null,
      "outputs": [
        {
          "output_type": "stream",
          "text": [
            "(1, 2)\n",
            "(3, 4)\n",
            "(5, 6)\n"
          ],
          "name": "stdout"
        }
      ]
    },
    {
      "cell_type": "code",
      "metadata": {
        "id": "uuq_QEWADcl3",
        "colab": {
          "base_uri": "https://localhost:8080/"
        },
        "outputId": "907c1203-b304-4f4d-b429-38d024b19525"
      },
      "source": [
        "for (a, b) in lst:\n",
        "    print(a)"
      ],
      "execution_count": null,
      "outputs": [
        {
          "output_type": "stream",
          "text": [
            "1\n",
            "3\n",
            "5\n"
          ],
          "name": "stdout"
        }
      ]
    },
    {
      "cell_type": "code",
      "metadata": {
        "id": "HYmNZec7Dcl3",
        "colab": {
          "base_uri": "https://localhost:8080/"
        },
        "outputId": "18222a8d-9cc4-4d3b-d2b5-cc9f81b262a9"
      },
      "source": [
        "for (a, b) in lst:\n",
        "    print('{} está asociado con {}'.format(a,b))"
      ],
      "execution_count": null,
      "outputs": [
        {
          "output_type": "stream",
          "text": [
            "1 está asociado con 2\n",
            "3 está asociado con 4\n",
            "5 está asociado con 6\n"
          ],
          "name": "stdout"
        }
      ]
    },
    {
      "cell_type": "code",
      "metadata": {
        "id": "qOwO-InzDcl4",
        "colab": {
          "base_uri": "https://localhost:8080/"
        },
        "outputId": "ddf31206-6521-461c-ca4c-685b1decbef3"
      },
      "source": [
        "# los paréntesis son opcionales\n",
        "for a, b in lst:\n",
        "    print('{} está asociado con {}'.format(a,b))"
      ],
      "execution_count": null,
      "outputs": [
        {
          "output_type": "stream",
          "text": [
            "1 está asociado con 2\n",
            "3 está asociado con 4\n",
            "5 está asociado con 6\n"
          ],
          "name": "stdout"
        }
      ]
    },
    {
      "cell_type": "markdown",
      "metadata": {
        "id": "e0I1us8AtyVp"
      },
      "source": [
        "## Quiz"
      ]
    },
    {
      "cell_type": "markdown",
      "metadata": {
        "id": "P5gjuBL2uwQ5"
      },
      "source": [
        "### Genere una lista con los primeros 4 elementos de la serie geométrica \n",
        "$$ s_n = \\frac{1}{2^{n+1}}, n=\\{0,1,2,3\\} $$\n",
        "$$ s_n = \\sum_{n=0}^{4} \\frac{1}{2^{n+1}} = \\frac{1}{2} + \\frac{1}{4} + \\frac{1}{8} + \\frac{1}{16} = 0.9375$$"
      ]
    },
    {
      "cell_type": "markdown",
      "metadata": {
        "id": "A2blUud1MoA-"
      },
      "source": [
        "Modifique la función gen_serie() para que retorne los primeros 4 elementos de la serie."
      ]
    },
    {
      "cell_type": "code",
      "metadata": {
        "id": "GVoibZrHFpLN"
      },
      "source": [
        "def gen_serie():\n",
        "  \"\"\"\n",
        "  Retorna:\n",
        "     Lista con los primeros 4 elementos de la serie\n",
        "  \"\"\"\n",
        "  # en la siguiente línea genere la lista l con los primero 4 elementos requeridos.\n",
        "  l = ### ESCRIBA SU RESPUESTA AQUI - REEMPLACE EL COMENTARIO\n",
        "  return l\n",
        "  \n"
      ],
      "execution_count": null,
      "outputs": []
    },
    {
      "cell_type": "code",
      "metadata": {
        "id": "Ma9eUJUjFZCq"
      },
      "source": [
        "# Use esta celda para verificar que su solución sea correcta\n",
        "\n",
        "import numpy as np\n",
        "\n",
        "def test_gen_serie():\n",
        "  try:\n",
        "    serie = gen_serie()\n",
        "    serie = np.asarray(serie)\n",
        "  except:\n",
        "    raise Exception(\"Error en la función\")\n",
        "  #Validar la respuesta\n",
        "  if np.abs(serie.sum()-0.9375) > 0.1:\n",
        "    raise Exception(\"El calculo de los primeros 4 elementos está mal!\")\n",
        "  return True\n",
        "\n",
        "test_gen_serie()"
      ],
      "execution_count": null,
      "outputs": []
    },
    {
      "cell_type": "code",
      "metadata": {
        "id": "edelrBBxM9rS"
      },
      "source": [
        ""
      ],
      "execution_count": null,
      "outputs": []
    }
  ]
}