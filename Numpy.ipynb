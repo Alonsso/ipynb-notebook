{
  "nbformat": 4,
  "nbformat_minor": 0,
  "metadata": {
    "colab": {
      "name": "Numpy.ipynb",
      "provenance": [],
      "collapsed_sections": [],
      "include_colab_link": true
    },
    "kernelspec": {
      "display_name": "Python 3",
      "language": "python",
      "name": "python3"
    }
  },
  "cells": [
    {
      "cell_type": "markdown",
      "metadata": {
        "id": "view-in-github",
        "colab_type": "text"
      },
      "source": [
        "<a href=\"https://colab.research.google.com/github/Alonsso/ipynb-notebooks/blob/main/Numpy.ipynb\" target=\"_parent\"><img src=\"https://colab.research.google.com/assets/colab-badge.svg\" alt=\"Open In Colab\"/></a>"
      ]
    },
    {
      "cell_type": "markdown",
      "metadata": {
        "id": "d5cRhUl1o8SZ"
      },
      "source": [
        "# NumPy \n",
        "\n",
        "**NumPy: Librería de álgebra lineal para Python.**\n",
        "\n",
        "NumPy es el paquete fundamental para la computación científica con Python. Contiene, entre otras cosas:\n",
        "* una poderoso tipo de datos de matrices N-dimensionales: arreglos numpy\n",
        "* funciones sofisticadas (broadcast)\n",
        "* herramientas para integrar código C/C ++ y Fortran\n",
        "* funcionalidades útiles de álgebra lineal, transformada de Fourier, números aleatorios\n",
        "\n",
        "Además de sus usos científicos obvios, NumPy también se puede usar como un contenedor multidimensional eficiente de datos genéricos. Se pueden definir tipos de datos arbitrarios. Esto permite a NumPy integrarse de manera rápida y sin problemas con una amplia variedad de bases de datos.\n",
        "\n",
        "NumPy también es muy rápido (ya que usa librerías de lenguaje C). Para ver más información acerca de por qué usar Arreglos en lugar de Listas, ver [este post de StackOverflow](http://stackoverflow.com/questions/993984/why-numpy-instead-of-python-lists).\n"
      ]
    },
    {
      "cell_type": "markdown",
      "metadata": {
        "id": "tqQ-prB2o8Sb"
      },
      "source": [
        "## Instalación\n",
        "\n",
        "**Se recomienda instalar Python usando la distribución Anaconda para asegurarse que todas las dependencias (como las librerías de álgebra lineal) se instalarán mediante el uso del comando \"conda install\". Si tiene Anaconda, instale NumPy simplemente escribiendo el siguiente comando en una terminal:**\n",
        "    \n",
        "    conda install numpy\n",
        "    \n",
        "**Si no tiene la distribución Anaconda, ejecute el comando \"pip install numpy\". Si no tiene éxito, ver: [la documentación oficial de Numpy para más instrucciones de instalación.](http://docs.scipy.org/doc/numpy-1.10.1/user/install.html)**"
      ]
    },
    {
      "cell_type": "markdown",
      "metadata": {
        "id": "de0P9ZAFo8Sc"
      },
      "source": [
        "## Usando NumPy\n",
        "\n",
        "Una vez se haya instalado NumPy, se puede importar como una librería:"
      ]
    },
    {
      "cell_type": "code",
      "metadata": {
        "id": "shLHBZRto8Sd"
      },
      "source": [
        "import numpy as np"
      ],
      "execution_count": null,
      "outputs": []
    },
    {
      "cell_type": "markdown",
      "metadata": {
        "id": "tYCUoAvko8Si"
      },
      "source": [
        "**En este notebook trabajaremos con:**\n",
        "\n",
        "* Arreglos NumPy: vectores, matrices\n",
        "* Funciones para generar arreglos\n",
        "* Generación de arreglos con números aleatorios\n",
        "* Métodos y atributos de los arreglos\n",
        "* Índices en arreglos numpy\n",
        "* Operaciones con arreglos\n",
        "* Funciones para trabajar con arreglos\n",
        "\n",
        "\n",
        "# Arreglos NumPy\n",
        "\n",
        "Los arreglos de NumPy serán la principal funcionalidad que usaremos durante el curso. \n",
        "\n",
        "**Tipos de arreglos:**\n",
        "* Vectores: 1-d\n",
        "* Matrices: 2-d (aunque podrían tener una sola fila o una sola columna)\n",
        "\n",
        "\n",
        "\n",
        "## Creación de Arreglos NumPy (Arrays)\n",
        "\n",
        "### A partir de Listas de Python \n",
        "\n",
        "Podemos crear un Array conviertiendo una lista o lista de listas en un arreglo de NumPy:"
      ]
    },
    {
      "cell_type": "code",
      "metadata": {
        "id": "RZqORKZwo8Sj",
        "colab": {
          "base_uri": "https://localhost:8080/"
        },
        "outputId": "a0ec7828-3a49-4051-ebaa-41a169d50379"
      },
      "source": [
        "lista = [1,2,3]\n",
        "lista"
      ],
      "execution_count": null,
      "outputs": [
        {
          "output_type": "execute_result",
          "data": {
            "text/plain": [
              "[1, 2, 3]"
            ]
          },
          "metadata": {
            "tags": []
          },
          "execution_count": 2
        }
      ]
    },
    {
      "cell_type": "code",
      "metadata": {
        "id": "lubnZb-3o8Sn",
        "colab": {
          "base_uri": "https://localhost:8080/"
        },
        "outputId": "042d3b23-bb21-448e-832e-34df787db274"
      },
      "source": [
        "np.array(lista)"
      ],
      "execution_count": null,
      "outputs": [
        {
          "output_type": "execute_result",
          "data": {
            "text/plain": [
              "array([1, 2, 3])"
            ]
          },
          "metadata": {
            "tags": []
          },
          "execution_count": 3
        }
      ]
    },
    {
      "cell_type": "code",
      "metadata": {
        "id": "5y8i9D9No8Sq"
      },
      "source": [
        "arr = np.array(lista)"
      ],
      "execution_count": null,
      "outputs": []
    },
    {
      "cell_type": "code",
      "metadata": {
        "id": "JeIxSQBto8St",
        "colab": {
          "base_uri": "https://localhost:8080/"
        },
        "outputId": "a2af973f-e626-4ccb-ac27-2117f2717180"
      },
      "source": [
        "arr"
      ],
      "execution_count": null,
      "outputs": [
        {
          "output_type": "execute_result",
          "data": {
            "text/plain": [
              "array([1, 2, 3])"
            ]
          },
          "metadata": {
            "tags": []
          },
          "execution_count": 5
        }
      ]
    },
    {
      "cell_type": "code",
      "metadata": {
        "id": "ftBDpcgao8Sx",
        "colab": {
          "base_uri": "https://localhost:8080/"
        },
        "outputId": "ca31033d-93f7-48ba-b004-a5fd85e28d89"
      },
      "source": [
        "matriz = [[1,2,3],[4,5,6],[7,8,9]]\n",
        "matriz"
      ],
      "execution_count": null,
      "outputs": [
        {
          "output_type": "execute_result",
          "data": {
            "text/plain": [
              "[[1, 2, 3], [4, 5, 6], [7, 8, 9]]"
            ]
          },
          "metadata": {
            "tags": []
          },
          "execution_count": 8
        }
      ]
    },
    {
      "cell_type": "code",
      "metadata": {
        "id": "WUb3G4PRo8S0",
        "colab": {
          "base_uri": "https://localhost:8080/"
        },
        "outputId": "266e9de4-4446-44ae-fea8-59d0b24c9095"
      },
      "source": [
        "np.array(matriz)"
      ],
      "execution_count": null,
      "outputs": [
        {
          "output_type": "execute_result",
          "data": {
            "text/plain": [
              "array([[1, 2, 3],\n",
              "       [4, 5, 6],\n",
              "       [7, 8, 9]])"
            ]
          },
          "metadata": {
            "tags": []
          },
          "execution_count": 9
        }
      ]
    },
    {
      "cell_type": "markdown",
      "metadata": {
        "id": "yj6kiI5Mo8S1"
      },
      "source": [
        "# Funciones para generar arreglos\n",
        "\n",
        "Existen varias funciones para generar Arreglos:"
      ]
    },
    {
      "cell_type": "markdown",
      "metadata": {
        "id": "yrhAsezso8S3"
      },
      "source": [
        "## arange\n",
        "\n",
        "Funciona de forma similar al método \"range\" de Python pero devuelve un arreglo."
      ]
    },
    {
      "cell_type": "code",
      "metadata": {
        "id": "siFywI4Jo8S3",
        "colab": {
          "base_uri": "https://localhost:8080/"
        },
        "outputId": "fcafcef5-1b8d-480a-c7c1-b22d30514eab"
      },
      "source": [
        "np.arange(0,10)"
      ],
      "execution_count": null,
      "outputs": [
        {
          "output_type": "execute_result",
          "data": {
            "text/plain": [
              "array([0, 1, 2, 3, 4, 5, 6, 7, 8, 9])"
            ]
          },
          "metadata": {
            "tags": []
          },
          "execution_count": 10
        }
      ]
    },
    {
      "cell_type": "code",
      "metadata": {
        "id": "4uQlxExWo8S5",
        "colab": {
          "base_uri": "https://localhost:8080/"
        },
        "outputId": "4c24c325-3219-4bba-866e-941dcdf37f3a"
      },
      "source": [
        "np.arange(0,11,2)"
      ],
      "execution_count": null,
      "outputs": [
        {
          "output_type": "execute_result",
          "data": {
            "text/plain": [
              "array([ 0,  2,  4,  6,  8, 10])"
            ]
          },
          "metadata": {
            "tags": []
          },
          "execution_count": 12
        }
      ]
    },
    {
      "cell_type": "markdown",
      "metadata": {
        "id": "4Nxy0tu_o8S8"
      },
      "source": [
        "## ceros y unos (zeros/ones)\n",
        "\n",
        "Generan arreglos de ceros (zeros) y unos (ones)."
      ]
    },
    {
      "cell_type": "code",
      "metadata": {
        "id": "pYtIVKBlo8S8",
        "colab": {
          "base_uri": "https://localhost:8080/"
        },
        "outputId": "19c6ea78-380c-4bc5-ceb3-d52daeb8ec9a"
      },
      "source": [
        "np.zeros(3)"
      ],
      "execution_count": null,
      "outputs": [
        {
          "output_type": "execute_result",
          "data": {
            "text/plain": [
              "array([0., 0., 0.])"
            ]
          },
          "metadata": {
            "tags": []
          },
          "execution_count": 14
        }
      ]
    },
    {
      "cell_type": "code",
      "metadata": {
        "id": "PtQfsxH_o8S_",
        "colab": {
          "base_uri": "https://localhost:8080/"
        },
        "outputId": "204cbe2e-0efe-4b5b-9401-c4038c6b8599"
      },
      "source": [
        "np.zeros((5,5))"
      ],
      "execution_count": null,
      "outputs": [
        {
          "output_type": "execute_result",
          "data": {
            "text/plain": [
              "array([[0., 0., 0., 0., 0.],\n",
              "       [0., 0., 0., 0., 0.],\n",
              "       [0., 0., 0., 0., 0.],\n",
              "       [0., 0., 0., 0., 0.],\n",
              "       [0., 0., 0., 0., 0.]])"
            ]
          },
          "metadata": {
            "tags": []
          },
          "execution_count": 15
        }
      ]
    },
    {
      "cell_type": "code",
      "metadata": {
        "id": "Y6bw3Hc-o8TA",
        "colab": {
          "base_uri": "https://localhost:8080/"
        },
        "outputId": "40bcdb1f-4760-4525-fe70-7c77c7b561dd"
      },
      "source": [
        "np.zeros((2,3))"
      ],
      "execution_count": null,
      "outputs": [
        {
          "output_type": "execute_result",
          "data": {
            "text/plain": [
              "array([[0., 0., 0.],\n",
              "       [0., 0., 0.]])"
            ]
          },
          "metadata": {
            "tags": []
          },
          "execution_count": 16
        }
      ]
    },
    {
      "cell_type": "code",
      "metadata": {
        "id": "GIL4SU5Bo8TD",
        "colab": {
          "base_uri": "https://localhost:8080/"
        },
        "outputId": "6cb2ee0c-ad61-4925-cb15-23ca2beb679b"
      },
      "source": [
        "np.zeros((2,3), dtype='int')"
      ],
      "execution_count": null,
      "outputs": [
        {
          "output_type": "execute_result",
          "data": {
            "text/plain": [
              "array([[0, 0, 0],\n",
              "       [0, 0, 0]])"
            ]
          },
          "metadata": {
            "tags": []
          },
          "execution_count": 17
        }
      ]
    },
    {
      "cell_type": "code",
      "metadata": {
        "id": "njn9VApmo8TF",
        "colab": {
          "base_uri": "https://localhost:8080/",
          "height": 35
        },
        "outputId": "47c3c6c8-c932-4b43-f226-1e96d76879c1"
      },
      "source": [
        "np.ones(3)"
      ],
      "execution_count": null,
      "outputs": [
        {
          "output_type": "execute_result",
          "data": {
            "text/plain": [
              "array([1., 1., 1.])"
            ]
          },
          "metadata": {
            "tags": []
          },
          "execution_count": 22
        }
      ]
    },
    {
      "cell_type": "code",
      "metadata": {
        "id": "0W6DdA9fo8TG",
        "colab": {
          "base_uri": "https://localhost:8080/"
        },
        "outputId": "dc2bbbdc-2d98-41dd-a46a-1723d394f966"
      },
      "source": [
        "np.ones((3,5))"
      ],
      "execution_count": null,
      "outputs": [
        {
          "output_type": "execute_result",
          "data": {
            "text/plain": [
              "array([[1., 1., 1., 1., 1.],\n",
              "       [1., 1., 1., 1., 1.],\n",
              "       [1., 1., 1., 1., 1.]])"
            ]
          },
          "metadata": {
            "tags": []
          },
          "execution_count": 21
        }
      ]
    },
    {
      "cell_type": "markdown",
      "metadata": {
        "id": "NhfcJdSdo8TI"
      },
      "source": [
        "## linspace\n",
        "Retorna un vector (arreglo de una dimensión) desde un número (primer parámetro) hasta otro (segundo parámetro) separados entre si por la misma distancia. El número de elementos está determinado por el tercer parámetro."
      ]
    },
    {
      "cell_type": "code",
      "metadata": {
        "id": "uwh2cx8Vo8TJ",
        "colab": {
          "base_uri": "https://localhost:8080/"
        },
        "outputId": "20e3a9ad-9d72-4183-f839-abe4c1fb6461"
      },
      "source": [
        "np.linspace(0,10,3)"
      ],
      "execution_count": null,
      "outputs": [
        {
          "output_type": "execute_result",
          "data": {
            "text/plain": [
              "array([ 0.,  5., 10.])"
            ]
          },
          "metadata": {
            "tags": []
          },
          "execution_count": 22
        }
      ]
    },
    {
      "cell_type": "code",
      "metadata": {
        "id": "WBctrY3vo8TM",
        "colab": {
          "base_uri": "https://localhost:8080/"
        },
        "outputId": "2b730e58-1b0f-4992-f69b-1f174eccb77f"
      },
      "source": [
        "np.linspace(0,10,6)"
      ],
      "execution_count": null,
      "outputs": [
        {
          "output_type": "execute_result",
          "data": {
            "text/plain": [
              "array([ 0.,  2.,  4.,  6.,  8., 10.])"
            ]
          },
          "metadata": {
            "tags": []
          },
          "execution_count": 23
        }
      ]
    },
    {
      "cell_type": "code",
      "metadata": {
        "id": "bgQtcejRo8TN",
        "colab": {
          "base_uri": "https://localhost:8080/"
        },
        "outputId": "717a2809-c87c-4203-e973-8aafae1b7ee9"
      },
      "source": [
        "np.linspace(0,10,20)"
      ],
      "execution_count": null,
      "outputs": [
        {
          "output_type": "execute_result",
          "data": {
            "text/plain": [
              "array([ 0.        ,  0.52631579,  1.05263158,  1.57894737,  2.10526316,\n",
              "        2.63157895,  3.15789474,  3.68421053,  4.21052632,  4.73684211,\n",
              "        5.26315789,  5.78947368,  6.31578947,  6.84210526,  7.36842105,\n",
              "        7.89473684,  8.42105263,  8.94736842,  9.47368421, 10.        ])"
            ]
          },
          "metadata": {
            "tags": []
          },
          "execution_count": 24
        }
      ]
    },
    {
      "cell_type": "code",
      "metadata": {
        "id": "EqlBjqWso8TP",
        "colab": {
          "base_uri": "https://localhost:8080/"
        },
        "outputId": "e307ad1e-4b27-481a-d8bc-7931eedf39b6"
      },
      "source": [
        "np.linspace(0,10,100)"
      ],
      "execution_count": null,
      "outputs": [
        {
          "output_type": "execute_result",
          "data": {
            "text/plain": [
              "array([ 0.        ,  0.1010101 ,  0.2020202 ,  0.3030303 ,  0.4040404 ,\n",
              "        0.50505051,  0.60606061,  0.70707071,  0.80808081,  0.90909091,\n",
              "        1.01010101,  1.11111111,  1.21212121,  1.31313131,  1.41414141,\n",
              "        1.51515152,  1.61616162,  1.71717172,  1.81818182,  1.91919192,\n",
              "        2.02020202,  2.12121212,  2.22222222,  2.32323232,  2.42424242,\n",
              "        2.52525253,  2.62626263,  2.72727273,  2.82828283,  2.92929293,\n",
              "        3.03030303,  3.13131313,  3.23232323,  3.33333333,  3.43434343,\n",
              "        3.53535354,  3.63636364,  3.73737374,  3.83838384,  3.93939394,\n",
              "        4.04040404,  4.14141414,  4.24242424,  4.34343434,  4.44444444,\n",
              "        4.54545455,  4.64646465,  4.74747475,  4.84848485,  4.94949495,\n",
              "        5.05050505,  5.15151515,  5.25252525,  5.35353535,  5.45454545,\n",
              "        5.55555556,  5.65656566,  5.75757576,  5.85858586,  5.95959596,\n",
              "        6.06060606,  6.16161616,  6.26262626,  6.36363636,  6.46464646,\n",
              "        6.56565657,  6.66666667,  6.76767677,  6.86868687,  6.96969697,\n",
              "        7.07070707,  7.17171717,  7.27272727,  7.37373737,  7.47474747,\n",
              "        7.57575758,  7.67676768,  7.77777778,  7.87878788,  7.97979798,\n",
              "        8.08080808,  8.18181818,  8.28282828,  8.38383838,  8.48484848,\n",
              "        8.58585859,  8.68686869,  8.78787879,  8.88888889,  8.98989899,\n",
              "        9.09090909,  9.19191919,  9.29292929,  9.39393939,  9.49494949,\n",
              "        9.5959596 ,  9.6969697 ,  9.7979798 ,  9.8989899 , 10.        ])"
            ]
          },
          "metadata": {
            "tags": []
          },
          "execution_count": 25
        }
      ]
    },
    {
      "cell_type": "markdown",
      "metadata": {
        "id": "7WUmE4uQ8ZmY"
      },
      "source": [
        "##Repaso de conceptos básicos de Álgebra Lineal\n",
        "https://stanford.edu/~shervine/l/es/teaching/cs-229/repaso-algebra-lineal-calculo"
      ]
    },
    {
      "cell_type": "markdown",
      "metadata": {
        "id": "3MhLF_pSo8TQ"
      },
      "source": [
        "## eye\n",
        "\n",
        "Crea una matriz identidad del tamaño indicado en el argumento."
      ]
    },
    {
      "cell_type": "code",
      "metadata": {
        "id": "qt7C4pDZo8TQ",
        "colab": {
          "base_uri": "https://localhost:8080/"
        },
        "outputId": "ab3256e7-4b0b-451e-eb0b-0f0da98f577c"
      },
      "source": [
        "np.eye(4)"
      ],
      "execution_count": null,
      "outputs": [
        {
          "output_type": "execute_result",
          "data": {
            "text/plain": [
              "array([[1., 0., 0., 0.],\n",
              "       [0., 1., 0., 0.],\n",
              "       [0., 0., 1., 0.],\n",
              "       [0., 0., 0., 1.]])"
            ]
          },
          "metadata": {
            "tags": []
          },
          "execution_count": 26
        }
      ]
    },
    {
      "cell_type": "code",
      "metadata": {
        "id": "HqVPm0Ido8TR"
      },
      "source": [
        "I = np.eye(10)"
      ],
      "execution_count": null,
      "outputs": []
    },
    {
      "cell_type": "markdown",
      "metadata": {
        "id": "mn5SoNTCo8TT"
      },
      "source": [
        "# Generación de números y arreglos de números aleatorios\n",
        "\n"
      ]
    },
    {
      "cell_type": "markdown",
      "metadata": {
        "id": "YNyU6F0RfL9Q"
      },
      "source": [
        "Los números aleatorios son importantísimos en computación. Como veremos, NumPy ofrece funciones para generar datos aleatorios simples y basados en algunas distribuciones estadísticas."
      ]
    },
    {
      "cell_type": "markdown",
      "metadata": {
        "id": "SwzG6x1Ef6dj"
      },
      "source": [
        "## Crear un número aleatorio"
      ]
    },
    {
      "cell_type": "code",
      "metadata": {
        "id": "r4YCxxX5fLP-",
        "colab": {
          "base_uri": "https://localhost:8080/"
        },
        "outputId": "48312bd0-c716-4836-d25a-70c8fef766f9"
      },
      "source": [
        "import numpy as np\n",
        "\n",
        "# Sin argumentos se general un número aleatorio\n",
        "np.random.rand()*10"
      ],
      "execution_count": null,
      "outputs": [
        {
          "output_type": "execute_result",
          "data": {
            "text/plain": [
              "6.2260005053542855"
            ]
          },
          "metadata": {
            "tags": []
          },
          "execution_count": 31
        }
      ]
    },
    {
      "cell_type": "markdown",
      "metadata": {
        "id": "d8BQTjVXgA_5"
      },
      "source": [
        "## Crear un arreglo de números aleatorios\n",
        "\n",
        "Numpy también ofrece varias maneras de crear arreglos de número aleatorios:\n"
      ]
    },
    {
      "cell_type": "markdown",
      "metadata": {
        "id": "CGBfbFSS1GFI"
      },
      "source": [
        "### Seed\n",
        "Semilla para números aleatorios "
      ]
    },
    {
      "cell_type": "code",
      "metadata": {
        "id": "WpIVXhH91ERj"
      },
      "source": [
        "np.random.seed(10)"
      ],
      "execution_count": null,
      "outputs": []
    },
    {
      "cell_type": "markdown",
      "metadata": {
        "id": "BhG5MIsagSGM"
      },
      "source": [
        "\n",
        "\n",
        "\n",
        "\n",
        "\n",
        "\n",
        "\n",
        "\n",
        "\n",
        "\n",
        "**texto en negrita**\n",
        "### Rand\n",
        "\n",
        "Crea un arreglo del tamaño dado y lo llena con una muestra aleatoria de números con una distribución uniforme en el rango [0, 1). "
      ]
    },
    {
      "cell_type": "code",
      "metadata": {
        "id": "AQoLTyJHgGtW",
        "colab": {
          "base_uri": "https://localhost:8080/"
        },
        "outputId": "b2cc3b6e-5453-44b3-9207-64998b0a4ef3"
      },
      "source": [
        "np.random.rand(4)  # Un array de 4 elementos"
      ],
      "execution_count": null,
      "outputs": [
        {
          "output_type": "execute_result",
          "data": {
            "text/plain": [
              "array([0.49850701, 0.22479665, 0.19806286, 0.76053071])"
            ]
          },
          "metadata": {
            "tags": []
          },
          "execution_count": 35
        }
      ]
    },
    {
      "cell_type": "markdown",
      "metadata": {
        "id": "-rWPvPKqgsda"
      },
      "source": [
        "*En la distribución uniforme todos los números reales entre 0 y 1 tienen la misma probabilidad de ocurrencia.*"
      ]
    },
    {
      "cell_type": "code",
      "metadata": {
        "id": "sc-wayCsg0z4",
        "colab": {
          "base_uri": "https://localhost:8080/"
        },
        "outputId": "d16d96aa-3612-453f-9bc4-8799ee513691"
      },
      "source": [
        "np.random.rand(5,5) # Una matriz cuadrada 5x5 de números aleatorios"
      ],
      "execution_count": null,
      "outputs": [
        {
          "output_type": "execute_result",
          "data": {
            "text/plain": [
              "array([[0.16911084, 0.08833981, 0.68535982, 0.95339335, 0.00394827],\n",
              "       [0.51219226, 0.81262096, 0.61252607, 0.72175532, 0.29187607],\n",
              "       [0.91777412, 0.71457578, 0.54254437, 0.14217005, 0.37334076],\n",
              "       [0.67413362, 0.44183317, 0.43401399, 0.61776698, 0.51313824],\n",
              "       [0.65039718, 0.60103895, 0.8052232 , 0.52164715, 0.90864888]])"
            ]
          },
          "metadata": {
            "tags": []
          },
          "execution_count": 36
        }
      ]
    },
    {
      "cell_type": "code",
      "metadata": {
        "id": "drCbZXlVF5k2"
      },
      "source": [
        ""
      ],
      "execution_count": null,
      "outputs": []
    },
    {
      "cell_type": "code",
      "metadata": {
        "id": "jI93gPogo8TW",
        "colab": {
          "base_uri": "https://localhost:8080/"
        },
        "outputId": "2f90db1d-a073-4bce-a73e-f81cf04386a0"
      },
      "source": [
        "np.random.rand(2,4,2)"
      ],
      "execution_count": null,
      "outputs": [
        {
          "output_type": "execute_result",
          "data": {
            "text/plain": [
              "array([[[0.31923609, 0.09045935],\n",
              "        [0.30070006, 0.11398436],\n",
              "        [0.82868133, 0.04689632],\n",
              "        [0.62628715, 0.54758616]],\n",
              "\n",
              "       [[0.819287  , 0.19894754],\n",
              "        [0.8568503 , 0.35165264],\n",
              "        [0.75464769, 0.29596171],\n",
              "        [0.88393648, 0.32551164]]])"
            ]
          },
          "metadata": {
            "tags": []
          },
          "execution_count": 37
        }
      ]
    },
    {
      "cell_type": "markdown",
      "metadata": {
        "id": "JY49v72Mo8TY"
      },
      "source": [
        "### Randn\n",
        "Retorna un arreglo con una muestra de números aleatorios con una distribución normal (centrada en 0), a diferencia de rand cuya distribución es uniforme:\n",
        "\n",
        "\n",
        "![wget](https://drive.google.com/uc?export=view&id=1RRx5wqZeknAOTTUggdyeq0s7eOkptZDV)"
      ]
    },
    {
      "cell_type": "code",
      "metadata": {
        "id": "AMYy8X0do8TY",
        "colab": {
          "base_uri": "https://localhost:8080/"
        },
        "outputId": "e35dd884-4ec9-406e-9f2a-1afbca9876e2"
      },
      "source": [
        "np.random.randn(2)"
      ],
      "execution_count": null,
      "outputs": [
        {
          "output_type": "execute_result",
          "data": {
            "text/plain": [
              "array([-0.36225179, -1.12913125])"
            ]
          },
          "metadata": {
            "tags": []
          },
          "execution_count": 38
        }
      ]
    },
    {
      "cell_type": "code",
      "metadata": {
        "id": "oHYh-VbFo8Ta",
        "colab": {
          "base_uri": "https://localhost:8080/"
        },
        "outputId": "fe42f445-c817-4987-97b6-964f40b52ac6"
      },
      "source": [
        "np.random.randn(4,5)"
      ],
      "execution_count": null,
      "outputs": [
        {
          "output_type": "execute_result",
          "data": {
            "text/plain": [
              "array([[-0.34971048, -1.05272652,  1.28227668, -0.17180538,  0.57765806],\n",
              "       [-1.47497488,  0.07878845,  0.91841365, -0.49269736,  0.09646237],\n",
              "       [-0.65275994, -0.22176244, -1.06828657, -1.22769205, -1.79857302],\n",
              "       [-0.68520734, -1.40986887,  1.25239859,  0.46956276,  0.32692165]])"
            ]
          },
          "metadata": {
            "tags": []
          },
          "execution_count": 39
        }
      ]
    },
    {
      "cell_type": "markdown",
      "metadata": {
        "id": "CW1I2ymejuRk"
      },
      "source": [
        "Más info acerca de distribuciones de probabilidad en este [**enlace**](https://www.healthknowledge.org.uk/public-health-textbook/research-methods/1b-statistical-methods/statistical-distributions). "
      ]
    },
    {
      "cell_type": "markdown",
      "metadata": {
        "id": "ccn-jzC_o8Tb"
      },
      "source": [
        "### Randint\n",
        "Retorna números enteros aleatorios desde el primer parámetro (inclusive) hasta el segundo parámetro (excluido). Si tiene un tercer argumento, éste será el número de elementos que tendrá el arreglo de enteros aleatorios que retorna."
      ]
    },
    {
      "cell_type": "code",
      "metadata": {
        "id": "t8kD6r1Io8Tc",
        "colab": {
          "base_uri": "https://localhost:8080/"
        },
        "outputId": "1a61cc26-2b90-434f-97e5-d82b0ea6f468"
      },
      "source": [
        "# El primer parámetro es el límite inferior, \n",
        "# el segundo el límite superior\n",
        "# el tercero es el número de elementos. Por defecto es 1\n",
        "np.random.randint(1,100) "
      ],
      "execution_count": null,
      "outputs": [
        {
          "output_type": "execute_result",
          "data": {
            "text/plain": [
              "31"
            ]
          },
          "metadata": {
            "tags": []
          },
          "execution_count": 40
        }
      ]
    },
    {
      "cell_type": "code",
      "metadata": {
        "id": "U1Fel4MVo8Tf",
        "colab": {
          "base_uri": "https://localhost:8080/"
        },
        "outputId": "ba0cd1e0-0f55-4f45-ffa5-feda40cbac12"
      },
      "source": [
        "np.random.randint(1,100,10)"
      ],
      "execution_count": null,
      "outputs": [
        {
          "output_type": "execute_result",
          "data": {
            "text/plain": [
              "array([82, 18, 17,  1, 32, 74, 65, 39, 23, 97])"
            ]
          },
          "metadata": {
            "tags": []
          },
          "execution_count": 41
        }
      ]
    },
    {
      "cell_type": "markdown",
      "metadata": {
        "id": "3Qur62puo8Tj"
      },
      "source": [
        "# Atributos y manipulación de los arreglos\n"
      ]
    },
    {
      "cell_type": "code",
      "metadata": {
        "id": "JK7yesDvo8Tk",
        "colab": {
          "base_uri": "https://localhost:8080/"
        },
        "outputId": "a084b124-dab5-48f1-f8cb-057c196e3b5c"
      },
      "source": [
        "arr = np.arange(6)\n",
        "ranarr = np.random.randint(0,50,10)\n",
        "ranarr2 = np.random.randint(0,50,(10,10))\n",
        "ranarr2"
      ],
      "execution_count": null,
      "outputs": [
        {
          "output_type": "execute_result",
          "data": {
            "text/plain": [
              "array([[26,  9, 27, 26, 48, 49, 42, 23, 25, 19],\n",
              "       [48, 40, 33, 12, 11, 29, 30, 31, 28, 37],\n",
              "       [15, 20, 21, 20, 35, 46, 46, 45, 30, 20],\n",
              "       [20, 49, 33,  2, 33, 33, 34, 12, 44, 18],\n",
              "       [46, 13,  2, 37, 31, 17, 23, 17, 33, 10],\n",
              "       [15, 15, 16, 38, 49, 26,  2,  6, 33,  5],\n",
              "       [ 8, 29, 48, 19, 25, 15, 35, 32, 18, 41],\n",
              "       [26, 26, 10,  8, 28, 32,  7, 23,  4, 22],\n",
              "       [14, 35, 20, 47, 37, 47,  3, 14, 37, 14],\n",
              "       [44, 34, 21, 14, 30, 17, 38, 10, 23,  1]])"
            ]
          },
          "metadata": {
            "tags": []
          },
          "execution_count": 48
        }
      ]
    },
    {
      "cell_type": "markdown",
      "metadata": {
        "id": "KP3rNL2ykrdS"
      },
      "source": [
        "## Dimesionalidad del arreglo"
      ]
    },
    {
      "cell_type": "code",
      "metadata": {
        "id": "Zt3a20poG4Iu",
        "colab": {
          "base_uri": "https://localhost:8080/"
        },
        "outputId": "776a715f-bcda-4ed9-ad5d-9c41c8c9e762"
      },
      "source": [
        "arr"
      ],
      "execution_count": null,
      "outputs": [
        {
          "output_type": "execute_result",
          "data": {
            "text/plain": [
              "array([0, 1, 2, 3, 4, 5])"
            ]
          },
          "metadata": {
            "tags": []
          },
          "execution_count": 43
        }
      ]
    },
    {
      "cell_type": "code",
      "metadata": {
        "id": "cDbEng1no8Tm",
        "colab": {
          "base_uri": "https://localhost:8080/"
        },
        "outputId": "0380ba6f-f6de-454c-a74a-f52ab219d896"
      },
      "source": [
        "arr.ndim"
      ],
      "execution_count": null,
      "outputs": [
        {
          "output_type": "execute_result",
          "data": {
            "text/plain": [
              "1"
            ]
          },
          "metadata": {
            "tags": []
          },
          "execution_count": 44
        }
      ]
    },
    {
      "cell_type": "code",
      "metadata": {
        "id": "FgZV4KHQk3xG",
        "colab": {
          "base_uri": "https://localhost:8080/"
        },
        "outputId": "8cd223fa-5d10-4483-a3be-351cd17de6e0"
      },
      "source": [
        "ranarr2.ndim"
      ],
      "execution_count": null,
      "outputs": [
        {
          "output_type": "execute_result",
          "data": {
            "text/plain": [
              "2"
            ]
          },
          "metadata": {
            "tags": []
          },
          "execution_count": 49
        }
      ]
    },
    {
      "cell_type": "markdown",
      "metadata": {
        "id": "dxmxKknRo8T2"
      },
      "source": [
        "## Shape: Forma del arreglo\n",
        "\n",
        "Shape  es un atributo de los arreglos que indica las dimensiones del arreglo:"
      ]
    },
    {
      "cell_type": "code",
      "metadata": {
        "id": "aAMZLtw6o8T5",
        "colab": {
          "base_uri": "https://localhost:8080/"
        },
        "outputId": "c28b9e8f-f7b8-48dd-cf31-129f6b76421c"
      },
      "source": [
        "# Vector: 1-dimensión\n",
        "arr.shape"
      ],
      "execution_count": null,
      "outputs": [
        {
          "output_type": "execute_result",
          "data": {
            "text/plain": [
              "(6,)"
            ]
          },
          "metadata": {
            "tags": []
          },
          "execution_count": 50
        }
      ]
    },
    {
      "cell_type": "code",
      "metadata": {
        "id": "VeOUI30yo8T8",
        "colab": {
          "base_uri": "https://localhost:8080/"
        },
        "outputId": "c141bc13-8488-4334-e95f-9f9636503aad"
      },
      "source": [
        "ranarr2.shape"
      ],
      "execution_count": null,
      "outputs": [
        {
          "output_type": "execute_result",
          "data": {
            "text/plain": [
              "(10, 10)"
            ]
          },
          "metadata": {
            "tags": []
          },
          "execution_count": 51
        }
      ]
    },
    {
      "cell_type": "markdown",
      "metadata": {
        "id": "2_i4UD9Do8To"
      },
      "source": [
        "## Reshape\n",
        "Retorna un arreglo que contiene los mismos datos que el arreglo original pero con unas dimensiones nuevas."
      ]
    },
    {
      "cell_type": "code",
      "metadata": {
        "id": "EMYa0Mkko8T-",
        "colab": {
          "base_uri": "https://localhost:8080/"
        },
        "outputId": "49c962b3-a232-4154-d75b-12e501230679"
      },
      "source": [
        "arr = arr.reshape(2,3)\n",
        "arr"
      ],
      "execution_count": null,
      "outputs": [
        {
          "output_type": "execute_result",
          "data": {
            "text/plain": [
              "array([[0, 1, 2],\n",
              "       [3, 4, 5]])"
            ]
          },
          "metadata": {
            "tags": []
          },
          "execution_count": 52
        }
      ]
    },
    {
      "cell_type": "code",
      "metadata": {
        "id": "TSgbWL5Ao8Tp",
        "colab": {
          "base_uri": "https://localhost:8080/"
        },
        "outputId": "da821199-2e88-41fb-fc9d-3a7d819ba358"
      },
      "source": [
        "arr.reshape(3,2)"
      ],
      "execution_count": null,
      "outputs": [
        {
          "output_type": "execute_result",
          "data": {
            "text/plain": [
              "array([[0, 1],\n",
              "       [2, 3],\n",
              "       [4, 5]])"
            ]
          },
          "metadata": {
            "tags": []
          },
          "execution_count": 53
        }
      ]
    },
    {
      "cell_type": "code",
      "metadata": {
        "id": "TURsZEp9o8Tq",
        "colab": {
          "base_uri": "https://localhost:8080/"
        },
        "outputId": "9d2ec1b8-ee9f-4cf3-9347-417a99a468d7"
      },
      "source": [
        "# Debe contener el mismo número de elementos que el arreglo original. De lo contrario se produce un error como aquí:\n",
        "arr.reshape(6, 1)\n"
      ],
      "execution_count": null,
      "outputs": [
        {
          "output_type": "execute_result",
          "data": {
            "text/plain": [
              "array([[0],\n",
              "       [1],\n",
              "       [2],\n",
              "       [3],\n",
              "       [4],\n",
              "       [5]])"
            ]
          },
          "metadata": {
            "tags": []
          },
          "execution_count": 54
        }
      ]
    },
    {
      "cell_type": "markdown",
      "metadata": {
        "id": "4Mrn-jA4o8Tt"
      },
      "source": [
        "## max, min, argmax, argmin\n",
        "\n",
        "Estos métodos se usan para encontrar los valores máximos y mínimos en un arreglo. También, para encontrar los índices donde están ubicados mediante argmin/argmax."
      ]
    },
    {
      "cell_type": "code",
      "metadata": {
        "id": "MMkddbZXo8Tu",
        "colab": {
          "base_uri": "https://localhost:8080/"
        },
        "outputId": "6518ed45-b354-4907-c6bd-6788b6cb93df"
      },
      "source": [
        "ranarr"
      ],
      "execution_count": null,
      "outputs": [
        {
          "output_type": "execute_result",
          "data": {
            "text/plain": [
              "array([32, 41, 38, 46, 48, 49, 27, 45,  0, 49])"
            ]
          },
          "metadata": {
            "tags": []
          },
          "execution_count": 55
        }
      ]
    },
    {
      "cell_type": "code",
      "metadata": {
        "id": "eh8XJSv1o8Tw",
        "colab": {
          "base_uri": "https://localhost:8080/"
        },
        "outputId": "03aba0d1-b2ae-40a2-b52a-e0e9233ef8e0"
      },
      "source": [
        "ranarr.max()"
      ],
      "execution_count": null,
      "outputs": [
        {
          "output_type": "execute_result",
          "data": {
            "text/plain": [
              "49"
            ]
          },
          "metadata": {
            "tags": []
          },
          "execution_count": 56
        }
      ]
    },
    {
      "cell_type": "code",
      "metadata": {
        "id": "QAZvc5MVo8Tx",
        "colab": {
          "base_uri": "https://localhost:8080/"
        },
        "outputId": "77656c71-58a7-414f-ed2d-18ab69ad4f4b"
      },
      "source": [
        "ranarr.argmax()"
      ],
      "execution_count": null,
      "outputs": [
        {
          "output_type": "execute_result",
          "data": {
            "text/plain": [
              "5"
            ]
          },
          "metadata": {
            "tags": []
          },
          "execution_count": 57
        }
      ]
    },
    {
      "cell_type": "code",
      "metadata": {
        "id": "daQhw821o8Tz",
        "colab": {
          "base_uri": "https://localhost:8080/"
        },
        "outputId": "3763dde5-b00c-4f02-8e92-fcb74eaa2eea"
      },
      "source": [
        "ranarr.min()"
      ],
      "execution_count": null,
      "outputs": [
        {
          "output_type": "execute_result",
          "data": {
            "text/plain": [
              "0"
            ]
          },
          "metadata": {
            "tags": []
          },
          "execution_count": 58
        }
      ]
    },
    {
      "cell_type": "code",
      "metadata": {
        "id": "W21muDZFo8T0",
        "colab": {
          "base_uri": "https://localhost:8080/"
        },
        "outputId": "1843afbb-8dcb-4ec6-c181-99c67a552f04"
      },
      "source": [
        "ranarr.argmin()"
      ],
      "execution_count": null,
      "outputs": [
        {
          "output_type": "execute_result",
          "data": {
            "text/plain": [
              "8"
            ]
          },
          "metadata": {
            "tags": []
          },
          "execution_count": 59
        }
      ]
    },
    {
      "cell_type": "markdown",
      "metadata": {
        "id": "NkMV6_aDo8UE"
      },
      "source": [
        "## dtype\n",
        "\n",
        "También es posible averiguar el tipo de dato del arreglo usando el atributo dtype:"
      ]
    },
    {
      "cell_type": "code",
      "metadata": {
        "id": "EfLKpt5bo8UE",
        "colab": {
          "base_uri": "https://localhost:8080/"
        },
        "outputId": "ba93b4ea-37ac-49ed-8f5d-8a83b21e5c12"
      },
      "source": [
        "arr.dtype"
      ],
      "execution_count": null,
      "outputs": [
        {
          "output_type": "execute_result",
          "data": {
            "text/plain": [
              "dtype('int64')"
            ]
          },
          "metadata": {
            "tags": []
          },
          "execution_count": 0
        }
      ]
    },
    {
      "cell_type": "markdown",
      "metadata": {
        "id": "5elzmg60o8UG"
      },
      "source": [
        "## Importar directamente función de un módulo\n",
        "\n",
        "Para evitar tener que llamar el módulo y luego la función, por ejemplo:\n",
        "\n",
        "**np.random **\n",
        "\n",
        "Se puede importar la función directamente."
      ]
    },
    {
      "cell_type": "code",
      "metadata": {
        "id": "HW9khWuJo8UG"
      },
      "source": [
        "from numpy.random import randint"
      ],
      "execution_count": null,
      "outputs": []
    },
    {
      "cell_type": "code",
      "metadata": {
        "id": "dWCXsiKDo8UI",
        "colab": {
          "base_uri": "https://localhost:8080/"
        },
        "outputId": "f36a60c7-31ce-4857-83d1-5d87e369303d"
      },
      "source": [
        "randint(500,1000)"
      ],
      "execution_count": null,
      "outputs": [
        {
          "output_type": "execute_result",
          "data": {
            "text/plain": [
              "558"
            ]
          },
          "metadata": {
            "tags": []
          },
          "execution_count": 65
        }
      ]
    },
    {
      "cell_type": "markdown",
      "metadata": {
        "id": "sum5GwX3is_i"
      },
      "source": [
        "# NumPy Indices\n",
        "\n",
        "En un arreglo el índice es la posición de la secuencia para cada uno de los elementos."
      ]
    },
    {
      "cell_type": "code",
      "metadata": {
        "id": "3MxjdWvOis_n",
        "colab": {
          "base_uri": "https://localhost:8080/"
        },
        "outputId": "5d831e20-80c4-42a9-8b93-7d2f7e4f341e"
      },
      "source": [
        "vector1 = np.array([0,1,2,3,4,5,6,7,8,9,10])\n",
        "print(vector1)\n",
        "print('Elemento en posición 0: ', vector1[0])"
      ],
      "execution_count": null,
      "outputs": [
        {
          "output_type": "stream",
          "text": [
            "[ 0  1  2  3  4  5  6  7  8  9 10]\n",
            "Elemento en posición 0:  0\n"
          ],
          "name": "stdout"
        }
      ]
    },
    {
      "cell_type": "markdown",
      "metadata": {
        "id": "nVQIAfEsis_x"
      },
      "source": [
        "### Arreglos uni-dimesionales Vectores\n",
        "\n",
        "La forma más sencilla de seleccionar un elemento o un conjunto de ellos de un arreglo es muy similar a las listas de Python:"
      ]
    },
    {
      "cell_type": "code",
      "metadata": {
        "id": "APjsXkEgis_y",
        "colab": {
          "base_uri": "https://localhost:8080/"
        },
        "outputId": "f38387b3-88f8-4c0c-f748-996e1303d932"
      },
      "source": [
        "# Obtiene el elemento ubicado en el índice dado\n",
        "vector1[8]"
      ],
      "execution_count": null,
      "outputs": [
        {
          "output_type": "execute_result",
          "data": {
            "text/plain": [
              "8"
            ]
          },
          "metadata": {
            "tags": []
          },
          "execution_count": 67
        }
      ]
    },
    {
      "cell_type": "code",
      "metadata": {
        "id": "TF3cYpmKis_6",
        "colab": {
          "base_uri": "https://localhost:8080/"
        },
        "outputId": "c0e34a4e-af54-42dd-ebb6-bd2eee717886"
      },
      "source": [
        "# Obtiene los elementos en el rango dado (sin incluir el límite superior)\n",
        "vector1[1:5]"
      ],
      "execution_count": null,
      "outputs": [
        {
          "output_type": "execute_result",
          "data": {
            "text/plain": [
              "array([1, 2, 3, 4])"
            ]
          },
          "metadata": {
            "tags": []
          },
          "execution_count": 69
        }
      ]
    },
    {
      "cell_type": "code",
      "metadata": {
        "id": "zXeiD1F0itAD",
        "colab": {
          "base_uri": "https://localhost:8080/"
        },
        "outputId": "12fa9dbb-7eda-4de4-e1f8-829906ef306e"
      },
      "source": [
        "# Obtiene los elementos desde el inicio hasta el elemento en la posición 7\n",
        "vector1[:7]"
      ],
      "execution_count": null,
      "outputs": [
        {
          "output_type": "execute_result",
          "data": {
            "text/plain": [
              "array([0, 1, 2, 3, 4, 5, 6])"
            ]
          },
          "metadata": {
            "tags": []
          },
          "execution_count": 70
        }
      ]
    },
    {
      "cell_type": "code",
      "metadata": {
        "id": "v92kHgWvitAJ",
        "colab": {
          "base_uri": "https://localhost:8080/"
        },
        "outputId": "b9029556-863f-4a2e-964f-a1d4690a48bf"
      },
      "source": [
        "# Obtener desde una posición hasta el final del erreglo\n",
        "print(vector1[5:])\n",
        "print(vector1[5:11])"
      ],
      "execution_count": null,
      "outputs": [
        {
          "output_type": "stream",
          "text": [
            "[ 5  6  7  8  9 10]\n",
            "[ 5  6  7  8  9 10]\n"
          ],
          "name": "stdout"
        }
      ]
    },
    {
      "cell_type": "code",
      "metadata": {
        "id": "vircGCrIitAO",
        "colab": {
          "base_uri": "https://localhost:8080/"
        },
        "outputId": "814d7210-f471-46dc-c29f-b41332dd6f48"
      },
      "source": [
        "# Obtener desde la posición inicial y hasta la 8, cada 2 posiciones\n",
        "vector1[0:8:2]"
      ],
      "execution_count": null,
      "outputs": [
        {
          "output_type": "execute_result",
          "data": {
            "text/plain": [
              "array([0, 2, 4, 6])"
            ]
          },
          "metadata": {
            "tags": []
          },
          "execution_count": 72
        }
      ]
    },
    {
      "cell_type": "code",
      "metadata": {
        "id": "J6QbW2SBitAS",
        "colab": {
          "base_uri": "https://localhost:8080/"
        },
        "outputId": "444a184b-7b6b-4816-dcc6-972a741a5beb"
      },
      "source": [
        "# Obtener la última posición del arreglo\n",
        "vector1[-1]"
      ],
      "execution_count": null,
      "outputs": [
        {
          "output_type": "execute_result",
          "data": {
            "text/plain": [
              "10"
            ]
          },
          "metadata": {
            "tags": []
          },
          "execution_count": 75
        }
      ]
    },
    {
      "cell_type": "code",
      "metadata": {
        "id": "gOpNoFJaitAU",
        "colab": {
          "base_uri": "https://localhost:8080/"
        },
        "outputId": "e65b058b-dd84-4c19-c8b9-2683de50e15d"
      },
      "source": [
        "# Obtener todo el arreglo pero en órden inverso\n",
        "vector1[::-1]"
      ],
      "execution_count": null,
      "outputs": [
        {
          "output_type": "execute_result",
          "data": {
            "text/plain": [
              "array([10,  9,  8,  7,  6,  5,  4,  3,  2,  1,  0])"
            ]
          },
          "metadata": {
            "tags": []
          },
          "execution_count": 77
        }
      ]
    },
    {
      "cell_type": "markdown",
      "metadata": {
        "id": "4sREYsnLitAY"
      },
      "source": [
        "### Arreglos bi-dimensionales (Matrices)"
      ]
    },
    {
      "cell_type": "code",
      "metadata": {
        "id": "nVATzeKMitAY",
        "colab": {
          "base_uri": "https://localhost:8080/"
        },
        "outputId": "e1ef0448-93e9-4870-8e29-1b07e6654980"
      },
      "source": [
        "# Inicialización\n",
        "arr2d = np.zeros((5,5))\n",
        "for i in range(5):\n",
        "    arr2d[i] = i\n",
        "    \n",
        "arr2d"
      ],
      "execution_count": null,
      "outputs": [
        {
          "output_type": "execute_result",
          "data": {
            "text/plain": [
              "array([[0., 0., 0., 0., 0.],\n",
              "       [1., 1., 1., 1., 1.],\n",
              "       [2., 2., 2., 2., 2.],\n",
              "       [3., 3., 3., 3., 3.],\n",
              "       [4., 4., 4., 4., 4.]])"
            ]
          },
          "metadata": {
            "tags": []
          },
          "execution_count": 78
        }
      ]
    },
    {
      "cell_type": "code",
      "metadata": {
        "id": "2U6NHk8MitAb",
        "colab": {
          "base_uri": "https://localhost:8080/"
        },
        "outputId": "d1b867ef-8dd3-4cc0-a8e7-42e7c1056bcc"
      },
      "source": [
        "matriz_a = np.array([[1,3],[2,8]])\n",
        "print(matriz_a)"
      ],
      "execution_count": null,
      "outputs": [
        {
          "output_type": "stream",
          "text": [
            "[[1 3]\n",
            " [2 8]]\n"
          ],
          "name": "stdout"
        }
      ]
    },
    {
      "cell_type": "code",
      "metadata": {
        "id": "weqCHKbEitAf",
        "colab": {
          "base_uri": "https://localhost:8080/"
        },
        "outputId": "38ed0551-1975-4256-f4df-9ea033205840"
      },
      "source": [
        "#Obtener el elemento de la primera fila y primera columna\n",
        "print(matriz_a[0,0])"
      ],
      "execution_count": null,
      "outputs": [
        {
          "output_type": "stream",
          "text": [
            "1\n"
          ],
          "name": "stdout"
        }
      ]
    },
    {
      "cell_type": "code",
      "metadata": {
        "id": "RBYSOPJkitAi",
        "colab": {
          "base_uri": "https://localhost:8080/"
        },
        "outputId": "6eee61bd-fb4f-41d6-aee1-89f0ce136517"
      },
      "source": [
        "#Obtener el elemento de la última fila y última columna\n",
        "print(matriz_a[1][1])"
      ],
      "execution_count": null,
      "outputs": [
        {
          "output_type": "stream",
          "text": [
            "8\n"
          ],
          "name": "stdout"
        }
      ]
    },
    {
      "cell_type": "code",
      "metadata": {
        "id": "1NaXh_bBitAk",
        "colab": {
          "base_uri": "https://localhost:8080/"
        },
        "outputId": "9327085e-8c17-49b7-a656-3ffcdfdcabaf"
      },
      "source": [
        "# Tamaño de la fila 1\n",
        "arr_length = arr2d.shape[1]\n",
        "\n",
        "arr_length"
      ],
      "execution_count": null,
      "outputs": [
        {
          "output_type": "execute_result",
          "data": {
            "text/plain": [
              "5"
            ]
          },
          "metadata": {
            "tags": []
          },
          "execution_count": 82
        }
      ]
    },
    {
      "cell_type": "code",
      "metadata": {
        "id": "1xltvX5JitAo",
        "colab": {
          "base_uri": "https://localhost:8080/"
        },
        "outputId": "6825dea2-a2a3-4148-e1f6-b362967bfd77"
      },
      "source": [
        "#Obtener todos los elementos de la primera fila\n",
        "print(matriz_a[0,:])"
      ],
      "execution_count": null,
      "outputs": [
        {
          "output_type": "stream",
          "text": [
            "[1 3]\n"
          ],
          "name": "stdout"
        }
      ]
    },
    {
      "cell_type": "code",
      "metadata": {
        "id": "p5o3j5HMitAs",
        "colab": {
          "base_uri": "https://localhost:8080/"
        },
        "outputId": "064760d5-2e32-4cb4-d422-3e8db1926ebc"
      },
      "source": [
        "#Obtener todos los elementos de la primera columna\n",
        "print(matriz_a[:,0])"
      ],
      "execution_count": null,
      "outputs": [
        {
          "output_type": "stream",
          "text": [
            "[1 2]\n"
          ],
          "name": "stdout"
        }
      ]
    },
    {
      "cell_type": "code",
      "metadata": {
        "id": "g5CSNNL_itAv",
        "colab": {
          "base_uri": "https://localhost:8080/"
        },
        "outputId": "fa55ed8f-86a9-4053-c796-0847479cbff1"
      },
      "source": [
        "# Traer la matriz 2x2 de la esquina superior izquierda\n",
        "arr2d[:2,:2]"
      ],
      "execution_count": null,
      "outputs": [
        {
          "output_type": "execute_result",
          "data": {
            "text/plain": [
              "array([[0., 0.],\n",
              "       [1., 1.]])"
            ]
          },
          "metadata": {
            "tags": []
          },
          "execution_count": 88
        }
      ]
    },
    {
      "cell_type": "markdown",
      "metadata": {
        "id": "k_57GoKXitAx"
      },
      "source": [
        "### Arreglo n-dimensionales (Tensores)\n",
        "\n",
        "\n",
        "El formato general es **arr_nd[d1][d2][dn]** o **arr_2d[d1,d2,dn]**. \n",
        "\n",
        "Por claridad, se recomienda la notación con coma."
      ]
    },
    {
      "cell_type": "code",
      "metadata": {
        "id": "mrIF5fX3itAx",
        "colab": {
          "base_uri": "https://localhost:8080/",
          "height": 104
        },
        "outputId": "34691c7f-afa0-4dc9-9492-d1aa7cc08708"
      },
      "source": [
        "arr_3d = np.array(([[[5,10,],[20,25]],[[7,21],[7,28]]]))\n",
        "print(arr_3d)"
      ],
      "execution_count": null,
      "outputs": [
        {
          "output_type": "stream",
          "text": [
            "[[[ 5 10]\n",
            "  [20 25]]\n",
            "\n",
            " [[ 7 21]\n",
            "  [ 7 28]]]\n"
          ],
          "name": "stdout"
        }
      ]
    },
    {
      "cell_type": "code",
      "metadata": {
        "id": "ZywveLiFitAz",
        "colab": {
          "base_uri": "https://localhost:8080/",
          "height": 35
        },
        "outputId": "b8307a0e-3cf3-4ff2-c739-78ee270d08fa"
      },
      "source": [
        "# Accediendo a un elemento particular\n",
        "arr_3d[0,0,0]"
      ],
      "execution_count": null,
      "outputs": [
        {
          "output_type": "execute_result",
          "data": {
            "text/plain": [
              "5"
            ]
          },
          "metadata": {
            "tags": []
          },
          "execution_count": 94
        }
      ]
    },
    {
      "cell_type": "code",
      "metadata": {
        "id": "4dlWAlVlitA0",
        "colab": {
          "base_uri": "https://localhost:8080/",
          "height": 52
        },
        "outputId": "a54fa64f-ce64-4e93-d498-e59d30c11014"
      },
      "source": [
        "# Tomar el primer elemento de la primera dimesión (Es decir una matriz)\n",
        "arr_3d[0,:,:]\n"
      ],
      "execution_count": null,
      "outputs": [
        {
          "output_type": "execute_result",
          "data": {
            "text/plain": [
              "array([[ 5, 10],\n",
              "       [20, 25]])"
            ]
          },
          "metadata": {
            "tags": []
          },
          "execution_count": 95
        }
      ]
    },
    {
      "cell_type": "code",
      "metadata": {
        "id": "6Q2OgeEuitA4",
        "colab": {
          "base_uri": "https://localhost:8080/",
          "height": 52
        },
        "outputId": "d8a034f5-ec63-4eed-9acb-de857ac73a7b"
      },
      "source": [
        "# Traer la primera fila de las 2 submatrices\n",
        "arr_3d[:,0,:]"
      ],
      "execution_count": null,
      "outputs": [
        {
          "output_type": "execute_result",
          "data": {
            "text/plain": [
              "array([[ 5, 10],\n",
              "       [ 7, 21]])"
            ]
          },
          "metadata": {
            "tags": []
          },
          "execution_count": 96
        }
      ]
    },
    {
      "cell_type": "code",
      "metadata": {
        "id": "Go-FGQpvitA6",
        "colab": {
          "base_uri": "https://localhost:8080/",
          "height": 52
        },
        "outputId": "4f628e98-cb32-4eab-b61b-9cecfe4c0059"
      },
      "source": [
        "# Traer la última fila de las 2 submatrices\n",
        "arr_3d[:,-1,:]"
      ],
      "execution_count": null,
      "outputs": [
        {
          "output_type": "execute_result",
          "data": {
            "text/plain": [
              "array([[20, 25],\n",
              "       [ 7, 28]])"
            ]
          },
          "metadata": {
            "tags": []
          },
          "execution_count": 97
        }
      ]
    },
    {
      "cell_type": "markdown",
      "metadata": {
        "id": "hUIQ1HQpiyhJ"
      },
      "source": [
        "## Broadcasting e Indexado Elegante"
      ]
    },
    {
      "cell_type": "markdown",
      "metadata": {
        "id": "rW_cKOm8iyhM"
      },
      "source": [
        "### Broadcasting\n",
        "\n",
        "Los arreglos de Numpy se diferencian de las listas de Python porque tienen la habilidad de hacer \"broadcast\":"
      ]
    },
    {
      "cell_type": "code",
      "metadata": {
        "id": "f9-fdnEPiyhN",
        "colab": {
          "base_uri": "https://localhost:8080/",
          "height": 87
        },
        "outputId": "bc423e17-0c08-401a-fce8-beb666da0e40"
      },
      "source": [
        "c = np.zeros((3, 3))\n",
        "print(c)\n",
        "print(c.shape)"
      ],
      "execution_count": null,
      "outputs": [
        {
          "output_type": "stream",
          "text": [
            "[[0. 0. 0.]\n",
            " [0. 0. 0.]\n",
            " [0. 0. 0.]]\n",
            "(3, 3)\n"
          ],
          "name": "stdout"
        }
      ]
    },
    {
      "cell_type": "code",
      "metadata": {
        "id": "oM3iEd52iyhZ",
        "colab": {
          "base_uri": "https://localhost:8080/",
          "height": 52
        },
        "outputId": "0b7f31fc-98bf-4204-caff-70f9cd8921c1"
      },
      "source": [
        "n = np.array([1, 2, 3])\n",
        "print(n)\n",
        "print(n.shape)"
      ],
      "execution_count": null,
      "outputs": [
        {
          "output_type": "stream",
          "text": [
            "[1 2 3]\n",
            "(3,)\n"
          ],
          "name": "stdout"
        }
      ]
    },
    {
      "cell_type": "code",
      "metadata": {
        "id": "owJtCODYiyhg",
        "colab": {
          "base_uri": "https://localhost:8080/",
          "height": 69
        },
        "outputId": "b54faa06-790b-4343-c3fe-2b4b06dc27fd"
      },
      "source": [
        "t = n + c  # Se expande la primera dimensión de n\n",
        "print(t)"
      ],
      "execution_count": null,
      "outputs": [
        {
          "output_type": "stream",
          "text": [
            "[[1. 2. 3.]\n",
            " [1. 2. 3.]\n",
            " [1. 2. 3.]]\n"
          ],
          "name": "stdout"
        }
      ]
    },
    {
      "cell_type": "code",
      "metadata": {
        "id": "3V_1wb9Oiyhm",
        "colab": {
          "base_uri": "https://localhost:8080/",
          "height": 35
        },
        "outputId": "48d1943b-f316-4bbf-bc97-ca34c496174b"
      },
      "source": [
        "arr = np.arange(1,11)\n",
        "print(arr)\n",
        "\n"
      ],
      "execution_count": null,
      "outputs": [
        {
          "output_type": "stream",
          "text": [
            "[ 1  2  3  4  5  6  7  8  9 10]\n"
          ],
          "name": "stdout"
        }
      ]
    },
    {
      "cell_type": "code",
      "metadata": {
        "id": "vAk0Nofm5uyk",
        "colab": {
          "base_uri": "https://localhost:8080/",
          "height": 35
        },
        "outputId": "5dc48561-e0b6-4bf7-ac87-b8591e964f05"
      },
      "source": [
        "# Asignar un valor dado a un rango de índices en un arreglo (Broadcasting)\n",
        "arr[0:5]=100\n",
        "\n",
        "# Resultado\n",
        "arr"
      ],
      "execution_count": null,
      "outputs": [
        {
          "output_type": "execute_result",
          "data": {
            "text/plain": [
              "array([100, 100, 100, 100, 100,   6,   7,   8,   9,  10])"
            ]
          },
          "metadata": {
            "tags": []
          },
          "execution_count": 103
        }
      ]
    },
    {
      "cell_type": "code",
      "metadata": {
        "id": "aVU7jK-6iyht",
        "colab": {
          "base_uri": "https://localhost:8080/",
          "height": 35
        },
        "outputId": "f1fcd23a-c1e3-4842-ea51-7f7f8d45dc13"
      },
      "source": [
        "arr[0::2]=-1\n",
        "\n",
        "arr"
      ],
      "execution_count": null,
      "outputs": [
        {
          "output_type": "execute_result",
          "data": {
            "text/plain": [
              "array([ -1, 100,  -1, 100,  -1,   6,  -1,   8,  -1,  10])"
            ]
          },
          "metadata": {
            "tags": []
          },
          "execution_count": 104
        }
      ]
    },
    {
      "cell_type": "code",
      "metadata": {
        "id": "3hmLNz2Fiyhx",
        "colab": {
          "base_uri": "https://localhost:8080/",
          "height": 35
        },
        "outputId": "c963e587-436b-40f0-89f9-e9dce4bf4fd5"
      },
      "source": [
        "# Recuperar el arreglo anterior\n",
        "arr = np.arange(0,11)\n",
        "\n",
        "# Resultado\n",
        "arr"
      ],
      "execution_count": null,
      "outputs": [
        {
          "output_type": "execute_result",
          "data": {
            "text/plain": [
              "array([ 0,  1,  2,  3,  4,  5,  6,  7,  8,  9, 10])"
            ]
          },
          "metadata": {
            "tags": []
          },
          "execution_count": 105
        }
      ]
    },
    {
      "cell_type": "code",
      "metadata": {
        "id": "w_N1GUpyiyh1",
        "colab": {
          "base_uri": "https://localhost:8080/",
          "height": 35
        },
        "outputId": "26cede4e-da66-4f62-849c-8acbf8dbe152"
      },
      "source": [
        "# Troceado de arreglos\n",
        "trozo_de_arr = arr[0:6]\n",
        "\n",
        "# Resultado\n",
        "trozo_de_arr"
      ],
      "execution_count": null,
      "outputs": [
        {
          "output_type": "execute_result",
          "data": {
            "text/plain": [
              "array([0, 1, 2, 3, 4, 5])"
            ]
          },
          "metadata": {
            "tags": []
          },
          "execution_count": 106
        }
      ]
    },
    {
      "cell_type": "code",
      "metadata": {
        "id": "5OLt_4p0iyh4",
        "colab": {
          "base_uri": "https://localhost:8080/",
          "height": 35
        },
        "outputId": "6c4ce470-a094-4636-819f-ef8eb2093b00"
      },
      "source": [
        "# Cambios \n",
        "trozo_de_arr[:]=99\n",
        "\n",
        "#Show Slice again\n",
        "trozo_de_arr"
      ],
      "execution_count": null,
      "outputs": [
        {
          "output_type": "execute_result",
          "data": {
            "text/plain": [
              "array([99, 99, 99, 99, 99, 99])"
            ]
          },
          "metadata": {
            "tags": []
          },
          "execution_count": 108
        }
      ]
    },
    {
      "cell_type": "markdown",
      "metadata": {
        "id": "cpoCxvpfiyiA"
      },
      "source": [
        "** OJO: los cambios también ocurren en el arreglo original!**"
      ]
    },
    {
      "cell_type": "code",
      "metadata": {
        "id": "9zNSuG-0iyiA",
        "colab": {
          "base_uri": "https://localhost:8080/",
          "height": 35
        },
        "outputId": "7d870e76-c74d-4805-bdb8-542e439d41c9"
      },
      "source": [
        "arr"
      ],
      "execution_count": null,
      "outputs": [
        {
          "output_type": "execute_result",
          "data": {
            "text/plain": [
              "array([99, 99, 99, 99, 99, 99,  6,  7,  8,  9, 10])"
            ]
          },
          "metadata": {
            "tags": []
          },
          "execution_count": 109
        }
      ]
    },
    {
      "cell_type": "markdown",
      "metadata": {
        "id": "Ole3GGnmiyiD"
      },
      "source": [
        "** Los datos no se copian, un \"trozo\" de un arreglo es simplemente una vista del arreglo original! ** Esto sirve para prevenir problemas de memoria!"
      ]
    },
    {
      "cell_type": "code",
      "metadata": {
        "id": "r6wNDNvwiyiE",
        "colab": {
          "base_uri": "https://localhost:8080/",
          "height": 35
        },
        "outputId": "61bc9286-137b-4e0b-d078-b9f049e840d5"
      },
      "source": [
        "# Para obtener una copia, es necesario usar el método copy()\n",
        "copia_arr = arr.copy()\n",
        "\n",
        "copia_arr"
      ],
      "execution_count": null,
      "outputs": [
        {
          "output_type": "execute_result",
          "data": {
            "text/plain": [
              "array([99, 99, 99, 99, 99, 99,  6,  7,  8,  9, 10])"
            ]
          },
          "metadata": {
            "tags": []
          },
          "execution_count": 111
        }
      ]
    },
    {
      "cell_type": "code",
      "metadata": {
        "id": "ihB5a5UGiyiN",
        "colab": {
          "base_uri": "https://localhost:8080/",
          "height": 35
        },
        "outputId": "13b92e46-24e8-49ac-c834-0cd87adbf91c"
      },
      "source": [
        "copia_arr[:] = 100\n",
        "\n",
        "copia_arr"
      ],
      "execution_count": null,
      "outputs": [
        {
          "output_type": "execute_result",
          "data": {
            "text/plain": [
              "array([100, 100, 100, 100, 100, 100, 100, 100, 100, 100, 100])"
            ]
          },
          "metadata": {
            "tags": []
          },
          "execution_count": 112
        }
      ]
    },
    {
      "cell_type": "code",
      "metadata": {
        "id": "4VL_-zsxiyiP",
        "colab": {
          "base_uri": "https://localhost:8080/",
          "height": 35
        },
        "outputId": "54b4c9cf-efdc-4427-fdd5-5765b857eecd"
      },
      "source": [
        "arr"
      ],
      "execution_count": null,
      "outputs": [
        {
          "output_type": "execute_result",
          "data": {
            "text/plain": [
              "array([99, 99, 99, 99, 99, 99,  6,  7,  8,  9, 10])"
            ]
          },
          "metadata": {
            "tags": []
          },
          "execution_count": 113
        }
      ]
    },
    {
      "cell_type": "markdown",
      "metadata": {
        "id": "cy3vybcwiyiV"
      },
      "source": [
        "### \"Indexado elegante\" (fancy indexing)\n",
        "\n",
        "Se permite indexar filas o columnas enteras de una sola vez:"
      ]
    },
    {
      "cell_type": "code",
      "metadata": {
        "id": "YTOg1XjNiyiV",
        "colab": {
          "base_uri": "https://localhost:8080/",
          "height": 35
        },
        "outputId": "86c2f92a-852e-4f02-8964-adc07c46c3bc"
      },
      "source": [
        "arr = np.arange(10,21)\n",
        "arr"
      ],
      "execution_count": null,
      "outputs": [
        {
          "output_type": "execute_result",
          "data": {
            "text/plain": [
              "array([10, 11, 12, 13, 14, 15, 16, 17, 18, 19, 20])"
            ]
          },
          "metadata": {
            "tags": []
          },
          "execution_count": 114
        }
      ]
    },
    {
      "cell_type": "code",
      "metadata": {
        "id": "m3McxxrxiyiY",
        "colab": {
          "base_uri": "https://localhost:8080/",
          "height": 35
        },
        "outputId": "5b282a8a-7f90-4452-e0da-de73b13db3a9"
      },
      "source": [
        "# Obtener elementos también en cualquier orden\n",
        "arr[[7,3,4]]"
      ],
      "execution_count": null,
      "outputs": [
        {
          "output_type": "execute_result",
          "data": {
            "text/plain": [
              "array([17, 13, 14])"
            ]
          },
          "metadata": {
            "tags": []
          },
          "execution_count": 116
        }
      ]
    },
    {
      "cell_type": "code",
      "metadata": {
        "id": "kFGJUXldiyib",
        "colab": {
          "base_uri": "https://localhost:8080/",
          "height": 191
        },
        "outputId": "5fd72d7d-98b9-4d0e-ecdb-d0a18422ee27"
      },
      "source": [
        "# matriz\n",
        "arr2d = np.zeros((10,10))\n",
        "\n",
        "arr2d"
      ],
      "execution_count": null,
      "outputs": [
        {
          "output_type": "execute_result",
          "data": {
            "text/plain": [
              "array([[0., 0., 0., 0., 0., 0., 0., 0., 0., 0.],\n",
              "       [0., 0., 0., 0., 0., 0., 0., 0., 0., 0.],\n",
              "       [0., 0., 0., 0., 0., 0., 0., 0., 0., 0.],\n",
              "       [0., 0., 0., 0., 0., 0., 0., 0., 0., 0.],\n",
              "       [0., 0., 0., 0., 0., 0., 0., 0., 0., 0.],\n",
              "       [0., 0., 0., 0., 0., 0., 0., 0., 0., 0.],\n",
              "       [0., 0., 0., 0., 0., 0., 0., 0., 0., 0.],\n",
              "       [0., 0., 0., 0., 0., 0., 0., 0., 0., 0.],\n",
              "       [0., 0., 0., 0., 0., 0., 0., 0., 0., 0.],\n",
              "       [0., 0., 0., 0., 0., 0., 0., 0., 0., 0.]])"
            ]
          },
          "metadata": {
            "tags": []
          },
          "execution_count": 117
        }
      ]
    },
    {
      "cell_type": "code",
      "metadata": {
        "id": "D8ACQtsqiyid",
        "colab": {
          "base_uri": "https://localhost:8080/",
          "height": 35
        },
        "outputId": "fd01e027-3d39-4206-f744-8b7ce05eb7d9"
      },
      "source": [
        "# Tamaño de la fila 1\n",
        "arr_length = arr2d.shape[1]\n",
        "\n",
        "arr_length"
      ],
      "execution_count": null,
      "outputs": [
        {
          "output_type": "execute_result",
          "data": {
            "text/plain": [
              "10"
            ]
          },
          "metadata": {
            "tags": []
          },
          "execution_count": 118
        }
      ]
    },
    {
      "cell_type": "code",
      "metadata": {
        "id": "iyFR_nU-iyie",
        "colab": {
          "base_uri": "https://localhost:8080/",
          "height": 191
        },
        "outputId": "221affaf-8520-42e2-950b-d93bdd7c85fd"
      },
      "source": [
        "# Inicialización\n",
        "\n",
        "for i in range(arr_length):\n",
        "    arr2d[i] = i\n",
        "    \n",
        "arr2d"
      ],
      "execution_count": null,
      "outputs": [
        {
          "output_type": "execute_result",
          "data": {
            "text/plain": [
              "array([[0., 0., 0., 0., 0., 0., 0., 0., 0., 0.],\n",
              "       [1., 1., 1., 1., 1., 1., 1., 1., 1., 1.],\n",
              "       [2., 2., 2., 2., 2., 2., 2., 2., 2., 2.],\n",
              "       [3., 3., 3., 3., 3., 3., 3., 3., 3., 3.],\n",
              "       [4., 4., 4., 4., 4., 4., 4., 4., 4., 4.],\n",
              "       [5., 5., 5., 5., 5., 5., 5., 5., 5., 5.],\n",
              "       [6., 6., 6., 6., 6., 6., 6., 6., 6., 6.],\n",
              "       [7., 7., 7., 7., 7., 7., 7., 7., 7., 7.],\n",
              "       [8., 8., 8., 8., 8., 8., 8., 8., 8., 8.],\n",
              "       [9., 9., 9., 9., 9., 9., 9., 9., 9., 9.]])"
            ]
          },
          "metadata": {
            "tags": []
          },
          "execution_count": 119
        }
      ]
    },
    {
      "cell_type": "code",
      "metadata": {
        "id": "rVDmQAL4iyig",
        "colab": {
          "base_uri": "https://localhost:8080/",
          "height": 87
        },
        "outputId": "707bb001-e184-4bf4-ddca-04237f92d271"
      },
      "source": [
        "# Obtener elementos de la matriz en cualquier orden\n",
        "arr2d[[6,4,2,7]]"
      ],
      "execution_count": null,
      "outputs": [
        {
          "output_type": "execute_result",
          "data": {
            "text/plain": [
              "array([[6., 6., 6., 6., 6., 6., 6., 6., 6., 6.],\n",
              "       [4., 4., 4., 4., 4., 4., 4., 4., 4., 4.],\n",
              "       [2., 2., 2., 2., 2., 2., 2., 2., 2., 2.],\n",
              "       [7., 7., 7., 7., 7., 7., 7., 7., 7., 7.]])"
            ]
          },
          "metadata": {
            "tags": []
          },
          "execution_count": 121
        }
      ]
    },
    {
      "cell_type": "markdown",
      "metadata": {
        "id": "Ak2XQcC4iyih"
      },
      "source": [
        "## Selección condicional\n"
      ]
    },
    {
      "cell_type": "code",
      "metadata": {
        "id": "HN4L0YRfiyij",
        "colab": {
          "base_uri": "https://localhost:8080/",
          "height": 35
        },
        "outputId": "61cb6d8a-4d0d-4273-9968-c2ad273c5ff4"
      },
      "source": [
        "print(arr)"
      ],
      "execution_count": null,
      "outputs": [
        {
          "output_type": "stream",
          "text": [
            "[10 11 12 13 14 15 16 17 18 19 20]\n"
          ],
          "name": "stdout"
        }
      ]
    },
    {
      "cell_type": "code",
      "metadata": {
        "id": "dqC5uN_liyik",
        "colab": {
          "base_uri": "https://localhost:8080/",
          "height": 35
        },
        "outputId": "eec5969e-482f-4600-e96d-fa3db25e93f4"
      },
      "source": [
        "#Validación elemento a elemento\n",
        "indices_cond = arr > 14\n",
        "print(indices_cond)"
      ],
      "execution_count": null,
      "outputs": [
        {
          "output_type": "stream",
          "text": [
            "[False False False False False  True  True  True  True  True  True]\n"
          ],
          "name": "stdout"
        }
      ]
    },
    {
      "cell_type": "code",
      "metadata": {
        "id": "vleZzsUyiyim",
        "colab": {
          "base_uri": "https://localhost:8080/",
          "height": 35
        },
        "outputId": "45370261-5b32-4080-f007-5a669ebb7fd1"
      },
      "source": [
        "# Seleccion de elementos basados en alguna condición\n",
        "arr[indices_cond]"
      ],
      "execution_count": null,
      "outputs": [
        {
          "output_type": "execute_result",
          "data": {
            "text/plain": [
              "array([15, 16, 17, 18, 19, 20])"
            ]
          },
          "metadata": {
            "tags": []
          },
          "execution_count": 124
        }
      ]
    },
    {
      "cell_type": "code",
      "metadata": {
        "id": "HEfoJ93Ciyip",
        "colab": {
          "base_uri": "https://localhost:8080/",
          "height": 35
        },
        "outputId": "bc592455-3c73-4ef3-a571-c75fad68374a"
      },
      "source": [
        "#Usando condiciones más complejas\n",
        "arr[(arr>12) & (arr<18)]"
      ],
      "execution_count": null,
      "outputs": [
        {
          "output_type": "execute_result",
          "data": {
            "text/plain": [
              "array([13, 14, 15, 16, 17])"
            ]
          },
          "metadata": {
            "tags": []
          },
          "execution_count": 125
        }
      ]
    },
    {
      "cell_type": "code",
      "metadata": {
        "id": "VCTAK520iyir",
        "colab": {
          "base_uri": "https://localhost:8080/",
          "height": 35
        },
        "outputId": "ce615a6c-2272-4e98-8ab0-0c9081a6f9a3"
      },
      "source": [
        "x = 16\n",
        "arr[arr>x]"
      ],
      "execution_count": null,
      "outputs": [
        {
          "output_type": "execute_result",
          "data": {
            "text/plain": [
              "array([17, 18, 19, 20])"
            ]
          },
          "metadata": {
            "tags": []
          },
          "execution_count": 126
        }
      ]
    },
    {
      "cell_type": "markdown",
      "metadata": {
        "id": "ds-q3j8_piW2"
      },
      "source": [
        "# NumPy  - Operaciones\n"
      ]
    },
    {
      "cell_type": "markdown",
      "metadata": {
        "id": "OBKWxg_YpiW4"
      },
      "source": [
        "## Aritméticas\n",
        "\n",
        "Es posible hacer operaciones aritméticas entre arreglos; y también, entre arreglos y escalares. Se usan los operadores aritméticos tradicionales."
      ]
    },
    {
      "cell_type": "markdown",
      "metadata": {
        "id": "F_o5SqRc_ZrL"
      },
      "source": [
        "### Operaciones con vectores"
      ]
    },
    {
      "cell_type": "code",
      "metadata": {
        "id": "zwgUzQrK_tkY",
        "colab": {
          "base_uri": "https://localhost:8080/",
          "height": 35
        },
        "outputId": "e75ac785-52a7-4c79-e18f-e07149dc6f2e"
      },
      "source": [
        "v1 = np.array([2,10,10])\n",
        "print(v1)"
      ],
      "execution_count": null,
      "outputs": [
        {
          "output_type": "stream",
          "text": [
            "[ 2 10 10]\n"
          ],
          "name": "stdout"
        }
      ]
    },
    {
      "cell_type": "code",
      "metadata": {
        "id": "PA31ujju_yjj",
        "colab": {
          "base_uri": "https://localhost:8080/",
          "height": 35
        },
        "outputId": "9105da37-d08e-4a9c-e4c2-970e31e4830b"
      },
      "source": [
        "#Multiplicación vector por escalar\n",
        "print(2*v1)"
      ],
      "execution_count": null,
      "outputs": [
        {
          "output_type": "stream",
          "text": [
            "[ 4 20 20]\n"
          ],
          "name": "stdout"
        }
      ]
    },
    {
      "cell_type": "code",
      "metadata": {
        "id": "dFYypX0m_7QF",
        "colab": {
          "base_uri": "https://localhost:8080/",
          "height": 52
        },
        "outputId": "981609e0-9abd-4fe3-81be-318a78b60d31"
      },
      "source": [
        "#Suma de dos vectores\n",
        "v2 = np.array([1,2,1])\n",
        "print(v1)\n",
        "print(v2)\n"
      ],
      "execution_count": null,
      "outputs": [
        {
          "output_type": "stream",
          "text": [
            "[ 2 10 10]\n",
            "[1 2 1]\n"
          ],
          "name": "stdout"
        }
      ]
    },
    {
      "cell_type": "code",
      "metadata": {
        "id": "1Cd5XXJ0oA31",
        "colab": {
          "base_uri": "https://localhost:8080/",
          "height": 35
        },
        "outputId": "a1e11479-a18e-4208-9644-dd208f2a7aec"
      },
      "source": [
        "# suma\n",
        "print(v1+v2)"
      ],
      "execution_count": null,
      "outputs": [
        {
          "output_type": "stream",
          "text": [
            "[ 3 12 11]\n"
          ],
          "name": "stdout"
        }
      ]
    },
    {
      "cell_type": "code",
      "metadata": {
        "id": "1OMIiWeQoDzt",
        "colab": {
          "base_uri": "https://localhost:8080/",
          "height": 35
        },
        "outputId": "ba5f93e0-c074-4bd6-9732-5b1914c059df"
      },
      "source": [
        "# resta\n",
        "print(v1-v2)"
      ],
      "execution_count": null,
      "outputs": [
        {
          "output_type": "stream",
          "text": [
            "[1 8 9]\n"
          ],
          "name": "stdout"
        }
      ]
    },
    {
      "cell_type": "code",
      "metadata": {
        "id": "EGYWw08ZoHx9",
        "colab": {
          "base_uri": "https://localhost:8080/",
          "height": 35
        },
        "outputId": "c4251944-4d53-4232-c7d9-a875f4563789"
      },
      "source": [
        "# multiplicación\n",
        "print(v1*v2)"
      ],
      "execution_count": null,
      "outputs": [
        {
          "output_type": "stream",
          "text": [
            "[ 2 20 10]\n"
          ],
          "name": "stdout"
        }
      ]
    },
    {
      "cell_type": "code",
      "metadata": {
        "id": "6_tQmFR8oKYd",
        "colab": {
          "base_uri": "https://localhost:8080/",
          "height": 35
        },
        "outputId": "220a828f-6a56-4475-9fe3-31475a90c5f3"
      },
      "source": [
        "# división\n",
        "print(v1/v2)"
      ],
      "execution_count": null,
      "outputs": [
        {
          "output_type": "stream",
          "text": [
            "[ 2.  5. 10.]\n"
          ],
          "name": "stdout"
        }
      ]
    },
    {
      "cell_type": "code",
      "metadata": {
        "id": "ofTYY41tpiW5",
        "colab": {
          "base_uri": "https://localhost:8080/",
          "height": 35
        },
        "outputId": "de316be1-b452-45c0-b99a-c3651f854fd4"
      },
      "source": [
        "# Creamos arr para el siguiente ejemplo\n",
        "arr = np.arange(0,10)\n",
        "\n",
        "arr"
      ],
      "execution_count": null,
      "outputs": [
        {
          "output_type": "execute_result",
          "data": {
            "text/plain": [
              "array([0, 1, 2, 3, 4, 5, 6, 7, 8, 9])"
            ]
          },
          "metadata": {
            "tags": []
          },
          "execution_count": 134
        }
      ]
    },
    {
      "cell_type": "code",
      "metadata": {
        "id": "JInExBXUpiXE",
        "colab": {
          "base_uri": "https://localhost:8080/",
          "height": 184
        },
        "outputId": "8b4425aa-0aa7-494c-ef79-da26bda9f77e"
      },
      "source": [
        "# En Python, la siguiente división retorna un error\n",
        "1/0"
      ],
      "execution_count": null,
      "outputs": [
        {
          "output_type": "error",
          "ename": "ZeroDivisionError",
          "evalue": "ignored",
          "traceback": [
            "\u001b[0;31m---------------------------------------------------------------------------\u001b[0m",
            "\u001b[0;31mZeroDivisionError\u001b[0m                         Traceback (most recent call last)",
            "\u001b[0;32m<ipython-input-135-ae3231269596>\u001b[0m in \u001b[0;36m<module>\u001b[0;34m()\u001b[0m\n\u001b[1;32m      1\u001b[0m \u001b[0;31m# En Python, la siguiente división retorna un error\u001b[0m\u001b[0;34m\u001b[0m\u001b[0;34m\u001b[0m\u001b[0;34m\u001b[0m\u001b[0m\n\u001b[0;32m----> 2\u001b[0;31m \u001b[0;36m1\u001b[0m\u001b[0;34m/\u001b[0m\u001b[0;36m0\u001b[0m\u001b[0;34m\u001b[0m\u001b[0;34m\u001b[0m\u001b[0m\n\u001b[0m",
            "\u001b[0;31mZeroDivisionError\u001b[0m: division by zero"
          ]
        }
      ]
    },
    {
      "cell_type": "code",
      "metadata": {
        "id": "t6MpRd-jpiXG",
        "colab": {
          "base_uri": "https://localhost:8080/",
          "height": 89
        },
        "outputId": "f805fbd6-ef8a-4a97-8ff4-1b241f37b797"
      },
      "source": [
        "# Sin embargo, en NumPy si dividimos arr/arr, obtendremos un Warning de división por cero, pero no se considera como un error! \n",
        "# Se reemplaza por 'NaN' (Not a Number)\n",
        "\n",
        "arr/arr"
      ],
      "execution_count": null,
      "outputs": [
        {
          "output_type": "stream",
          "text": [
            "/usr/local/lib/python3.6/dist-packages/ipykernel_launcher.py:4: RuntimeWarning: invalid value encountered in true_divide\n",
            "  after removing the cwd from sys.path.\n"
          ],
          "name": "stderr"
        },
        {
          "output_type": "execute_result",
          "data": {
            "text/plain": [
              "array([nan,  1.,  1.,  1.,  1.,  1.,  1.,  1.,  1.,  1.])"
            ]
          },
          "metadata": {
            "tags": []
          },
          "execution_count": 136
        }
      ]
    },
    {
      "cell_type": "code",
      "metadata": {
        "id": "tbuxJbhgpiXI",
        "colab": {
          "base_uri": "https://localhost:8080/",
          "height": 107
        },
        "outputId": "bb27b158-ec6e-4f0f-9510-e6ba09eb7deb"
      },
      "source": [
        "# 1/arr también produce un warning, pero no un error. En la división 1/0 se obtiene 'inf' (infinito)\n",
        "1/arr"
      ],
      "execution_count": null,
      "outputs": [
        {
          "output_type": "stream",
          "text": [
            "/usr/local/lib/python3.6/dist-packages/ipykernel_launcher.py:2: RuntimeWarning: divide by zero encountered in true_divide\n",
            "  \n"
          ],
          "name": "stderr"
        },
        {
          "output_type": "execute_result",
          "data": {
            "text/plain": [
              "array([       inf, 1.        , 0.5       , 0.33333333, 0.25      ,\n",
              "       0.2       , 0.16666667, 0.14285714, 0.125     , 0.11111111])"
            ]
          },
          "metadata": {
            "tags": []
          },
          "execution_count": 137
        }
      ]
    },
    {
      "cell_type": "code",
      "metadata": {
        "id": "cue2HK8DpiXL",
        "colab": {
          "base_uri": "https://localhost:8080/",
          "height": 35
        },
        "outputId": "39a4433d-14fd-41fa-a3f1-4126a83b1a54"
      },
      "source": [
        "# Potencia\n",
        "arr**3"
      ],
      "execution_count": null,
      "outputs": [
        {
          "output_type": "execute_result",
          "data": {
            "text/plain": [
              "array([  0,   1,   8,  27,  64, 125, 216, 343, 512, 729])"
            ]
          },
          "metadata": {
            "tags": []
          },
          "execution_count": 138
        }
      ]
    },
    {
      "cell_type": "markdown",
      "metadata": {
        "id": "7ver-KdpwPX5"
      },
      "source": [
        "#### Diferencia con las listas de Python "
      ]
    },
    {
      "cell_type": "code",
      "metadata": {
        "id": "X9Sq_-rxwPX3"
      },
      "source": [
        "# Listas\n",
        "lista = [1, 2] \n",
        "lista2 = [3, 4]"
      ],
      "execution_count": null,
      "outputs": []
    },
    {
      "cell_type": "code",
      "metadata": {
        "id": "L6pQ-Y3DwPXz",
        "colab": {
          "base_uri": "https://localhost:8080/",
          "height": 35
        },
        "outputId": "13214a13-c068-4b85-9641-9fa38a9aa00c"
      },
      "source": [
        "lista + lista2"
      ],
      "execution_count": null,
      "outputs": [
        {
          "output_type": "execute_result",
          "data": {
            "text/plain": [
              "[1, 2, 3, 4]"
            ]
          },
          "metadata": {
            "tags": []
          },
          "execution_count": 141
        }
      ]
    },
    {
      "cell_type": "code",
      "metadata": {
        "id": "36I3E6m_wPXw",
        "colab": {
          "base_uri": "https://localhost:8080/",
          "height": 35
        },
        "outputId": "cdac9b06-dc76-4a2d-864c-712900ab66b1"
      },
      "source": [
        "lista*5"
      ],
      "execution_count": null,
      "outputs": [
        {
          "output_type": "execute_result",
          "data": {
            "text/plain": [
              "[1, 2, 1, 2, 1, 2, 1, 2, 1, 2]"
            ]
          },
          "metadata": {
            "tags": []
          },
          "execution_count": 142
        }
      ]
    },
    {
      "cell_type": "markdown",
      "metadata": {
        "id": "0aCJPGWqAbLg"
      },
      "source": [
        " ### Operaciones con Matrices"
      ]
    },
    {
      "cell_type": "markdown",
      "metadata": {
        "id": "nJNoWzOC9LVc"
      },
      "source": [
        "#### Suma/Resta de matrices"
      ]
    },
    {
      "cell_type": "code",
      "metadata": {
        "id": "IAnBi1nMARBd",
        "colab": {
          "base_uri": "https://localhost:8080/",
          "height": 104
        },
        "outputId": "65309fb0-689c-4723-f74d-9d59f2131f73"
      },
      "source": [
        "a = np.array([[1,1,1], [2,2,2]]) # arreglo 2 x 3\n",
        "\n",
        "b = np.array([[0, 1, 2], [3, 4, 5]]) # arreglo 2 x 3\n",
        "\n",
        "print(a)\n",
        "print()\n",
        "print(b)"
      ],
      "execution_count": null,
      "outputs": [
        {
          "output_type": "stream",
          "text": [
            "[[1 1 1]\n",
            " [2 2 2]]\n",
            "\n",
            "[[0 1 2]\n",
            " [3 4 5]]\n"
          ],
          "name": "stdout"
        }
      ]
    },
    {
      "cell_type": "code",
      "metadata": {
        "id": "iIcXDnDX9ARE",
        "colab": {
          "base_uri": "https://localhost:8080/",
          "height": 52
        },
        "outputId": "897649ee-b0df-4112-ae84-ca5e7303e0d5"
      },
      "source": [
        "print(a+b)"
      ],
      "execution_count": null,
      "outputs": [
        {
          "output_type": "stream",
          "text": [
            "[[1 2 3]\n",
            " [5 6 7]]\n"
          ],
          "name": "stdout"
        }
      ]
    },
    {
      "cell_type": "code",
      "metadata": {
        "id": "ns02533QpiW8",
        "colab": {
          "base_uri": "https://localhost:8080/",
          "height": 52
        },
        "outputId": "3852df00-6f34-445a-9162-639d14d5a93a"
      },
      "source": [
        "print(a-b)"
      ],
      "execution_count": null,
      "outputs": [
        {
          "output_type": "stream",
          "text": [
            "[[ 1  0 -1]\n",
            " [-1 -2 -3]]\n"
          ],
          "name": "stdout"
        }
      ]
    },
    {
      "cell_type": "markdown",
      "metadata": {
        "id": "to_MVU17A1e7"
      },
      "source": [
        "#### Multiplicación de Matrices"
      ]
    },
    {
      "cell_type": "code",
      "metadata": {
        "id": "9zktHHveA38d",
        "colab": {
          "base_uri": "https://localhost:8080/",
          "height": 104
        },
        "outputId": "c4bc26a3-de67-4b9e-af6c-6bd7a08cd67a"
      },
      "source": [
        "a = np.array([[1, 0], [2, -1]])\n",
        "print(a)\n",
        "print()\n",
        "b = np.array([[1, 1], [2, 2]])\n",
        "print(b)\n"
      ],
      "execution_count": null,
      "outputs": [
        {
          "output_type": "stream",
          "text": [
            "[[ 1  0]\n",
            " [ 2 -1]]\n",
            "\n",
            "[[1 1]\n",
            " [2 2]]\n"
          ],
          "name": "stdout"
        }
      ]
    },
    {
      "cell_type": "code",
      "metadata": {
        "id": "Y3oOEDIzsKq4",
        "colab": {
          "base_uri": "https://localhost:8080/",
          "height": 52
        },
        "outputId": "a779b45a-9a2c-4b13-ea45-6960ab32ee0a"
      },
      "source": [
        "# Para el producto punto se usa dot()\n",
        "print(np.dot(a, b))"
      ],
      "execution_count": null,
      "outputs": [
        {
          "output_type": "stream",
          "text": [
            "[[1 1]\n",
            " [0 0]]\n"
          ],
          "name": "stdout"
        }
      ]
    },
    {
      "cell_type": "code",
      "metadata": {
        "id": "74CqD9AiBwJl",
        "colab": {
          "base_uri": "https://localhost:8080/",
          "height": 51
        },
        "outputId": "9a13f91e-9089-4869-f186-0243014987e8"
      },
      "source": [
        "#Producto entre la misma matriz\n",
        "print(np.dot(a, a))"
      ],
      "execution_count": null,
      "outputs": [
        {
          "output_type": "stream",
          "text": [
            "[[1 0]\n",
            " [0 1]]\n"
          ],
          "name": "stdout"
        }
      ]
    },
    {
      "cell_type": "markdown",
      "metadata": {
        "id": "AeSFa4tf9kwY"
      },
      "source": [
        "#### Multiplicación (elemento a elemento) entre matrices"
      ]
    },
    {
      "cell_type": "code",
      "metadata": {
        "id": "KIYxuJrS9sWs",
        "colab": {
          "base_uri": "https://localhost:8080/",
          "height": 52
        },
        "outputId": "d0f7d59a-30c6-4473-c002-de30eb89a308"
      },
      "source": [
        "# El operador * multiplica los elementos uno a uno (NO es multiplicación matricial)\n",
        "print(a*b)"
      ],
      "execution_count": null,
      "outputs": [
        {
          "output_type": "stream",
          "text": [
            "[[ 1  0]\n",
            " [ 4 -2]]\n"
          ],
          "name": "stdout"
        }
      ]
    },
    {
      "cell_type": "code",
      "metadata": {
        "id": "jVQqJLOI-PZ5",
        "colab": {
          "base_uri": "https://localhost:8080/",
          "height": 52
        },
        "outputId": "9fdd6e85-12e0-40bd-9c0a-f620b3161a50"
      },
      "source": [
        "matriz_2x3 = np.ones((2,3))\n",
        "print(matriz_2x3)"
      ],
      "execution_count": null,
      "outputs": [
        {
          "output_type": "stream",
          "text": [
            "[[1. 1. 1.]\n",
            " [1. 1. 1.]]\n"
          ],
          "name": "stdout"
        }
      ]
    },
    {
      "cell_type": "code",
      "metadata": {
        "id": "XAlabmJfpiW-",
        "colab": {
          "base_uri": "https://localhost:8080/",
          "height": 184
        },
        "outputId": "76bd18a6-1913-47d6-a2eb-70e5f9020938"
      },
      "source": [
        "print(a/matriz_2x3)\n",
        "# En Python, esta división retorna un error porque no tienen las mismas dimensiones"
      ],
      "execution_count": null,
      "outputs": [
        {
          "output_type": "error",
          "ename": "ValueError",
          "evalue": "ignored",
          "traceback": [
            "\u001b[0;31m---------------------------------------------------------------------------\u001b[0m",
            "\u001b[0;31mValueError\u001b[0m                                Traceback (most recent call last)",
            "\u001b[0;32m<ipython-input-154-9520a76cab48>\u001b[0m in \u001b[0;36m<module>\u001b[0;34m()\u001b[0m\n\u001b[0;32m----> 1\u001b[0;31m \u001b[0mprint\u001b[0m\u001b[0;34m(\u001b[0m\u001b[0ma\u001b[0m\u001b[0;34m/\u001b[0m\u001b[0mmatriz_2x3\u001b[0m\u001b[0;34m)\u001b[0m\u001b[0;34m\u001b[0m\u001b[0;34m\u001b[0m\u001b[0m\n\u001b[0m\u001b[1;32m      2\u001b[0m \u001b[0;31m# En Python, esta división retorna un error porque no tienen las mismas dimensiones\u001b[0m\u001b[0;34m\u001b[0m\u001b[0;34m\u001b[0m\u001b[0;34m\u001b[0m\u001b[0m\n",
            "\u001b[0;31mValueError\u001b[0m: operands could not be broadcast together with shapes (2,2) (2,3) "
          ]
        }
      ]
    },
    {
      "cell_type": "markdown",
      "metadata": {
        "id": "BcR2bjGSrvHp"
      },
      "source": [
        "### Otras operaciones\n"
      ]
    },
    {
      "cell_type": "code",
      "metadata": {
        "id": "v0DtId1jwQk3",
        "colab": {
          "base_uri": "https://localhost:8080/",
          "height": 52
        },
        "outputId": "a7aadf4c-ebc8-4450-e655-dafaed202360"
      },
      "source": [
        "a = np.array([[0, 1, 2], [3, 4, 5]]) # arreglo 2 x 3\n",
        "a"
      ],
      "execution_count": null,
      "outputs": [
        {
          "output_type": "execute_result",
          "data": {
            "text/plain": [
              "array([[0, 1, 2],\n",
              "       [3, 4, 5]])"
            ]
          },
          "metadata": {
            "tags": []
          },
          "execution_count": 155
        }
      ]
    },
    {
      "cell_type": "code",
      "metadata": {
        "id": "wTryKsA3piXO",
        "colab": {
          "base_uri": "https://localhost:8080/",
          "height": 69
        },
        "outputId": "39ae1a3b-ac3d-4d94-9f43-ea7a4d6702a8"
      },
      "source": [
        "a.transpose()"
      ],
      "execution_count": null,
      "outputs": [
        {
          "output_type": "execute_result",
          "data": {
            "text/plain": [
              "array([[0, 3],\n",
              "       [1, 4],\n",
              "       [2, 5]])"
            ]
          },
          "metadata": {
            "tags": []
          },
          "execution_count": 156
        }
      ]
    },
    {
      "cell_type": "code",
      "metadata": {
        "id": "Q17afEPkw8iA",
        "colab": {
          "base_uri": "https://localhost:8080/",
          "height": 52
        },
        "outputId": "f6a19794-3408-4836-f225-550013ba7d66"
      },
      "source": [
        "a"
      ],
      "execution_count": null,
      "outputs": [
        {
          "output_type": "execute_result",
          "data": {
            "text/plain": [
              "array([[0, 1, 2],\n",
              "       [3, 4, 5]])"
            ]
          },
          "metadata": {
            "tags": []
          },
          "execution_count": 157
        }
      ]
    },
    {
      "cell_type": "code",
      "metadata": {
        "id": "tVVx4s8UwvvQ",
        "colab": {
          "base_uri": "https://localhost:8080/",
          "height": 35
        },
        "outputId": "b315cec9-5c60-47b9-b787-fd3149b7d032"
      },
      "source": [
        "a.sum()"
      ],
      "execution_count": null,
      "outputs": [
        {
          "output_type": "execute_result",
          "data": {
            "text/plain": [
              "15"
            ]
          },
          "metadata": {
            "tags": []
          },
          "execution_count": 158
        }
      ]
    },
    {
      "cell_type": "code",
      "metadata": {
        "id": "ihOnbDedwxP1",
        "colab": {
          "base_uri": "https://localhost:8080/",
          "height": 35
        },
        "outputId": "706ebccb-e02f-42d4-ed3d-63de84f591b9"
      },
      "source": [
        "a.sum(axis=1)"
      ],
      "execution_count": null,
      "outputs": [
        {
          "output_type": "execute_result",
          "data": {
            "text/plain": [
              "array([ 3, 12])"
            ]
          },
          "metadata": {
            "tags": []
          },
          "execution_count": 159
        }
      ]
    },
    {
      "cell_type": "code",
      "metadata": {
        "id": "NmlpbUnxxAO4",
        "colab": {
          "base_uri": "https://localhost:8080/",
          "height": 35
        },
        "outputId": "287be521-0778-432c-cf7d-7a2e140e6f57"
      },
      "source": [
        "a.mean(axis=1)"
      ],
      "execution_count": null,
      "outputs": [
        {
          "output_type": "execute_result",
          "data": {
            "text/plain": [
              "array([1., 4.])"
            ]
          },
          "metadata": {
            "tags": []
          },
          "execution_count": 160
        }
      ]
    },
    {
      "cell_type": "code",
      "metadata": {
        "id": "o_YKDd_gxNko",
        "colab": {
          "base_uri": "https://localhost:8080/",
          "height": 35
        },
        "outputId": "97159fd1-f982-401e-e497-363cfacec740"
      },
      "source": [
        "a.std()"
      ],
      "execution_count": null,
      "outputs": [
        {
          "output_type": "execute_result",
          "data": {
            "text/plain": [
              "1.707825127659933"
            ]
          },
          "metadata": {
            "tags": []
          },
          "execution_count": 161
        }
      ]
    },
    {
      "cell_type": "markdown",
      "metadata": {
        "id": "e6eMn6hyGGYM"
      },
      "source": [
        "# NumPy  - Funciones\n",
        "\n",
        "* Funciones Universales\n",
        "* Iterando sobre los arreglos"
      ]
    },
    {
      "cell_type": "markdown",
      "metadata": {
        "id": "8FocQxIXpiXM"
      },
      "source": [
        "## Funciones Universales con Arreglos\n",
        "\n",
        "Numpy viene con muchas [funciones universales para arreglos](http://docs.scipy.org/doc/numpy/reference/ufuncs.html), las cuales son operaciones matemáticas que se pueden usar para efectuar una operación sobre el arreglo. Por ejemplo:"
      ]
    },
    {
      "cell_type": "markdown",
      "metadata": {
        "id": "axychBbFhveL"
      },
      "source": [
        "### Cálculos sobre el arreglo"
      ]
    },
    {
      "cell_type": "code",
      "metadata": {
        "id": "T7GGk6cjcvWY",
        "colab": {
          "base_uri": "https://localhost:8080/",
          "height": 35
        },
        "outputId": "d84fb51a-5967-4b23-d952-573a0bc4b42f"
      },
      "source": [
        "arr = np.array([2,6,1,10])\n",
        "arr"
      ],
      "execution_count": null,
      "outputs": [
        {
          "output_type": "execute_result",
          "data": {
            "text/plain": [
              "array([ 2,  6,  1, 10])"
            ]
          },
          "metadata": {
            "tags": []
          },
          "execution_count": 162
        }
      ]
    },
    {
      "cell_type": "code",
      "metadata": {
        "id": "pD3mGyB2GGZF",
        "colab": {
          "base_uri": "https://localhost:8080/",
          "height": 35
        },
        "outputId": "f0f4aa9a-f27a-446c-9aea-a9ea5c6544a0"
      },
      "source": [
        "# Raíz cuadrada elemento a elemento\n",
        "np.sqrt(arr)"
      ],
      "execution_count": null,
      "outputs": [
        {
          "output_type": "execute_result",
          "data": {
            "text/plain": [
              "array([1.41421356, 2.44948974, 1.        , 3.16227766])"
            ]
          },
          "metadata": {
            "tags": []
          },
          "execution_count": 163
        }
      ]
    },
    {
      "cell_type": "code",
      "metadata": {
        "id": "nsXsWFRUGGZT",
        "colab": {
          "base_uri": "https://localhost:8080/",
          "height": 35
        },
        "outputId": "f1969445-7de8-46fa-86bb-a52ac687d00b"
      },
      "source": [
        "# exponencial (e^)\n",
        "np.exp(arr)"
      ],
      "execution_count": null,
      "outputs": [
        {
          "output_type": "execute_result",
          "data": {
            "text/plain": [
              "array([7.38905610e+00, 4.03428793e+02, 2.71828183e+00, 2.20264658e+04])"
            ]
          },
          "metadata": {
            "tags": []
          },
          "execution_count": 164
        }
      ]
    },
    {
      "cell_type": "code",
      "metadata": {
        "id": "4snxefNbGGZd",
        "colab": {
          "base_uri": "https://localhost:8080/",
          "height": 35
        },
        "outputId": "3a2b267b-1ac2-4fde-8e37-bc16cbdcd164"
      },
      "source": [
        "# Funciones trigonométricas\n",
        "np.sin(arr)"
      ],
      "execution_count": null,
      "outputs": [
        {
          "output_type": "execute_result",
          "data": {
            "text/plain": [
              "array([ 0.90929743, -0.2794155 ,  0.84147098, -0.54402111])"
            ]
          },
          "metadata": {
            "tags": []
          },
          "execution_count": 165
        }
      ]
    },
    {
      "cell_type": "code",
      "metadata": {
        "id": "a0qjmnHfGGZn",
        "colab": {
          "base_uri": "https://localhost:8080/",
          "height": 35
        },
        "outputId": "4e276ec6-ed2b-429e-d250-7eb52a9a244e"
      },
      "source": [
        "# Logaritmo natural\n",
        "np.log(arr)"
      ],
      "execution_count": null,
      "outputs": [
        {
          "output_type": "execute_result",
          "data": {
            "text/plain": [
              "array([0.69314718, 1.79175947, 0.        , 2.30258509])"
            ]
          },
          "metadata": {
            "tags": []
          },
          "execution_count": 166
        }
      ]
    },
    {
      "cell_type": "markdown",
      "metadata": {
        "id": "xJ7sRKqXf0qu"
      },
      "source": [
        "### Reducciones Básicas"
      ]
    },
    {
      "cell_type": "code",
      "metadata": {
        "id": "IVqxtlldgAyQ",
        "colab": {
          "base_uri": "https://localhost:8080/",
          "height": 35
        },
        "outputId": "b640f8b1-6076-4d98-c5d6-f3d1337aa526"
      },
      "source": [
        "vector = np.random.randint(0,100,10)\n",
        "print(vector)"
      ],
      "execution_count": null,
      "outputs": [
        {
          "output_type": "stream",
          "text": [
            "[ 0 44 68 14  4  6 42 73 44 90]\n"
          ],
          "name": "stdout"
        }
      ]
    },
    {
      "cell_type": "markdown",
      "metadata": {
        "id": "GET92RsZgXXH"
      },
      "source": [
        "**Máximo**"
      ]
    },
    {
      "cell_type": "code",
      "metadata": {
        "id": "CsTEuJ08GGa2",
        "colab": {
          "base_uri": "https://localhost:8080/",
          "height": 35
        },
        "outputId": "0f40991d-c748-41cb-a012-1631d0b04a95"
      },
      "source": [
        "np.max(vector) # igual que arr.max()"
      ],
      "execution_count": null,
      "outputs": [
        {
          "output_type": "execute_result",
          "data": {
            "text/plain": [
              "90"
            ]
          },
          "metadata": {
            "tags": []
          },
          "execution_count": 168
        }
      ]
    },
    {
      "cell_type": "markdown",
      "metadata": {
        "id": "FBJGN-V2gbwg"
      },
      "source": [
        "**Mínimo**"
      ]
    },
    {
      "cell_type": "code",
      "metadata": {
        "id": "ju8ss66IgaW6",
        "colab": {
          "base_uri": "https://localhost:8080/",
          "height": 35
        },
        "outputId": "7239acac-4b14-4654-e08d-d2382d66f0b3"
      },
      "source": [
        "np.min(vector)"
      ],
      "execution_count": null,
      "outputs": [
        {
          "output_type": "execute_result",
          "data": {
            "text/plain": [
              "0"
            ]
          },
          "metadata": {
            "tags": []
          },
          "execution_count": 169
        }
      ]
    },
    {
      "cell_type": "markdown",
      "metadata": {
        "id": "tqPtnOUqgpRj"
      },
      "source": [
        "**Suma de todos los elementos**"
      ]
    },
    {
      "cell_type": "code",
      "metadata": {
        "id": "tT8OIx4Nf3vC",
        "colab": {
          "base_uri": "https://localhost:8080/",
          "height": 35
        },
        "outputId": "85ae4f18-a799-4fee-bc4b-2931719ced6a"
      },
      "source": [
        "np.sum(vector)"
      ],
      "execution_count": null,
      "outputs": [
        {
          "output_type": "execute_result",
          "data": {
            "text/plain": [
              "385"
            ]
          },
          "metadata": {
            "tags": []
          },
          "execution_count": 170
        }
      ]
    },
    {
      "cell_type": "markdown",
      "metadata": {
        "id": "u_dCq06zgzi8"
      },
      "source": [
        "**Promedio**"
      ]
    },
    {
      "cell_type": "code",
      "metadata": {
        "id": "-s0uFcQLgtFT",
        "colab": {
          "base_uri": "https://localhost:8080/",
          "height": 35
        },
        "outputId": "f41ef5a5-fdec-4e3e-deef-01cb1b29a438"
      },
      "source": [
        "np.average(vector)"
      ],
      "execution_count": null,
      "outputs": [
        {
          "output_type": "execute_result",
          "data": {
            "text/plain": [
              "38.5"
            ]
          },
          "metadata": {
            "tags": []
          },
          "execution_count": 171
        }
      ]
    },
    {
      "cell_type": "markdown",
      "metadata": {
        "id": "6eTMqTDPg2NP"
      },
      "source": [
        "**Desviación estándar**"
      ]
    },
    {
      "cell_type": "code",
      "metadata": {
        "id": "E5BVOiA-g56I",
        "colab": {
          "base_uri": "https://localhost:8080/",
          "height": 35
        },
        "outputId": "4a1f0288-c8ec-40aa-acce-11ccbc75e19a"
      },
      "source": [
        "np.std(vector)"
      ],
      "execution_count": null,
      "outputs": [
        {
          "output_type": "execute_result",
          "data": {
            "text/plain": [
              "30.19023020780067"
            ]
          },
          "metadata": {
            "tags": []
          },
          "execution_count": 172
        }
      ]
    },
    {
      "cell_type": "markdown",
      "metadata": {
        "id": "s10bfX5IpiXa"
      },
      "source": [
        "## Iterando sobre arreglos"
      ]
    },
    {
      "cell_type": "code",
      "metadata": {
        "id": "StsMzS2_piXb",
        "colab": {
          "base_uri": "https://localhost:8080/",
          "height": 35
        },
        "outputId": "a5b84662-074c-4a3d-a1a5-5cae848995b9"
      },
      "source": [
        "# Arreglo 1-D\n",
        "arr = np.arange(0,4)\n",
        "arr"
      ],
      "execution_count": null,
      "outputs": [
        {
          "output_type": "execute_result",
          "data": {
            "text/plain": [
              "array([0, 1, 2, 3])"
            ]
          },
          "metadata": {
            "tags": []
          },
          "execution_count": 173
        }
      ]
    },
    {
      "cell_type": "code",
      "metadata": {
        "id": "FDM3IUb3piXd",
        "colab": {
          "base_uri": "https://localhost:8080/",
          "height": 87
        },
        "outputId": "4cccdb64-2733-4c0c-9e96-01df7b22adea"
      },
      "source": [
        "# Iterando sobre un arreglo unidimensional\n",
        "for item in arr:\n",
        "    print(item)"
      ],
      "execution_count": null,
      "outputs": [
        {
          "output_type": "stream",
          "text": [
            "0\n",
            "1\n",
            "2\n",
            "3\n"
          ],
          "name": "stdout"
        }
      ]
    },
    {
      "cell_type": "code",
      "metadata": {
        "id": "yI_GxyfDpiXg",
        "colab": {
          "base_uri": "https://localhost:8080/",
          "height": 52
        },
        "outputId": "f0cc71fa-07a1-41cd-fafe-a1bbeadbcbb5"
      },
      "source": [
        "# Arreglo 2-D\n",
        "arr = np.arange(0,4).reshape(2,2)\n",
        "arr"
      ],
      "execution_count": null,
      "outputs": [
        {
          "output_type": "execute_result",
          "data": {
            "text/plain": [
              "array([[0, 1],\n",
              "       [2, 3]])"
            ]
          },
          "metadata": {
            "tags": []
          },
          "execution_count": 176
        }
      ]
    },
    {
      "cell_type": "code",
      "metadata": {
        "id": "Af06e2ekpiXi",
        "colab": {
          "base_uri": "https://localhost:8080/",
          "height": 52
        },
        "outputId": "c15d6a23-4ec4-483d-d1f6-626ad90f7eb5"
      },
      "source": [
        "# Iterando por filas sobre un arreglo 2-D\n",
        "for fila in arr:\n",
        "    print(fila)"
      ],
      "execution_count": null,
      "outputs": [
        {
          "output_type": "stream",
          "text": [
            "[0 1]\n",
            "[2 3]\n"
          ],
          "name": "stdout"
        }
      ]
    },
    {
      "cell_type": "code",
      "metadata": {
        "id": "Kp0z1Y_NpiXk",
        "colab": {
          "base_uri": "https://localhost:8080/",
          "height": 87
        },
        "outputId": "dd637b64-03f3-4476-c5ae-646440bf9538"
      },
      "source": [
        "# Si se quiere hacer una operación sobre cada uno de los valores, es necesario usar la propiedad \"flat\"\n",
        "for fila in arr.flat:\n",
        "    print(fila)"
      ],
      "execution_count": null,
      "outputs": [
        {
          "output_type": "stream",
          "text": [
            "0\n",
            "1\n",
            "2\n",
            "3\n"
          ],
          "name": "stdout"
        }
      ]
    },
    {
      "cell_type": "code",
      "metadata": {
        "id": "5zVVQi6mlIbi",
        "colab": {
          "base_uri": "https://localhost:8080/",
          "height": 173
        },
        "outputId": "af0faee3-345b-4b36-8c50-35bc2367a145"
      },
      "source": [
        "# Iterar sobre el par de coordenadas x,y\n",
        "a = np.array([[1,2],[3,4],[5,6]])\n",
        "print(a)\n",
        "for index, value in np.ndenumerate(a):\n",
        "  print('index:',index,', value: ',value)"
      ],
      "execution_count": null,
      "outputs": [
        {
          "output_type": "stream",
          "text": [
            "[[1 2]\n",
            " [3 4]\n",
            " [5 6]]\n",
            "index: (0, 0) , value:  1\n",
            "index: (0, 1) , value:  2\n",
            "index: (1, 0) , value:  3\n",
            "index: (1, 1) , value:  4\n",
            "index: (2, 0) , value:  5\n",
            "index: (2, 1) , value:  6\n"
          ],
          "name": "stdout"
        }
      ]
    },
    {
      "cell_type": "markdown",
      "metadata": {
        "id": "mhLFZCX9piXl"
      },
      "source": [
        "**Consultar más info: https://docs.scipy.org/doc/numpy/user/quickstart.html**"
      ]
    }
  ]
}